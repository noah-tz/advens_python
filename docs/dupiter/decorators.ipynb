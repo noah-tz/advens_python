{
 "cells": [
  {
   "cell_type": "code",
   "execution_count": null,
   "metadata": {},
   "outputs": [],
   "source": [
    "def shout(text):\n",
    "    return text.upper()\n",
    "\n",
    "print(shout('Hello'))\n",
    "print(type(shout))\n",
    "yell = shout\n",
    "print(yell('Hello'))"
   ]
  },
  {
   "cell_type": "code",
   "execution_count": null,
   "metadata": {},
   "outputs": [],
   "source": [
    "#function objects can be passed as arguments to other functions\n",
    "\n",
    "#2\n",
    "\n",
    "def shout(text):\n",
    "    return text.upper()\n",
    "\n",
    "def whisper(text):\n",
    "    return text.lower()\n",
    "\n",
    "def greet(func):\n",
    "    greeting = func(\"\"\"Hi, I am created by a function passed as an argument.\"\"\")\n",
    "    print (greeting)\n",
    "\n",
    "greet(shout)\n",
    "greet(whisper)"
   ]
  },
  {
   "cell_type": "code",
   "execution_count": null,
   "metadata": {
    "tags": []
   },
   "outputs": [],
   "source": [
    "# Functions can return another function\n",
    "# we create a function inside of another function and then return the function created inside\n",
    "\n",
    "#3\n",
    "\n",
    "def create_adder(x):\n",
    "    def adder(y):\n",
    "        return x+y\n",
    "    return adder\n",
    "\n",
    "add_15 = create_adder(15)\n",
    "print(add_15(10))\n",
    "\n",
    "\n",
    "# Wrappers around the functions are also knows as decorators which are a very powerful and\n",
    "# useful tool in Python since it allows programmers to modify the behavior of function or\n",
    "# class. Decorators allow us to wrap another function in order to extend the behavior of the\n",
    "# wrapped function, without permanently modifying it. In Decorators, functions are taken as\n",
    "# the argument into another function and then called inside the wrapper function."
   ]
  },
  {
   "cell_type": "code",
   "execution_count": null,
   "metadata": {},
   "outputs": [],
   "source": [
    "#4:\n",
    "\n",
    "def hello_decorator(func):\n",
    "\n",
    "    def inner1():\n",
    "        print(\"Hello, this is before function execution\")\n",
    "        func()\n",
    "\n",
    "        print(\"This is after function execution\")\n",
    "    return inner1\n",
    "\n",
    "\n",
    "def function_to_be_used():\n",
    "    print(\"This is inside the function !!\")\n",
    "\n",
    "func_obj = hello_decorator(function_to_be_used)\n",
    "\n",
    "\n",
    "func_obj()"
   ]
  },
  {
   "cell_type": "code",
   "execution_count": null,
   "metadata": {},
   "outputs": [],
   "source": [
    "#5\n",
    "\n",
    "#if we know the input of a function, we can give specific arguments to the :\n",
    "#inner function\n",
    "\n",
    "def twice(func):\n",
    "    def inner(n):\n",
    "        return func(func(n))\n",
    "    return inner\n",
    "\n",
    "def squarer(n):\n",
    "    return n**2\n",
    "\n",
    "\n",
    "twicer = twice(squarer)\n",
    "print(twicer(3))"
   ]
  },
  {
   "cell_type": "code",
   "execution_count": null,
   "metadata": {},
   "outputs": [],
   "source": [
    "import time\n",
    "\n",
    "#5:\n",
    "def timush(func):\n",
    "    def inner(*args, **kwargs):\n",
    "        print(\"I am going to run\",func.__name__,\"function\")\n",
    "        start = time.time()\n",
    "        print(func(*args, **kwargs))\n",
    "        end = time.time()\n",
    "        print(\"the function\",func.__name__, \"took \", end-start, \"seconds to calculate!\")\n",
    "        print(\"Bye bye\")\n",
    "    return inner\n",
    "    \n",
    "def summer(a,b):\n",
    "    return a+b\n",
    "\n",
    "funcer = timush(summer)\n",
    "funcer(4,7)"
   ]
  },
  {
   "cell_type": "code",
   "execution_count": null,
   "metadata": {},
   "outputs": [],
   "source": [
    "#6:\n",
    "#using the wrapper from #5 as a decorator\n",
    "#decorators are used to modify the behaviour of function or class.\n",
    "#In Decorators, functions are taken as the argument into another function and\n",
    "#then called inside the wrapper function\n",
    "\n",
    "@timush\n",
    "def countdown(n):\n",
    "    while n>0:\n",
    "        n -= 1\n",
    "     \n",
    "print(\"now checking countdown\")\n",
    "countdown(10000000)"
   ]
  },
  {
   "cell_type": "code",
   "execution_count": null,
   "metadata": {},
   "outputs": [],
   "source": [
    "#7:\n",
    "#another example of using a decorator chaining\n",
    "def decor1(func):\n",
    "    def inner():\n",
    "        x = func()\n",
    "        return x * x\n",
    "    return inner\n",
    "\n",
    "def decor(func):\n",
    "    def inner():\n",
    "        x = func()\n",
    "        return 2 * x\n",
    "    return inner\n",
    "\n",
    "@decor1\n",
    "@decor\n",
    "def num():\n",
    "    return 10\n",
    "\n",
    "print(num())"
   ]
  }
 ],
 "metadata": {
  "kernelspec": {
   "display_name": "Python 3",
   "language": "python",
   "name": "python3"
  },
  "language_info": {
   "codemirror_mode": {
    "name": "ipython",
    "version": 3
   },
   "file_extension": ".py",
   "mimetype": "text/x-python",
   "name": "python",
   "nbconvert_exporter": "python",
   "pygments_lexer": "ipython3",
   "version": "3.10.6 (main, Nov 14 2022, 16:10:14) [GCC 11.3.0]"
  },
  "orig_nbformat": 4,
  "vscode": {
   "interpreter": {
    "hash": "916dbcbb3f70747c44a77c7bcd40155683ae19c65e1c03b4aa3499c5328201f1"
   }
  }
 },
 "nbformat": 4,
 "nbformat_minor": 2
}
