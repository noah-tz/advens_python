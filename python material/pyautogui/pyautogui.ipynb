{
 "cells": [
  {
   "cell_type": "code",
   "execution_count": 3,
   "metadata": {},
   "outputs": [
    {
     "name": "stdout",
     "output_type": "stream",
     "text": [
      "starting\n",
      "starting\n"
     ]
    },
    {
     "data": {
      "text/plain": [
       "True"
      ]
     },
     "execution_count": 3,
     "metadata": {},
     "output_type": "execute_result"
    }
   ],
   "source": [
    "import pyautogui as pya\n",
    "import time\n",
    "\n",
    "def snail_drawing(distance: int, space: float) -> bool:\n",
    "    print(\"starting\")\n",
    "    time.sleep(4)\n",
    "    while distance > 0:\n",
    "        pya.dragRel(distance, 0, 1, button=\"left\")\n",
    "        distance -= space\n",
    "        pya.dragRel(0, distance, 1, button=\"left\")\n",
    "        pya.dragRel(-distance, 0, 1, button=\"left\")\n",
    "        distance -= space\n",
    "        pya.dragRel(0, -distance, 1, button=\"left\")\n",
    "time.sleep(3)\n",
    "snail_drawing(300, 10)\n",
    "time.sleep(4)\n",
    "snail_drawing(300, 5)\n"
   ]
  }
 ],
 "metadata": {
  "kernelspec": {
   "display_name": "Python 3",
   "language": "python",
   "name": "python3"
  },
  "language_info": {
   "codemirror_mode": {
    "name": "ipython",
    "version": 3
   },
   "file_extension": ".py",
   "mimetype": "text/x-python",
   "name": "python",
   "nbconvert_exporter": "python",
   "pygments_lexer": "ipython3",
   "version": "3.10.6"
  },
  "orig_nbformat": 4,
  "vscode": {
   "interpreter": {
    "hash": "97cc609b13305c559618ec78a438abc56230b9381f827f22d070313b9a1f3777"
   }
  }
 },
 "nbformat": 4,
 "nbformat_minor": 2
}
