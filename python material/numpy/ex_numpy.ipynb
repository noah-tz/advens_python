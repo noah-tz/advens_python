{
 "cells": [
  {
   "cell_type": "code",
   "execution_count": null,
   "metadata": {},
   "outputs": [],
   "source": [
    "\"\"\"Exercise 1: Create a 4X2 integer array and Prints its attributes\n",
    "Note: The element must be a type of unsigned int16. And print the following Attributes: \n",
    "- The shape of an array.\n",
    "- Array dimensions.\n",
    "- The Length of each element of the array in bytes.\n",
    "\n",
    "OUTPUT:\n",
    "Printing Array\n",
    "[[ 5283  4711]\n",
    " [ 6107 29791]\n",
    " [48171 63864]\n",
    " [41893 58174]]\n",
    "Printing numpy array Attributes\n",
    "1> Array Shape is:  (4, 2)\n",
    "2>. Array dimensions are  2\n",
    "3>. Length of each element of array in bytes is  2\n",
    "\"\"\"\n",
    "\n",
    "import random\n",
    "import numpy as np\n",
    "\n",
    "def matrix_int16():\n",
    "    mat = np.random.randint(0, 65536, size= (4, 2), dtype=np.uint16)\n",
    "    print(mat)\n",
    "    print(mat.shape)\n",
    "\n",
    "matrix_int16()\n"
   ]
  },
  {
   "cell_type": "code",
   "execution_count": 21,
   "metadata": {},
   "outputs": [
    {
     "name": "stdout",
     "output_type": "stream",
     "text": [
      "[[100 110]\n",
      " [120 130]\n",
      " [140 150]\n",
      " [160 170]\n",
      " [180 190]]\n"
     ]
    }
   ],
   "source": [
    "\"\"\"Exercise 2: Create a 5X2 integer array from a range between 100 to 200 such that the difference between each element is 10\n",
    "Hint: numpy.arange\n",
    "\n",
    "OUTPUT:\n",
    "[[100 110]\n",
    " [120 130]\n",
    " [140 150]\n",
    " [160 170]\n",
    " [180 190]]\n",
    "\"\"\"\n",
    "\n",
    "def mat_arange():\n",
    "    mat = np.arange(100, 191, 10).reshape(5, 2)\n",
    "    print(mat)\n",
    "\n",
    "mat_arange()\n",
    "\n",
    "\n"
   ]
  },
  {
   "cell_type": "code",
   "execution_count": 26,
   "metadata": {},
   "outputs": [
    {
     "name": "stdout",
     "output_type": "stream",
     "text": [
      "[33 66 99]\n"
     ]
    }
   ],
   "source": [
    "\"\"\"Exercise 3: Following is the provided numPy array. Return array of items by taking the third column from all rows\n",
    "sampleArray = numpy.array([[11 ,22, 33], [44, 55, 66], [77, 88, 99]])\n",
    "\n",
    "OUTPUT:\n",
    "[33 66 99]\n",
    "\"\"\"\n",
    "\n",
    "import numpy as np\n",
    "def ex3(mat):\n",
    "    return mat[:,-1]\n",
    "\n",
    "print(ex3(np.array([[11 ,22, 33], [44, 55, 66], [77, 88, 99]])))"
   ]
  },
  {
   "cell_type": "code",
   "execution_count": 27,
   "metadata": {},
   "outputs": [
    {
     "name": "stdout",
     "output_type": "stream",
     "text": [
      "[[20 39 33]\n",
      " [25 25 28]]\n",
      "[[ 400 1521 1089]\n",
      " [ 625  625  784]]\n"
     ]
    }
   ],
   "source": [
    "\"\"\"Exercise 5: Create a result array by adding the following two NumPy arrays. Next, modify the result array by calculating the square of each element\n",
    "arrayOne = ([[5, 6, 9], [21 ,18, 27]])\n",
    "arrayTwo = ([[15 ,33, 24], [4 ,7, 1]])\n",
    "\n",
    "OUTPUT:\n",
    "addition of two arrays is \n",
    "[[20 39 33]\n",
    " [25 25 28]]\n",
    "\n",
    "Result array after calculating the square root of all elements\n",
    "[[ 400 1521 1089]\n",
    " [ 625  625  784]]\n",
    "\"\"\"\n",
    "\n",
    "def ex5(np1, np2):\n",
    "    add = np1 + np2\n",
    "    print(add)\n",
    "    print(add ** 2)\n",
    "\n",
    "ex5(np.array([[5, 6, 9], [21 ,18, 27]]), np.array([[15 ,33, 24], [4 ,7, 1]]))\n"
   ]
  },
  {
   "cell_type": "code",
   "execution_count": 29,
   "metadata": {},
   "outputs": [
    {
     "name": "stdout",
     "output_type": "stream",
     "text": [
      "[[10 11 12]\n",
      " [13 14 15]\n",
      " [16 17 18]\n",
      " [19 20 21]\n",
      " [22 23 24]\n",
      " [25 26 27]\n",
      " [28 29 30]\n",
      " [31 32 33]] \n",
      "\n",
      "\n",
      "[array([[10, 11, 12],\n",
      "       [13, 14, 15]]), array([[16, 17, 18],\n",
      "       [19, 20, 21]]), array([[22, 23, 24],\n",
      "       [25, 26, 27]]), array([[28, 29, 30],\n",
      "       [31, 32, 33]])]\n"
     ]
    }
   ],
   "source": [
    "\"\"\"Exercise 6: Split the array into four equal-sized sub-arrays\n",
    "Hint: numpy.arange\n",
    "\n",
    "OUTPUT:\n",
    "Creating 8X3 array \n",
    "[[10 11 12]\n",
    " [13 14 15]\n",
    " [16 17 18]\n",
    " [19 20 21]\n",
    " [22 23 24]\n",
    " [25 26 27]\n",
    " [28 29 30]\n",
    " [31 32 33]]\n",
    "\n",
    "Dividing 8X3 array into 4 sub array\n",
    "[array([[10, 11, 12],\n",
    "       [13, 14, 15]]), array([[16, 17, 18],\n",
    "       [19, 20, 21]]), array([[22, 23, 24],\n",
    "       [25, 26, 27]]), array([[28, 29, 30],\n",
    "       [31, 32, 33]])]\n",
    "\"\"\"\n",
    "\n",
    "def ex6(mat):\n",
    "       return np.split(mat, 4)\n",
    "\n",
    "\n",
    "mat = np.array([[10, 11, 12],\n",
    "                [13, 14, 15],\n",
    "                [16, 17, 18],\n",
    "                [19, 20, 21],\n",
    "                [22, 23, 24],\n",
    "                [25, 26, 27],\n",
    "                [28, 29, 30],\n",
    "                [31, 32, 33]])\n",
    "print(mat, '\\n\\n')\n",
    "print(ex6(mat))"
   ]
  },
  {
   "cell_type": "code",
   "execution_count": 4,
   "metadata": {},
   "outputs": [
    {
     "name": "stdout",
     "output_type": "stream",
     "text": [
      "[[73 43 34]\n",
      " [12 22 82]\n",
      " [66 94 53]] \n",
      "\n",
      "[[82 22 12]\n",
      " [34 43 73]\n",
      " [53 94 66]]\n"
     ]
    }
   ],
   "source": [
    "\"\"\"Exercise 7: Sort following NumPy array\n",
    "Case 1: Sort array by the second row\n",
    "Case 2: Sort the array by the second column\n",
    "\n",
    "OUTPUT:\n",
    "Printing Original array\n",
    "[[34 43 73]\n",
    " [82 22 12]\n",
    " [53 94 66]]\n",
    "Sorting Original array by secoond row\n",
    "[[73 43 34]\n",
    " [12 22 82]\n",
    " [66 94 53]]\n",
    "Sorting Original array by secoond column\n",
    "[[82 22 12]\n",
    " [34 43 73]\n",
    " [53 94 66]]\n",
    "\"\"\"\n",
    "def ex7(mat_np):\n",
    "    return mat_np[:,mat_np[1, :].argsort()], mat_np[mat_np[:, 1].argsort()]\n",
    "\n",
    "mat = np.array([[34, 43, 73],\n",
    "                [82, 22, 12],\n",
    "                [53, 94, 66]])\n",
    "print(ex7(mat)[0], '\\n')\n",
    "print(ex7(mat)[1])"
   ]
  },
  {
   "cell_type": "code",
   "execution_count": 39,
   "metadata": {},
   "outputs": [
    {
     "name": "stdout",
     "output_type": "stream",
     "text": [
      "[[34 43 73]\n",
      " [82 22 12]\n",
      " [53 94 66]]\n",
      "[[34 73]\n",
      " [82 12]\n",
      " [53 66]]\n",
      "[[34 10 73]\n",
      " [82 10 12]\n",
      " [53 10 66]]\n"
     ]
    }
   ],
   "source": [
    "\"\"\"Exercise 9: Delete the second column from a given array and insert the following new column in its place.\n",
    "\n",
    "OUTPUT:\n",
    "Printing Original array\n",
    "[[34 43 73]\n",
    " [82 22 12]\n",
    " [53 94 66]]\n",
    "Array after deleting column 2 on axis 1\n",
    "[[34 73]\n",
    " [82 12]\n",
    " [53 66]]\n",
    "Array after inserting column 2 on axis 1\n",
    "[[34 10 73]\n",
    " [82 10 12]\n",
    " [53 10 66]]\n",
    "\"\"\"\n",
    "def ex9(mat):\n",
    "    print(mat)\n",
    "    mat = np.delete(mat, 1, 1)\n",
    "    print(mat)\n",
    "    mat = np.insert(mat, 1, 10, 1)\n",
    "    print(mat)\n",
    "    return mat\n",
    "\n",
    "ex9(np.array([[34, 43, 73],\n",
    "              [82, 22, 12],\n",
    "              [53, 94, 66]]))"
   ]
  },
  {
   "cell_type": "code",
   "execution_count": 6,
   "metadata": {},
   "outputs": [
    {
     "name": "stdout",
     "output_type": "stream",
     "text": [
      "[[34 43 73]\n",
      " [82 22 12]\n",
      " [53 94 66]]\n",
      "[[34 73]\n",
      " [82 12]\n",
      " [53 66]]\n",
      "[[34 10 73]\n",
      " [82 10 12]\n",
      " [53 10 66]]\n"
     ]
    },
    {
     "data": {
      "image/png": "[encoded data removed]",
      "text/plain": [
       "<Figure size 480x480 with 1 Axes>"
      ]
     },
     "metadata": {},
     "output_type": "display_data"
    }
   ],
   "source": [
    "\"\"\"Exercise 10: Create two 2-D arrays and Plot them using matplotlib\n",
    "Hint: matshow\n",
    "\n",
    "OUTPUT:\n",
    "Printing Original array\n",
    "[[34 43 73]\n",
    " [82 22 12]\n",
    " [53 94 66]]\n",
    "Array after deleting column 2 on axis 1\n",
    "[[34 73]\n",
    " [82 12]\n",
    " [53 66]]\n",
    "Array after inserting column 2 on axis 1\n",
    "[[34 10 73]\n",
    " [82 10 12]\n",
    " [53 10 66]]\n",
    "\"\"\"\n",
    "\n",
    "def ex10(mat):\n",
    "    print(mat)\n",
    "    mat = np.delete(mat, 1, 1)\n",
    "    print(mat)\n",
    "    mat = np.insert(mat, 1, 10, 1)\n",
    "    print(mat)\n",
    "    return mat\n",
    "import numpy as np\n",
    "import matplotlib.pyplot as plt\n",
    "%matplotlib inline\n",
    "plt.style.use('fivethirtyeight') # seaborn fivethirtyeight\n",
    "\n",
    "plt.matshow(ex10(np.array([[34, 43, 73],\n",
    "                           [82, 22, 12],\n",
    "                           [53, 94, 66]])))\n",
    "plt.show()\n",
    "\n",
    "\n",
    "\n",
    "\n",
    "\n"
   ]
  }
 ],
 "metadata": {
  "kernelspec": {
   "display_name": "Python 3",
   "language": "python",
   "name": "python3"
  },
  "language_info": {
   "codemirror_mode": {
    "name": "ipython",
    "version": 3
   },
   "file_extension": ".py",
   "mimetype": "text/x-python",
   "name": "python",
   "nbconvert_exporter": "python",
   "pygments_lexer": "ipython3",
   "version": "3.10.6"
  },
  "orig_nbformat": 4,
  "vscode": {
   "interpreter": {
    "hash": "8a94588eda9d64d9e9a351ab8144e55b1fabf5113b54e67dd26a8c27df0381b3"
   }
  }
 },
 "nbformat": 4,
 "nbformat_minor": 2
}
