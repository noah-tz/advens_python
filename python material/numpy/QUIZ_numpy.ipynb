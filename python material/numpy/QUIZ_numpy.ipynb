{
 "cells": [
  {
   "cell_type": "code",
   "execution_count": 1,
   "metadata": {},
   "outputs": [
    {
     "name": "stdout",
     "output_type": "stream",
     "text": [
      "[  1   7  13 105]\n"
     ]
    }
   ],
   "source": [
    "\"\"\"(1) Write a NumPy program to create an array with the values 1, 7, 13, 105 and determine the size of the memory occupied by the array.\n",
    "\n",
    "OUTPUT:\n",
    "Original array: [  1   7  13 105]\n",
    "Size of the memory occupied by the said array: 16 bytes\n",
    "\"\"\"\n",
    "import numpy as np\n",
    "\n",
    "mat = np.array([1, 7, 13, 105], dtype = np.uint16)\n",
    "print(mat)\n"
   ]
  },
  {
   "cell_type": "code",
   "execution_count": 2,
   "metadata": {},
   "outputs": [
    {
     "name": "stdout",
     "output_type": "stream",
     "text": [
      "[0. 0. 0. 0. 0. 0. 0. 0. 0. 0.]\n",
      "[1. 1. 1. 1. 1. 1. 1. 1. 1. 1.]\n",
      "[1. 1. 1. 1. 1. 1. 1. 1. 1. 1.]\n"
     ]
    }
   ],
   "source": [
    "\"\"\"(2)  Write a NumPy program to create an array of 10 zeros, 10 ones, 10 fives.\n",
    "\n",
    "OUTPUT:\n",
    "An array of 10 zeros:\n",
    "[ 0.  0.  0.  0.  0.  0.  0.  0.  0.  0.]\n",
    "An array of 10 ones:\n",
    "[ 1.  1.  1.  1.  1.  1.  1.  1.  1.  1.]\n",
    "An array of 10 fives:\n",
    "[ 5.  5.  5.  5.  5.  5.  5.  5.  5.  5.]     \n",
    "\"\"\"\n",
    "mat = np.zeros(10)\n",
    "print(mat)\n",
    "mat = np.ones(10)\n",
    "print(mat)\n",
    "nat = np.ones(10) * 5\n",
    "print(mat)\n"
   ]
  },
  {
   "cell_type": "code",
   "execution_count": 4,
   "metadata": {},
   "outputs": [
    {
     "data": {
      "text/plain": [
       "array([ 0.07161247,  0.36817321,  0.39929356,  0.85874997, -0.17992893,\n",
       "        1.25214188,  0.29121197, -0.04747594, -0.80767393,  1.19162249,\n",
       "       -1.58224808, -1.49839142,  1.05886656,  0.50169751, -0.62162342])"
      ]
     },
     "execution_count": 4,
     "metadata": {},
     "output_type": "execute_result"
    }
   ],
   "source": [
    "\"\"\"(3) Write a NumPy program to generate an array of 15 random numbers from a standard normal distribution.\n",
    "\n",
    "OUTPUT:\n",
    "15 random numbers from a standard normal distribution:\n",
    "[ 0.53846169  2.09449415  2.01629186 -0.3256968  -0.01330516  1.12115378\n",
    "  0.69266383 -1.09772731 -2.29868014  1.68440454 -0.47930023  0.85485553\n",
    " -1.16137237 -0.5739729  -1.06949766]\n",
    "\"\"\"\n",
    "\n",
    "mat = np.random.normal(loc=0, scale=1, size=15)\n",
    "mat\n"
   ]
  },
  {
   "cell_type": "code",
   "execution_count": 8,
   "metadata": {},
   "outputs": [
    {
     "data": {
      "text/plain": [
       "array([[10, 11, 12, 13],\n",
       "       [14, 15, 16, 17],\n",
       "       [18, 19, 20, 21]])"
      ]
     },
     "execution_count": 8,
     "metadata": {},
     "output_type": "execute_result"
    }
   ],
   "source": [
    "\"\"\"(4) Write a NumPy program to create a 3x4 matrix filled with values from 10 to 21.\n",
    "\n",
    "OUTPUT:\n",
    "[[10 11 12 13]\n",
    " [14 15 16 17]\n",
    " [18 19 20 21]]\n",
    "\"\"\"\n",
    "mat = np.arange(10, 22).reshape(3, 4)\n",
    "mat\n"
   ]
  },
  {
   "cell_type": "code",
   "execution_count": 14,
   "metadata": {},
   "outputs": [
    {
     "name": "stdout",
     "output_type": "stream",
     "text": [
      "original mat is \n",
      "[[12 13  6  8]\n",
      " [14 13  1 12]\n",
      " [10  1  9  9]\n",
      " [ 3  4  0 10]]\n",
      "array after change is \n",
      "[[ 3  4  0 10]\n",
      " [14 13  1 12]\n",
      " [10  1  9  9]\n",
      " [12 13  6  8]]\n"
     ]
    }
   ],
   "source": [
    "\"\"\"(5) Write a NumPy program to create a 4x4 array with random values, now create a new array from the said array swapping first and last rows.\n",
    "\n",
    "OUTPUT:\n",
    "Original array:\n",
    "[[ 0  1  2  3]\n",
    " [ 4  5  6  7]\n",
    " [ 8  9 10 11]\n",
    " [12 13 14 15]]\n",
    "\n",
    "New array after swapping first and last rows of the said array:\n",
    "[[12 13 14 15]\n",
    " [ 4  5  6  7]\n",
    " [ 8  9 10 11]\n",
    " [ 0  1  2  3]]\n",
    "\"\"\"\n",
    "\n",
    "mat = np.random.randint(0, 16, size=(4, 4))\n",
    "print(f\"original mat is \\n{mat}\")\n",
    "mat[[0,-1],:]=mat[[-1,0],:]\n",
    "print(f\"array after change is \\n{mat}\")\n"
   ]
  },
  {
   "cell_type": "code",
   "execution_count": 21,
   "metadata": {},
   "outputs": [
    {
     "data": {
      "text/plain": [
       "array([5.54, 7.99, 6.99, 9.29])"
      ]
     },
     "execution_count": 21,
     "metadata": {},
     "output_type": "execute_result"
    }
   ],
   "source": [
    "\"\"\"(6) Write a NumPy program to extract all numbers from a given array which are less and greater than a specified number.\n",
    "\n",
    "OUTPUT:\n",
    "Original array:\n",
    "[[5.54 3.38 7.99]\n",
    " [3.54 4.38 6.99]\n",
    " [1.54 2.39 9.29]]\n",
    "\n",
    "Elements of the said array greater than 5\n",
    "[5.54 7.99 6.99 9.29]\n",
    "\n",
    "Elements of the said array less than 6\n",
    "[5.54 3.38 3.54 4.38 1.54 2.39]\n",
    "\"\"\"\n",
    "\n",
    "mat = np.array([[5.54, 3.38, 7.99],\n",
    "                [3.54, 4.38, 6.99],\n",
    "                [1.54, 2.39, 9.29]])\n",
    "list_ = []\n",
    "for row in mat:\n",
    "    list_.extend(col for col in row if col > 5)\n",
    "list_\n",
    "  "
   ]
  },
  {
   "cell_type": "code",
   "execution_count": 27,
   "metadata": {},
   "outputs": [
    {
     "name": "stdout",
     "output_type": "stream",
     "text": [
      "original array is \n",
      "[[10 40]\n",
      " [30 20]]\n",
      "\n",
      "array after sort, with axis = 0, is\n",
      "[[10 20]\n",
      " [30 40]]\n",
      "\n",
      "array after sort, with axis = 1, is\n",
      "[[10 20]\n",
      " [30 40]]\n",
      "\n",
      "array after sort, with axis = None, is\n",
      "[10 20 30 40]\n",
      "\n"
     ]
    }
   ],
   "source": [
    "\"\"\"(7) Write a NumPy program to sort a given array of shape 2 along the first axis, last axis and on flattened array.\n",
    "\n",
    "OUTPUT:\n",
    "Original array:\n",
    "[[10 40]\n",
    " [30 20]]\n",
    "Sort the array along the first axis:\n",
    "[[10 20]\n",
    " [30 40]]\n",
    "Sort the array along the last axis:\n",
    "[[10 40]\n",
    " [20 30]]\n",
    "Sort the flattened array:\n",
    "[10 20 30 40]\n",
    "\"\"\"\n",
    "\n",
    "mat = np.array([[10, 40],\n",
    "                [30, 20]])\n",
    "print(f\"original array is \\n{mat}\\n\")\n",
    "mat = np.sort(mat, axis=0)\n",
    "print(f\"array after sort, with axis = 0, is\\n{mat}\\n\")\n",
    "mat = np.sort(mat, axis=1)\n",
    "print(f\"array after sort, with axis = 1, is\\n{mat}\\n\")\n",
    "mat = np.sort(mat, axis=None)\n",
    "print(f\"array after sort, with axis = None, is\\n{mat}\\n\")\n",
    "\n",
    "\n"
   ]
  },
  {
   "cell_type": "code",
   "execution_count": 28,
   "metadata": {},
   "outputs": [
    {
     "name": "stdout",
     "output_type": "stream",
     "text": [
      "original array is\n",
      "[[26 45 40]\n",
      " [39 19 41]\n",
      " [29 19 14]]\n",
      "\n",
      "array after sort \n",
      "[[39 19 41]\n",
      " [29 19 14]\n",
      " [26 45 40]]\n",
      "\n"
     ]
    }
   ],
   "source": [
    "\"\"\"(8) Write a NumPy program to sort an given array by the n-th column.\n",
    "\n",
    "OUTPUT:\n",
    "Original array:\n",
    "\n",
    "[[26 45 40]\n",
    " [39 19 41]\n",
    " [29 19 14]]\n",
    "\n",
    "Sort the said array by the nth column: \n",
    "[[39 19 41]\n",
    " [29 19 14]\n",
    " [26 45 40]]\n",
    "\"\"\"\n",
    "\n",
    "mat = np.array([[26, 45, 40],\n",
    "                [39, 19, 41],\n",
    "                [29, 19, 14]])\n",
    "print(f\"original array is\\n{mat}\\n\")\n",
    "mat = mat[mat[:,1].argsort()]\n",
    "print(f\"array after sort \\n{mat}\\n\")\n",
    "\n",
    "\n"
   ]
  }
 ],
 "metadata": {
  "kernelspec": {
   "display_name": "Python 3",
   "language": "python",
   "name": "python3"
  },
  "language_info": {
   "codemirror_mode": {
    "name": "ipython",
    "version": 3
   },
   "file_extension": ".py",
   "mimetype": "text/x-python",
   "name": "python",
   "nbconvert_exporter": "python",
   "pygments_lexer": "ipython3",
   "version": "3.11.1"
  },
  "orig_nbformat": 4,
  "vscode": {
   "interpreter": {
    "hash": "ead1b95f633dc9c51826328e1846203f51a198c6fb5f2884a80417ba131d4e82"
   }
  }
 },
 "nbformat": 4,
 "nbformat_minor": 2
}
