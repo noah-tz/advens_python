{
 "cells": [
  {
   "attachments": {},
   "cell_type": "markdown",
   "metadata": {},
   "source": [
    "# Interactive Spreadsheet in Jupyter Notebook using ipysheet\n"
   ]
  },
  {
   "attachments": {},
   "cell_type": "markdown",
   "metadata": {},
   "source": [
    "### 1. Basics \n"
   ]
  },
  {
   "attachments": {},
   "cell_type": "markdown",
   "metadata": {},
   "source": [
    "We are creating a simple sheet object which creates a sheet widget of 5 rows and 5 columns. Sheet widget created is interactive which lets us change the value of the cell as well. We can also call cell() method passing row, column and value for that cell and it'll reflect in that cell. "
   ]
  },
  {
   "cell_type": "code",
   "execution_count": 1,
   "metadata": {},
   "outputs": [
    {
     "data": {
      "application/vnd.jupyter.widget-view+json": {
       "model_id": "46a8daf3d5af4b548ca88afafde1124d",
       "version_major": 2,
       "version_minor": 0
      },
      "text/plain": [
       "Sheet(cells=(Cell(column_end=0, column_start=0, row_end=0, row_start=0, type='numeric', value=10), Cell(column…"
      ]
     },
     "execution_count": 1,
     "metadata": {},
     "output_type": "execute_result"
    }
   ],
   "source": [
    "\n",
    "import pandas as pd\n",
    "import numpy as np\n",
    "\n",
    "import ipysheet\n",
    "\n",
    "from ipysheet import sheet, cell\n",
    "\n",
    "sheet1 = sheet()\n",
    "\n",
    "cell(0,0,10)\n",
    "cell(1,1,100)\n",
    "cell(2,2,1000)\n",
    "cell(3,3,\"Hello\")\n",
    "\n",
    "sheet1"
   ]
  },
  {
   "attachments": {},
   "cell_type": "markdown",
   "metadata": {},
   "source": [
    "We can access all cell which has values by calling cells attribute of sheet object. We can even set this attribute passing list of cell objects and it'll override existing cells."
   ]
  },
  {
   "cell_type": "code",
   "execution_count": 2,
   "metadata": {},
   "outputs": [
    {
     "data": {
      "text/plain": [
       "(Cell(column_end=0, column_start=0, row_end=0, row_start=0, type='numeric', value=10),\n",
       " Cell(column_end=1, column_start=1, row_end=1, row_start=1, type='numeric', value=100),\n",
       " Cell(column_end=2, column_start=2, row_end=2, row_start=2, type='numeric', value=1000),\n",
       " Cell(column_end=3, column_start=3, type='text', value='Hello'))"
      ]
     },
     "execution_count": 2,
     "metadata": {},
     "output_type": "execute_result"
    }
   ],
   "source": [
    "sheet1.cells"
   ]
  },
  {
   "cell_type": "code",
   "execution_count": 3,
   "metadata": {},
   "outputs": [
    {
     "data": {
      "application/vnd.jupyter.widget-view+json": {
       "model_id": "d18989cd850f48d3acfb9c0b2c6c07cb",
       "version_major": 2,
       "version_minor": 0
      },
      "text/plain": [
       "Sheet(cells=(Cell(column_end=2, column_start=2, row_end=2, row_start=2, type='text', value='Hello World'), Cel…"
      ]
     },
     "execution_count": 3,
     "metadata": {},
     "output_type": "execute_result"
    }
   ],
   "source": [
    "sheet2 = sheet(rows= 3,columns= 3)\n",
    "\n",
    "sheet2.cells = [cell(2,2,\"Hello World\"), cell(1,2,\"100\")]\n",
    "\n",
    "sheet2\n"
   ]
  },
  {
   "cell_type": "code",
   "execution_count": 4,
   "metadata": {},
   "outputs": [
    {
     "data": {
      "application/vnd.jupyter.widget-view+json": {
       "model_id": "cdf0bc717aa846a8bb2a45d5a9a84dd7",
       "version_major": 2,
       "version_minor": 0
      },
      "text/plain": [
       "Sheet(cells=(Cell(column_end=0, column_start=0, row_end=4, row_start=0, squeeze_row=False, type='numeric', val…"
      ]
     },
     "execution_count": 4,
     "metadata": {},
     "output_type": "execute_result"
    }
   ],
   "source": [
    "from ipysheet import column, row\n",
    "x = np.random.rand(5)\n",
    "y = np.random.rand(5)\n",
    "\n",
    "sheet3= sheet(rows=5,columns=2)\n",
    "\n",
    "col1 = column(0,x)\n",
    "col2 = column(1,y)\n",
    "\n",
    "sheet3\n"
   ]
  },
  {
   "cell_type": "code",
   "execution_count": 5,
   "metadata": {},
   "outputs": [
    {
     "data": {
      "application/vnd.jupyter.widget-view+json": {
       "model_id": "9c1eaf2965524be38fad918557d10a0d",
       "version_major": 2,
       "version_minor": 0
      },
      "text/plain": [
       "Sheet(cells=(Cell(column_start=0, row_end=0, row_start=0, squeeze_column=False, type='numeric', value=array([0…"
      ]
     },
     "execution_count": 5,
     "metadata": {},
     "output_type": "execute_result"
    }
   ],
   "source": [
    "x = np.random.rand(5)\n",
    "y = np.random.rand(5)\n",
    "\n",
    "sheet4= sheet(rows=2,columns=5)\n",
    "\n",
    "row1 = row(0,x)\n",
    "row2 = row(1,y)\n",
    "\n",
    "sheet4"
   ]
  },
  {
   "attachments": {},
   "cell_type": "markdown",
   "metadata": {},
   "source": [
    "### 2. Calculations \n"
   ]
  },
  {
   "attachments": {},
   "cell_type": "markdown",
   "metadata": {},
   "source": [
    "We can even create functions that will be evaluated each time the value of a cell is changed and updates a cell to which function is linked. We can almost implement the same functionality as that of the excel sheet.\n",
    "\n",
    "\n",
    "Below we have created a simple multiplication function based on three cells which sum up the first two cells and then rise to the power of the third cell."
   ]
  },
  {
   "cell_type": "code",
   "execution_count": 6,
   "metadata": {},
   "outputs": [
    {
     "data": {
      "application/vnd.jupyter.widget-view+json": {
       "model_id": "545c9fd33c224234a9a9c8817aa6a5ea",
       "version_major": 2,
       "version_minor": 0
      },
      "text/plain": [
       "Sheet(cells=(Cell(column_end=1, column_start=1, row_end=0, row_start=0, type='numeric', value=1), Cell(column_…"
      ]
     },
     "execution_count": 6,
     "metadata": {},
     "output_type": "execute_result"
    }
   ],
   "source": [
    "import ipywidgets as widgets\n",
    "from ipysheet import calculation\n",
    "\n",
    "sheet5 = sheet(rows=4, columns=3)\n",
    "\n",
    "cell_x = cell(0, 1, 1, label_left='X')\n",
    "cell_y = cell(1, 1, 2, label_left='Y')\n",
    "cell_z = cell(2, 1, 3, label_left='Z')\n",
    "cell_sum = cell(3, 1, 3, label_left='Multiplication', read_only=True)\n",
    "\n",
    "@calculation(inputs=[cell_x, cell_y, cell_z], output=cell_sum)\n",
    "def calculate(x, y, z):\n",
    "    return (x + y)**z\n",
    "\n",
    "sheet5"
   ]
  },
  {
   "attachments": {},
   "cell_type": "markdown",
   "metadata": {},
   "source": [
    "another example below explains the calculation. We have also used sliders to change the value of cells so that we can test different values. We have used `ipywidgets` library to create `sliders`."
   ]
  },
  {
   "cell_type": "code",
   "execution_count": 7,
   "metadata": {},
   "outputs": [
    {
     "data": {
      "application/vnd.jupyter.widget-view+json": {
       "model_id": "caab91a08541460588c86a327cd142ae",
       "version_major": 2,
       "version_minor": 0
      },
      "text/plain": [
       "VBox(children=(Sheet(cells=(Cell(column_end=1, column_start=1, row_end=0, row_start=0, type='numeric', value=2…"
      ]
     },
     "execution_count": 7,
     "metadata": {},
     "output_type": "execute_result"
    }
   ],
   "source": [
    "from ipysheet import sheet, cell\n",
    "import ipywidgets as widgets\n",
    "from ipysheet import calculation\n",
    "\n",
    "sheet6 = sheet(rows=3, columns=3)\n",
    "\n",
    "cell_x = cell(0, 1, 2, label_left='X')\n",
    "cell_y = cell(1, 1, 4, label_left='Y')\n",
    "cell_sum = cell(2, 1, 3, label_left='Multiplication', read_only=True)\n",
    "\n",
    "# create a slider linked to cell a\n",
    "slider_x = widgets.FloatSlider(min=-10, max=10, description='line x')\n",
    "widgets.jslink((cell_x, 'value'), (slider_x, 'value'))\n",
    "\n",
    "slider_y = widgets.FloatSlider(min=-10, max=10, description='line y')\n",
    "widgets.jslink((cell_y, 'value'), (slider_y, 'value'))\n",
    "\n",
    "@calculation(inputs=[cell_x, cell_y], output=cell_sum)\n",
    "def calculate(x, y):\n",
    "    return x * y\n",
    "\n",
    "widgets.VBox([sheet6, slider_x,slider_y])"
   ]
  },
  {
   "attachments": {},
   "cell_type": "markdown",
   "metadata": {},
   "source": [
    "### 3. Sheet from Dataframe/Numpy and vice-versa \n"
   ]
  },
  {
   "attachments": {},
   "cell_type": "markdown",
   "metadata": {},
   "source": [
    "We can also create a sheet widget from the pandas dataframe as well as numpy 2D array as well. We can also create any of our sheet widget to `pandas dataframe` and `numpy array`. We'll explain below with few examples."
   ]
  },
  {
   "cell_type": "code",
   "execution_count": 8,
   "metadata": {},
   "outputs": [
    {
     "data": {
      "application/vnd.jupyter.widget-view+json": {
       "model_id": "897a9bab15a340218df0c11b7a10e21b",
       "version_major": 2,
       "version_minor": 0
      },
      "text/plain": [
       "Sheet(cells=(Cell(column_end=2, column_start=0, row_end=4, row_start=0, squeeze_column=False, squeeze_row=Fals…"
      ]
     },
     "execution_count": 8,
     "metadata": {},
     "output_type": "execute_result"
    }
   ],
   "source": [
    "random_data = np.random.rand(5,3)\n",
    "\n",
    "ipysheet.from_array(random_data)"
   ]
  },
  {
   "cell_type": "code",
   "execution_count": 9,
   "metadata": {},
   "outputs": [
    {
     "data": {
      "text/html": [
       "<div>\n",
       "<style scoped>\n",
       "    .dataframe tbody tr th:only-of-type {\n",
       "        vertical-align: middle;\n",
       "    }\n",
       "\n",
       "    .dataframe tbody tr th {\n",
       "        vertical-align: top;\n",
       "    }\n",
       "\n",
       "    .dataframe thead th {\n",
       "        text-align: right;\n",
       "    }\n",
       "</style>\n",
       "<table border=\"1\" class=\"dataframe\">\n",
       "  <thead>\n",
       "    <tr style=\"text-align: right;\">\n",
       "      <th></th>\n",
       "      <th>Col1</th>\n",
       "      <th>Col2</th>\n",
       "      <th>Col3</th>\n",
       "    </tr>\n",
       "  </thead>\n",
       "  <tbody>\n",
       "    <tr>\n",
       "      <th>0</th>\n",
       "      <td>0.806639</td>\n",
       "      <td>0.406753</td>\n",
       "      <td>0.743838</td>\n",
       "    </tr>\n",
       "    <tr>\n",
       "      <th>1</th>\n",
       "      <td>0.936577</td>\n",
       "      <td>0.780852</td>\n",
       "      <td>0.423444</td>\n",
       "    </tr>\n",
       "    <tr>\n",
       "      <th>2</th>\n",
       "      <td>0.232443</td>\n",
       "      <td>0.865300</td>\n",
       "      <td>0.455133</td>\n",
       "    </tr>\n",
       "    <tr>\n",
       "      <th>3</th>\n",
       "      <td>0.240872</td>\n",
       "      <td>0.992440</td>\n",
       "      <td>0.682473</td>\n",
       "    </tr>\n",
       "    <tr>\n",
       "      <th>4</th>\n",
       "      <td>0.342581</td>\n",
       "      <td>0.277897</td>\n",
       "      <td>0.826677</td>\n",
       "    </tr>\n",
       "  </tbody>\n",
       "</table>\n",
       "</div>"
      ],
      "text/plain": [
       "       Col1      Col2      Col3\n",
       "0  0.806639  0.406753  0.743838\n",
       "1  0.936577  0.780852  0.423444\n",
       "2  0.232443  0.865300  0.455133\n",
       "3  0.240872  0.992440  0.682473\n",
       "4  0.342581  0.277897  0.826677"
      ]
     },
     "execution_count": 9,
     "metadata": {},
     "output_type": "execute_result"
    }
   ],
   "source": [
    "df = pd.DataFrame(random_data, columns=[\"Col1\", \"Col2\", \"Col3\"])\n",
    "df"
   ]
  },
  {
   "cell_type": "code",
   "execution_count": 10,
   "metadata": {},
   "outputs": [
    {
     "data": {
      "application/vnd.jupyter.widget-view+json": {
       "model_id": "c96d840bd7434a328bfd4f2cab867056",
       "version_major": 2,
       "version_minor": 0
      },
      "text/plain": [
       "Sheet(cells=(Cell(column_end=0, column_start=0, row_end=4, row_start=0, squeeze_row=False, type='numeric', val…"
      ]
     },
     "execution_count": 10,
     "metadata": {},
     "output_type": "execute_result"
    }
   ],
   "source": [
    "sheet7 = ipysheet.from_dataframe(df)\n",
    "sheet7"
   ]
  },
  {
   "cell_type": "code",
   "execution_count": 11,
   "metadata": {},
   "outputs": [
    {
     "data": {
      "text/plain": [
       "array([[0.80663944, 0.40675276, 0.74383839],\n",
       "       [0.93657684, 0.78085157, 0.42344439],\n",
       "       [0.2324426 , 0.8653001 , 0.45513253],\n",
       "       [0.24087169, 0.99243971, 0.68247255],\n",
       "       [0.34258139, 0.27789699, 0.8266771 ]])"
      ]
     },
     "execution_count": 11,
     "metadata": {},
     "output_type": "execute_result"
    }
   ],
   "source": [
    "ipysheet.to_array(sheet7)\n"
   ]
  },
  {
   "cell_type": "code",
   "execution_count": 12,
   "metadata": {},
   "outputs": [
    {
     "data": {
      "text/html": [
       "<div>\n",
       "<style scoped>\n",
       "    .dataframe tbody tr th:only-of-type {\n",
       "        vertical-align: middle;\n",
       "    }\n",
       "\n",
       "    .dataframe tbody tr th {\n",
       "        vertical-align: top;\n",
       "    }\n",
       "\n",
       "    .dataframe thead th {\n",
       "        text-align: right;\n",
       "    }\n",
       "</style>\n",
       "<table border=\"1\" class=\"dataframe\">\n",
       "  <thead>\n",
       "    <tr style=\"text-align: right;\">\n",
       "      <th></th>\n",
       "      <th>Col1</th>\n",
       "      <th>Col2</th>\n",
       "      <th>Col3</th>\n",
       "    </tr>\n",
       "  </thead>\n",
       "  <tbody>\n",
       "    <tr>\n",
       "      <th>0</th>\n",
       "      <td>0.806639</td>\n",
       "      <td>0.406753</td>\n",
       "      <td>0.743838</td>\n",
       "    </tr>\n",
       "    <tr>\n",
       "      <th>1</th>\n",
       "      <td>0.936577</td>\n",
       "      <td>0.780852</td>\n",
       "      <td>0.423444</td>\n",
       "    </tr>\n",
       "    <tr>\n",
       "      <th>2</th>\n",
       "      <td>0.232443</td>\n",
       "      <td>0.865300</td>\n",
       "      <td>0.455133</td>\n",
       "    </tr>\n",
       "    <tr>\n",
       "      <th>3</th>\n",
       "      <td>0.240872</td>\n",
       "      <td>0.992440</td>\n",
       "      <td>0.682473</td>\n",
       "    </tr>\n",
       "    <tr>\n",
       "      <th>4</th>\n",
       "      <td>0.342581</td>\n",
       "      <td>0.277897</td>\n",
       "      <td>0.826677</td>\n",
       "    </tr>\n",
       "  </tbody>\n",
       "</table>\n",
       "</div>"
      ],
      "text/plain": [
       "       Col1      Col2      Col3\n",
       "0  0.806639  0.406753  0.743838\n",
       "1  0.936577  0.780852  0.423444\n",
       "2  0.232443  0.865300  0.455133\n",
       "3  0.240872  0.992440  0.682473\n",
       "4  0.342581  0.277897  0.826677"
      ]
     },
     "execution_count": 12,
     "metadata": {},
     "output_type": "execute_result"
    }
   ],
   "source": [
    "ipysheet.to_dataframe(sheet7)"
   ]
  },
  {
   "attachments": {},
   "cell_type": "markdown",
   "metadata": {},
   "source": [
    "### 4. Integrating Widgets into Sheet widget \n"
   ]
  },
  {
   "attachments": {},
   "cell_type": "markdown",
   "metadata": {},
   "source": [
    "We can also integrate other `ipywidgets widgets` into `ipysheet cells`. We'll explain it with a simple example where we include sliders into sheet cells."
   ]
  },
  {
   "cell_type": "code",
   "execution_count": 13,
   "metadata": {},
   "outputs": [
    {
     "data": {
      "application/vnd.jupyter.widget-view+json": {
       "model_id": "5e202609b13546ed97154074eaafb08c",
       "version_major": 2,
       "version_minor": 0
      },
      "text/plain": [
       "Sheet(cells=(Cell(column_end=0, column_start=0, row_end=1, row_start=0, squeeze_row=False, type='widget', valu…"
      ]
     },
     "execution_count": 13,
     "metadata": {},
     "output_type": "execute_result"
    }
   ],
   "source": [
    "sheet8 = sheet(2,2)\n",
    "\n",
    "slider_1 = widgets.FloatSlider()\n",
    "slider_2 = widgets.FloatSlider()\n",
    "\n",
    "column1 = column(0, [slider_1, slider_2])\n",
    "\n",
    "cell_1 = cell(0,1,1)\n",
    "cell_2 = cell(1,1,5)\n",
    "\n",
    "widgets.jslink((cell_1, \"value\"),(slider_1,\"value\"))\n",
    "widgets.jslink((cell_2, \"value\"),(slider_2,\"value\"))\n",
    "\n",
    "# sheet8 = None\n",
    "sheet8"
   ]
  },
  {
   "cell_type": "code",
   "execution_count": 14,
   "metadata": {},
   "outputs": [
    {
     "data": {
      "application/vnd.jupyter.widget-view+json": {
       "model_id": "3aa9793b048a45798fd3c6ca1f566350",
       "version_major": 2,
       "version_minor": 0
      },
      "text/plain": [
       "Sheet(cells=(Cell(column_end=0, column_start=0, row_end=5, row_start=0, squeeze_row=False, type='widget', valu…"
      ]
     },
     "execution_count": 14,
     "metadata": {},
     "output_type": "execute_result"
    }
   ],
   "source": [
    "sheet9 = sheet(rows=6,columns=2)\n",
    "\n",
    "prog_1 = widgets.IntProgress()\n",
    "prog_2 = widgets.IntProgress()\n",
    "prog_3 = widgets.IntProgress()\n",
    "prog_4 = widgets.IntProgress()\n",
    "prog_5 = widgets.IntProgress()\n",
    "prog_6 = widgets.IntProgress()\n",
    "\n",
    "column1 = column(0, [prog_1, prog_2, prog_3, prog_4, prog_5, prog_6])\n",
    "\n",
    "cell11 = cell(0,1,10)\n",
    "cell12 = cell(1,1,20)\n",
    "cell13 = cell(2,1,30)\n",
    "cell14 = cell(3,1,40)\n",
    "cell15 = cell(4,1,50)\n",
    "cell16 = cell(5,1,60)\n",
    "\n",
    "widgets.jslink((cell11, \"value\"),(prog_1,\"value\"))\n",
    "widgets.jslink((cell12, \"value\"),(prog_2,\"value\"))\n",
    "widgets.jslink((cell13, \"value\"),(prog_3,\"value\"))\n",
    "widgets.jslink((cell14, \"value\"),(prog_4,\"value\"))\n",
    "widgets.jslink((cell15, \"value\"),(prog_5,\"value\"))\n",
    "widgets.jslink((cell16, \"value\"),(prog_6,\"value\"))\n",
    "\n",
    "sheet9"
   ]
  },
  {
   "attachments": {},
   "cell_type": "markdown",
   "metadata": {},
   "source": [
    "### 5. Linking Sheet to Plot \n"
   ]
  },
  {
   "attachments": {},
   "cell_type": "markdown",
   "metadata": {},
   "source": [
    "We can also link sheets to plots. We have given below example of using the `bqplot` library which is also based on `widgets` where individual components of graphs are widgets hence linking becomes easy."
   ]
  },
  {
   "cell_type": "code",
   "execution_count": 17,
   "metadata": {},
   "outputs": [
    {
     "data": {
      "application/vnd.jupyter.widget-view+json": {
       "model_id": "4927f919362b4658931ce21338b45e03",
       "version_major": 2,
       "version_minor": 0
      },
      "text/plain": [
       "HBox(children=(Figure(axes=[Axis(scale=LinearScale()), Axis(orientation='vertical', scale=LinearScale())], fig…"
      ]
     },
     "execution_count": 17,
     "metadata": {},
     "output_type": "execute_result"
    }
   ],
   "source": [
    "from traitlets import link\n",
    "import bqplot.pyplot as plt\n",
    "\n",
    "size = 18\n",
    "scale = 100.\n",
    "np.random.seed(0)\n",
    "x_data = np.arange(size)\n",
    "y_data = np.cumsum(np.random.randn(size)  * 100)\n",
    "\n",
    "fig = plt.figure()\n",
    "fig.layout.width = '60%'\n",
    "\n",
    "scatt = plt.scatter(x_data, y_data, colors=['red'], stroke='black')\n",
    "\n",
    "\n",
    "sheet10 = sheet(rows=size, columns=2)\n",
    "\n",
    "x_column = column(0, x_data)\n",
    "y_column = column(1, y_data)\n",
    "\n",
    "link((scatt, 'x'), (x_column, 'value'))\n",
    "link((scatt, 'y'), (y_column, 'value'))\n",
    "\n",
    "widgets.HBox((fig, sheet10))"
   ]
  },
  {
   "attachments": {},
   "cell_type": "markdown",
   "metadata": {},
   "source": [
    "### 6. Sheet Styling \n"
   ]
  },
  {
   "attachments": {},
   "cell_type": "markdown",
   "metadata": {},
   "source": [
    "We can highlight cell, change it's color, font style, font size, etc using various attributes available in `cell()`, `row()`, `column()` methods. We'll be exploring various parameter values. We'll also try various `CSS` values by passing them as dict to `style` parameter.\n",
    "\n"
   ]
  },
  {
   "cell_type": "code",
   "execution_count": 16,
   "metadata": {},
   "outputs": [
    {
     "data": {
      "application/vnd.jupyter.widget-view+json": {
       "model_id": "c4cb81ffb0694d309f5c930e24f5a44e",
       "version_major": 2,
       "version_minor": 0
      },
      "text/plain": [
       "Sheet(cells=(Cell(column_end=1, column_start=1, row_end=1, row_start=1, style={'color': 'red', 'backgroundColo…"
      ]
     },
     "execution_count": 16,
     "metadata": {},
     "output_type": "execute_result"
    }
   ],
   "source": [
    "sheet11 = sheet(rows=8,columns=3)\n",
    "\n",
    "cell(1,1,\"Hello\", color=\"red\", background_color=\"yellow\", font_style=\"times new roman\", font_weight=\"bold\")\n",
    "cell(2,1,\"World\", color=\"black\", background_color=\"red\", font_style=\"times new roman\")\n",
    "cell(1,0, True)\n",
    "cell(1,2,type=\"date\")\n",
    "\n",
    "row(0,value=[1,2,3], type=\"numeric\",background_color=\"green\")\n",
    "\n",
    "row(3,value=[1,2,3], type=\"numeric\",style={\"background\":\"tomato\"})\n",
    "\n",
    "row(4,value=[5,6,7], type=\"numeric\",style={\"background\":\"lawngreen\", \"font-size\":\"2rem\", \"font-family\":\"aerial\"})\n",
    "\n",
    "\n",
    "sheet11"
   ]
  }
 ],
 "metadata": {
  "kernelspec": {
   "display_name": "Python 3",
   "language": "python",
   "name": "python3"
  },
  "language_info": {
   "codemirror_mode": {
    "name": "ipython",
    "version": 3
   },
   "file_extension": ".py",
   "mimetype": "text/x-python",
   "name": "python",
   "nbconvert_exporter": "python",
   "pygments_lexer": "ipython3",
   "version": "3.10.6"
  },
  "orig_nbformat": 4,
  "vscode": {
   "interpreter": {
    "hash": "97cc609b13305c559618ec78a438abc56230b9381f827f22d070313b9a1f3777"
   }
  }
 },
 "nbformat": 4,
 "nbformat_minor": 2
}
