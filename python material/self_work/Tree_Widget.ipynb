{
 "cells": [
  {
   "attachments": {},
   "cell_type": "markdown",
   "metadata": {},
   "source": [
    "# Tree Widget, using `ipytree`"
   ]
  },
  {
   "attachments": {},
   "cell_type": "markdown",
   "metadata": {},
   "source": [
    "## `ipytree` provides easy to use interface to visualize tree-like data structure. We can also link it with `ipywidgets` widgets with `ipytree` tree widget. We'll try to explore it further in this tutorial."
   ]
  },
  {
   "attachments": {},
   "cell_type": "markdown",
   "metadata": {},
   "source": [
    "\n",
    "### Basics:"
   ]
  },
  {
   "attachments": {},
   "cell_type": "markdown",
   "metadata": {},
   "source": [
    "We'll start creating a basic tree and displaying it. We'll explain the basic process to add nodes and remove them below."
   ]
  },
  {
   "cell_type": "code",
   "execution_count": 1,
   "metadata": {},
   "outputs": [
    {
     "data": {
      "application/vnd.jupyter.widget-view+json": {
       "model_id": "324f731800b54a47a1d34c62992b6f29",
       "version_major": 2,
       "version_minor": 0
      },
      "text/plain": [
       "Tree(nodes=(Node(name='Node1'), Node(name='Node2'), Node(name='Node3')))"
      ]
     },
     "execution_count": 1,
     "metadata": {},
     "output_type": "execute_result"
    }
   ],
   "source": [
    "from ipytree import Tree, Node\n",
    "tree=Tree()\n",
    "\n",
    "tree.add_node(Node(\"Node1\"))\n",
    "tree.add_node(Node(\"Node2\"))\n",
    "tree.add_node(Node(\"Node3\"))\n",
    "\n",
    "tree"
   ]
  },
  {
   "cell_type": "code",
   "execution_count": 2,
   "metadata": {},
   "outputs": [
    {
     "data": {
      "application/vnd.jupyter.widget-view+json": {
       "model_id": "eb813e75ac514c0cb14019c0c0fef38a",
       "version_major": 2,
       "version_minor": 0
      },
      "text/plain": [
       "Tree(nodes=(Node(disabled=True, name='Node1'), Node(name='Node2'), Node(name='Node3', nodes=(Node(name='Node4'…"
      ]
     },
     "execution_count": 2,
     "metadata": {},
     "output_type": "execute_result"
    }
   ],
   "source": [
    "tree2  = Tree()\n",
    "\n",
    "node1 = Node(\"Node1\", disabled=True)\n",
    "tree2.add_node(node1)\n",
    "tree2.add_node(Node(\"Node2\"))\n",
    "tree2.add_node(Node(\"Node3\", [Node(\"Node4\"), Node(\"Node5\")]))\n",
    "\n",
    "tree2"
   ]
  },
  {
   "cell_type": "code",
   "execution_count": 3,
   "metadata": {},
   "outputs": [
    {
     "data": {
      "text/plain": [
       "(Node(disabled=True, name='Node1'),\n",
       " Node(name='Node2'),\n",
       " Node(name='Node3', nodes=(Node(name='Node4'), Node(name='Node5'))))"
      ]
     },
     "execution_count": 3,
     "metadata": {},
     "output_type": "execute_result"
    }
   ],
   "source": [
    "tree2.nodes"
   ]
  },
  {
   "cell_type": "code",
   "execution_count": 4,
   "metadata": {},
   "outputs": [
    {
     "data": {
      "application/vnd.jupyter.widget-view+json": {
       "model_id": "eb813e75ac514c0cb14019c0c0fef38a",
       "version_major": 2,
       "version_minor": 0
      },
      "text/plain": [
       "Tree(nodes=(Node(name='Node2'), Node(name='Node3', nodes=(Node(name='Node4'), Node(name='Node5')))))"
      ]
     },
     "execution_count": 4,
     "metadata": {},
     "output_type": "execute_result"
    }
   ],
   "source": [
    "tree2.remove_node(node1)\n",
    "\n",
    "tree2"
   ]
  },
  {
   "attachments": {},
   "cell_type": "markdown",
   "metadata": {},
   "source": [
    "### Node Styling\n",
    "We have attributes available to style nodes as well according to our need. We can change node color using `icon_style` attribute and change node `icon` using icon attribute."
   ]
  },
  {
   "cell_type": "code",
   "execution_count": 6,
   "metadata": {},
   "outputs": [
    {
     "data": {
      "application/vnd.jupyter.widget-view+json": {
       "model_id": "6a5be0fd6d13422fb942528db7da58bb",
       "version_major": 2,
       "version_minor": 0
      },
      "text/plain": [
       "Tree(nodes=(Node(icon='archive', icon_style='warning', name='root'), Node(icon='info', icon_style='info', name…"
      ]
     },
     "execution_count": 6,
     "metadata": {},
     "output_type": "execute_result"
    }
   ],
   "source": [
    "tree5 = Tree()\n",
    "\n",
    "tree5.add_node(Node(\"root\", icon=\"archive\", icon_style=\"warning\"))\n",
    "tree5.add_node(Node(\"media\", icon=\"info\", icon_style=\"info\"))\n",
    "tree5.add_node(Node(\"local\", icon=\"warning\", icon_style=\"success\"))\n",
    "tree5.add_node(Node(\"home\", [Node(\"Desktop\", [Node(\"File1\", icon=\"copy\", icon_style=\"warning\"), Node(\"File2\", icon=\"plus\", icon_style=\"success\")], icon=\"save\", icon_style=\"info\"), Node(\"Documents\", icon=\"cut\", icon_style=\"danger\")], icon=\"home\", icon_style=\"success\"))\n",
    "\n",
    "tree5"
   ]
  },
  {
   "attachments": {},
   "cell_type": "markdown",
   "metadata": {},
   "source": [
    "### Handling Events\n",
    "We can also catch events on each node when node is clicked. We have same `observe()` which was available with `ipywidgets` widgets as well to capture events and then perform necessary actions based on click. We are explaining below it's use with simple example which change name of node when clicked on it and when unselected."
   ]
  },
  {
   "cell_type": "code",
   "execution_count": 12,
   "metadata": {},
   "outputs": [
    {
     "data": {
      "application/vnd.jupyter.widget-view+json": {
       "model_id": "e3c0ce5a448a445c809e5cdc8112cde3",
       "version_major": 2,
       "version_minor": 0
      },
      "text/plain": [
       "Tree(nodes=(Node(icon_style='success', name='Node1'), Node(icon='leaf', icon_style='success', name='Node2'), N…"
      ]
     },
     "execution_count": 12,
     "metadata": {},
     "output_type": "execute_result"
    }
   ],
   "source": [
    "tree6  = Tree()\n",
    "\n",
    "node1 = Node(\"Node1\", icon_style=\"success\")\n",
    "\n",
    "tree6.add_node(node1)\n",
    "tree6.add_node(Node(\"Node2\", icon_style=\"success\", icon=\"leaf\"))\n",
    "tree6.add_node(Node(\"Node3\", [Node(\"Node4\",icon_style=\"success\"), Node(\"Node5\",icon_style=\"success\")], icon_style=\"success\"))\n",
    "\n",
    "\n",
    "def handle_click(event):\n",
    "    event['owner'].icon = \"info\"  if event['new'] else 'warning'\n",
    "\n",
    "def handle_click_name(event):\n",
    "    event['owner'].name = 'Selected' if event['new'] else 'Not Selected'\n",
    "\n",
    "def add_click(tree_):\n",
    "    if tree_.nodes:\n",
    "        for node in tree_.nodes:\n",
    "            node.observe(handle_click, 'selected')\n",
    "            node.observe(handle_click_name, 'selected')\n",
    "            add_click(node)\n",
    "\n",
    "add_click(tree6)\n",
    "          \n",
    "\n",
    "tree6"
   ]
  }
 ],
 "metadata": {
  "kernelspec": {
   "display_name": "Python 3",
   "language": "python",
   "name": "python3"
  },
  "language_info": {
   "codemirror_mode": {
    "name": "ipython",
    "version": 3
   },
   "file_extension": ".py",
   "mimetype": "text/x-python",
   "name": "python",
   "nbconvert_exporter": "python",
   "pygments_lexer": "ipython3",
   "version": "3.10.6"
  },
  "orig_nbformat": 4,
  "vscode": {
   "interpreter": {
    "hash": "97cc609b13305c559618ec78a438abc56230b9381f827f22d070313b9a1f3777"
   }
  }
 },
 "nbformat": 4,
 "nbformat_minor": 2
}
