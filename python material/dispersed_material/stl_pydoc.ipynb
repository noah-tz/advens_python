{
 "cells": [
  {
   "attachments": {},
   "cell_type": "markdown",
   "metadata": {},
   "source": [
    "# pydoc — Online Help for Modules\n",
    "\n",
    "**Purpose**:\tGenerates help for Python modules and classes from the code.\n",
    "\n",
    "The `pydoc` module imports a Python module and uses the contents to generate help text at runtime. \n",
    "\n",
    "The output includes docstrings for any objects that have them, and all of the classes, methods, and functions of the module are described."
   ]
  },
  {
   "cell_type": "code",
   "execution_count": null,
   "metadata": {},
   "outputs": [],
   "source": []
  }
 ],
 "metadata": {
  "language_info": {
   "name": "python"
  },
  "orig_nbformat": 4
 },
 "nbformat": 4,
 "nbformat_minor": 2
}
