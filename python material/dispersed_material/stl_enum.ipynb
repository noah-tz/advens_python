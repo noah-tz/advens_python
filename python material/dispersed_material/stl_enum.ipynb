{
 "cells": [
  {
   "attachments": {},
   "cell_type": "markdown",
   "metadata": {},
   "source": [
    "# enum – Enumeration Type\n",
    "\n",
    "The `enum` module defines an enumeration type with iteration and comparison capabilities. \n",
    "\n",
    "It can be used to create well-defined symbols for values, instead of using literal integers or strings."
   ]
  },
  {
   "cell_type": "code",
   "execution_count": 1,
   "metadata": {},
   "outputs": [
    {
     "name": "stdout",
     "output_type": "stream",
     "text": [
      "\n",
      "Member name: wont_fix\n",
      "Member value: 4\n"
     ]
    }
   ],
   "source": [
    "import enum\n",
    "\n",
    "class BugStatus(enum.Enum):\n",
    "\n",
    "    new = 7\n",
    "    incomplete = 6\n",
    "    invalid = 5\n",
    "    wont_fix = 4\n",
    "    in_progress = 3\n",
    "    fix_committed = 2\n",
    "    fix_released = 1\n",
    "\n",
    "\n",
    "print('\\nMember name: {}'.format(BugStatus.wont_fix.name))\n",
    "print('Member value: {}'.format(BugStatus.wont_fix.value))\n",
    "\n",
    "\n",
    "\"\"\"The members of the Enum are converted to instances as the class is parsed. \n",
    "Each instance has a name property corresponding to the member name and \n",
    "a value property corresponding to the value assigned to the name in the class definition.\"\"\""
   ]
  },
  {
   "cell_type": "code",
   "execution_count": null,
   "metadata": {},
   "outputs": [],
   "source": []
  }
 ],
 "metadata": {
  "kernelspec": {
   "display_name": "Python 3",
   "language": "python",
   "name": "python3"
  },
  "language_info": {
   "codemirror_mode": {
    "name": "ipython",
    "version": 3
   },
   "file_extension": ".py",
   "mimetype": "text/x-python",
   "name": "python",
   "nbconvert_exporter": "python",
   "pygments_lexer": "ipython3",
   "version": "3.11.1"
  },
  "orig_nbformat": 4,
  "vscode": {
   "interpreter": {
    "hash": "5238573367df39f7286bb46f9ff5f08f63a01a80960060ce41e3c79b190280fa"
   }
  }
 },
 "nbformat": 4,
 "nbformat_minor": 2
}
