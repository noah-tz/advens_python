{
 "cells": [
  {
   "cell_type": "code",
   "execution_count": 2,
   "metadata": {},
   "outputs": [
    {
     "name": "stdout",
     "output_type": "stream",
     "text": [
      "Overwriting 1234.py\n"
     ]
    }
   ],
   "source": [
    "%%file 1234.py\n",
    "class TestClassDemoInstance:\n",
    "    value = 0\n",
    "\n",
    "    def test_one(self):\n",
    "        self.value = 1\n",
    "        assert self.value == 1\n",
    "\n",
    "    def test_two(self):\n",
    "        assert self.value == 1\n",
    "    "
   ]
  },
  {
   "cell_type": "code",
   "execution_count": 1,
   "metadata": {},
   "outputs": [
    {
     "name": "stdout",
     "output_type": "stream",
     "text": [
      "Traceback (most recent call last):\n",
      "  File \"<frozen runpy>\", line 189, in _run_module_as_main\n",
      "  File \"<frozen runpy>\", line 148, in _get_module_details\n",
      "  File \"<frozen runpy>\", line 112, in _get_module_details\n",
      "  File \"/home/az/.local/lib/python3.11/site-packages/pytest/__init__.py\", line 5, in <module>\n",
      "    from _pytest._code import ExceptionInfo\n",
      "  File \"/home/az/.local/lib/python3.11/site-packages/_pytest/_code/__init__.py\", line 2, in <module>\n",
      "    from .code import Code\n",
      "  File \"/home/az/.local/lib/python3.11/site-packages/_pytest/_code/code.py\", line 35, in <module>\n",
      "    import attr\n",
      "ModuleNotFoundError: No module named 'attr'\n"
     ]
    }
   ],
   "source": [
    "!python3 -m pytest 1234.py"
   ]
  }
 ],
 "metadata": {
  "kernelspec": {
   "display_name": "Python 3",
   "language": "python",
   "name": "python3"
  },
  "language_info": {
   "codemirror_mode": {
    "name": "ipython",
    "version": 3
   },
   "file_extension": ".py",
   "mimetype": "text/x-python",
   "name": "python",
   "nbconvert_exporter": "python",
   "pygments_lexer": "ipython3",
   "version": "3.11.1"
  },
  "orig_nbformat": 4,
  "vscode": {
   "interpreter": {
    "hash": "ead1b95f633dc9c51826328e1846203f51a198c6fb5f2884a80417ba131d4e82"
   }
  }
 },
 "nbformat": 4,
 "nbformat_minor": 2
}
