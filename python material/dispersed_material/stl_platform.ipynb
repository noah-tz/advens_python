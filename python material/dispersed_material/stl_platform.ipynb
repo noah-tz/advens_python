{
 "cells": [
  {
   "attachments": {},
   "cell_type": "markdown",
   "metadata": {},
   "source": [
    "# platform — System Version Information\n"
   ]
  },
  {
   "cell_type": "code",
   "execution_count": 2,
   "metadata": {},
   "outputs": [
    {
     "name": "stdout",
     "output_type": "stream",
     "text": [
      "Version      : 3.11.1\n",
      "Version tuple: ('3', '11', '1')\n",
      "Compiler     : MSC v.1934 64 bit (AMD64)\n",
      "Build        : ('tags/v3.11.1:a7a450f', 'Dec  6 2022 19:58:39')\n"
     ]
    }
   ],
   "source": [
    "import platform\n",
    "\n",
    "print('Version      :', platform.python_version())\n",
    "print('Version tuple:', platform.python_version_tuple())\n",
    "print('Compiler     :', platform.python_compiler())\n",
    "print('Build        :', platform.python_build())\n"
   ]
  },
  {
   "attachments": {},
   "cell_type": "markdown",
   "metadata": {},
   "source": [
    "## Operating System and Hardware Info\n",
    "\n",
    "Platform Information Functions\n"
   ]
  },
  {
   "cell_type": "code",
   "execution_count": 5,
   "metadata": {},
   "outputs": [
    {
     "name": "stdout",
     "output_type": "stream",
     "text": [
      "uname: uname_result(system='Windows', node='Vadim-miniPC', release='10', version='10.0.22621', machine='AMD64')\n",
      "\n",
      "system   : Windows\n",
      "node     : Vadim-miniPC\n",
      "release  : 10\n",
      "version  : 10.0.22621\n",
      "machine  : AMD64\n",
      "processor: AMD64 Family 23 Model 24 Stepping 1, AuthenticAMD\n"
     ]
    }
   ],
   "source": [
    "print('uname:', platform.uname())\n",
    "\n",
    "print()\n",
    "print('system   :', platform.system()) # operating system name\n",
    "print('node     :', platform.node()) # host name of the server\n",
    "print('release  :', platform.release()) # operating system release number\n",
    "print('version  :', platform.version()) # more detailed system version\n",
    "print('machine  :', platform.machine()) # a hardware-type identifier, such as 'i386'\n",
    "print('processor:', platform.processor()) # a real identifier for the processor (the same value as machine() in many cases)\n"
   ]
  },
  {
   "cell_type": "code",
   "execution_count": 6,
   "metadata": {},
   "outputs": [
    {
     "name": "stdout",
     "output_type": "stream",
     "text": [
      "interpreter: ('64bit', 'WindowsPE')\n",
      "/bin/ls    : ('64bit', '')\n"
     ]
    }
   ],
   "source": [
    "print('interpreter:', platform.architecture())\n",
    "print('/bin/ls    :', platform.architecture('/bin/ls'))"
   ]
  }
 ],
 "metadata": {
  "kernelspec": {
   "display_name": "Python 3",
   "language": "python",
   "name": "python3"
  },
  "language_info": {
   "codemirror_mode": {
    "name": "ipython",
    "version": 3
   },
   "file_extension": ".py",
   "mimetype": "text/x-python",
   "name": "python",
   "nbconvert_exporter": "python",
   "pygments_lexer": "ipython3",
   "version": "3.11.1"
  },
  "orig_nbformat": 4,
  "vscode": {
   "interpreter": {
    "hash": "5238573367df39f7286bb46f9ff5f08f63a01a80960060ce41e3c79b190280fa"
   }
  }
 },
 "nbformat": 4,
 "nbformat_minor": 2
}
