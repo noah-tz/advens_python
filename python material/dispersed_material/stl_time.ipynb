{
 "cells": [
  {
   "attachments": {},
   "cell_type": "markdown",
   "metadata": {},
   "source": [
    "# time — Clock Time\n",
    "\n",
    "**Purpose**:\tFunctions for manipulating clock time.\n",
    "\n",
    "The time module provides access to several different types of clocks, each useful for different purposes. \n",
    "\n",
    "The standard system calls like `time()` report the system “wall clock” time. \n",
    "\n",
    "The `monotonic()` clock can be used to measure elapsed time in a long-running process because it is guaranteed never to move backwards, even if the system time is changed. \n",
    "\n",
    "For performance testing, `perf_counter()` provides access to the clock with the highest available resolution to make short time measurements more accurate. \n",
    "\n",
    "The CPU time is available through `clock()`, and `process_time()` returns the combined processor time and system time."
   ]
  },
  {
   "attachments": {},
   "cell_type": "markdown",
   "metadata": {},
   "source": [
    "## Comparing Clocks\n",
    "\n",
    "Use `get_clock_info()` to access basic information about the current implementation, including the clock’s resolution."
   ]
  },
  {
   "cell_type": "code",
   "execution_count": null,
   "metadata": {},
   "outputs": [],
   "source": [
    "import textwrap\n",
    "import time\n",
    "\n",
    "available_clocks = [\n",
    "    ('monotonic', time.monotonic),\n",
    "    ('perf_counter', time.perf_counter),\n",
    "    ('process_time', time.process_time),\n",
    "    ('time', time.time),\n",
    "]\n",
    "\n",
    "for clock_name, func in available_clocks:\n",
    "    print(textwrap.dedent(\"\"\"\\\n",
    "    {name}:\n",
    "        adjustable    : {info.adjustable}\n",
    "        implementation: {info.implementation}\n",
    "        monotonic     : {info.monotonic}\n",
    "        resolution    : {info.resolution}\n",
    "        current       : {current}\n",
    "    \"\"\").format(\n",
    "        name=clock_name,\n",
    "        info=time.get_clock_info(clock_name),\n",
    "        current=func())\n",
    "    )\n"
   ]
  },
  {
   "attachments": {},
   "cell_type": "markdown",
   "metadata": {},
   "source": [
    "## Wall Clock Time\n",
    "\n",
    "One of the core functions of the time module is `time()`, which returns the number of seconds since the start of the “epoch” as a floating point value."
   ]
  },
  {
   "cell_type": "code",
   "execution_count": 17,
   "metadata": {},
   "outputs": [
    {
     "name": "stdout",
     "output_type": "stream",
     "text": [
      "The time is: 1675456075.162237\n",
      "The time is      : Fri Feb  3 22:27:55 2023\n",
      "15 secs from now : Fri Feb  3 22:28:10 2023\n"
     ]
    }
   ],
   "source": [
    "print('The time is:', time.time())\n",
    "\n",
    "print('The time is      :', time.ctime())\n",
    "later = time.time() + 15\n",
    "print('15 secs from now :', time.ctime(later))"
   ]
  },
  {
   "attachments": {},
   "cell_type": "markdown",
   "metadata": {},
   "source": [
    "## Monotonic Clocks\n",
    "\n",
    "Because `time()` looks at the system clock, and the system clock can be changed by the user or system services for synchronizing clocks across multiple computers, calling `time()` repeatedly may produce values that go forwards and backwards. \n",
    "\n",
    "This can result in unexpected behavior when trying to measure durations or otherwise use those times for computation. Avoid those situations by using `monotonic()`, which always returns values that go forward."
   ]
  },
  {
   "cell_type": "code",
   "execution_count": 18,
   "metadata": {},
   "outputs": [
    {
     "name": "stdout",
     "output_type": "stream",
     "text": [
      "start : 284614.39\n",
      "end   : 284614.50\n",
      "span  :      0.11\n"
     ]
    }
   ],
   "source": [
    "start = time.monotonic()\n",
    "time.sleep(0.1)\n",
    "end = time.monotonic()\n",
    "print(f'start : {start :>9.2f}')\n",
    "print(f'end   : {end :>9.2f}')\n",
    "print(f'span  : {end - start :>9.2f}')"
   ]
  },
  {
   "attachments": {},
   "cell_type": "markdown",
   "metadata": {},
   "source": [
    "## Processor Clock Time\n",
    "\n",
    "While `time()` returns a wall clock time, `process_time()` returns processor clock time. \n",
    "\n",
    "The values returned from `process_time()` reflect the actual time used by the program as it runs."
   ]
  },
  {
   "cell_type": "code",
   "execution_count": 19,
   "metadata": {},
   "outputs": [
    {
     "name": "stdout",
     "output_type": "stream",
     "text": [
      "Fri Feb  3 22:27:55 2023 : 1675456075.521 18.969\n",
      "Fri Feb  3 22:27:56 2023 : 1675456076.638 19.656\n",
      "Fri Feb  3 22:27:57 2023 : 1675456077.640 20.281\n",
      "Fri Feb  3 22:27:58 2023 : 1675456078.535 20.844\n",
      "Fri Feb  3 22:27:59 2023 : 1675456079.630 21.312\n"
     ]
    }
   ],
   "source": [
    "# Data to use to calculate md5 checksums\n",
    "import hashlib\n",
    "\n",
    "file_path = r\"C:\\Users\\Vadim\\Documents\\GitHub\\Python\\_Lessons_\\MEFATHIM\\Sylllabus-AdvancedPython\\week4\\exercises\\ex_class.ipynb\"\n",
    "data = open(file_path, 'rb').read()\n",
    "\n",
    "for _ in range(5):\n",
    "    h = hashlib.sha1()\n",
    "    print(time.ctime(), f': {time.time() :0.3f} {time.process_time() :0.3f}')\n",
    "    for _ in range(300_000):\n",
    "        h.update(data)\n",
    "    cksum = h.digest()"
   ]
  },
  {
   "attachments": {},
   "cell_type": "markdown",
   "metadata": {},
   "source": [
    "## Performance Counter\n",
    "\n",
    "It is important to have a high-resolution monotonic clock for measuring performance. \n",
    "\n",
    "Determining the best clock data source requires platform-specific knowledge, which Python provides in `perf_counter()`."
   ]
  },
  {
   "cell_type": "code",
   "execution_count": 20,
   "metadata": {},
   "outputs": [
    {
     "name": "stdout",
     "output_type": "stream",
     "text": [
      "Fri Feb  3 22:28:01 2023 : 0.848 0.849\n",
      "Fri Feb  3 22:28:02 2023 : 1.131 1.981\n",
      "Fri Feb  3 22:28:03 2023 : 1.095 3.077\n",
      "Fri Feb  3 22:28:04 2023 : 0.906 3.983\n",
      "Fri Feb  3 22:28:05 2023 : 0.833 4.817\n"
     ]
    }
   ],
   "source": [
    "import hashlib\n",
    "import time\n",
    "\n",
    "# Data to use to calculate md5 checksums\n",
    "file_path = r\"C:\\Users\\Vadim\\Documents\\GitHub\\Python\\_Lessons_\\MEFATHIM\\Sylllabus-AdvancedPython\\week4\\exercises\\ex_class.ipynb\"\n",
    "data = open(file_path, 'rb').read()\n",
    "\n",
    "loop_start = time.perf_counter()\n",
    "\n",
    "for _ in range(5):\n",
    "    iter_start = time.perf_counter()\n",
    "    h = hashlib.sha1()\n",
    "    for _ in range(300_000):\n",
    "        h.update(data)\n",
    "    check_sum = h.digest()\n",
    "    now = time.perf_counter()\n",
    "    loop_elapsed = now - loop_start\n",
    "    iter_elapsed = now - iter_start\n",
    "    print(time.ctime(), f': {iter_elapsed :0.3f} {loop_elapsed :0.3f}')\n",
    "        \n",
    "# As with monotonic(), the epoch for perf_counter() is undefined, and the values are meant to be used for comparing and computing values, not as absolute times."
   ]
  },
  {
   "attachments": {},
   "cell_type": "markdown",
   "metadata": {},
   "source": [
    "## Time Components\n",
    "\n",
    "Storing times as elapsed seconds is useful in some situations, but there are times when a program needs to have access to the individual fields of a date (year, month, etc.). \n",
    "\n",
    "The time module defines struct_time for holding date and time values with components broken out so they are easy to access. \n",
    "\n",
    "There are several functions that work with struct_time values instead of floats."
   ]
  },
  {
   "cell_type": "code",
   "execution_count": 21,
   "metadata": {},
   "outputs": [
    {
     "name": "stdout",
     "output_type": "stream",
     "text": [
      "gmtime:\n",
      "  tm_year : 2023\n",
      "  tm_mon  : 2\n",
      "  tm_mday : 3\n",
      "  tm_hour : 20\n",
      "  tm_min  : 28\n",
      "  tm_sec  : 5\n",
      "  tm_wday : 4\n",
      "  tm_yday : 34\n",
      "  tm_isdst: 0\n",
      "\n",
      "localtime:\n",
      "  tm_year : 2023\n",
      "  tm_mon  : 2\n",
      "  tm_mday : 3\n",
      "  tm_hour : 22\n",
      "  tm_min  : 28\n",
      "  tm_sec  : 5\n",
      "  tm_wday : 4\n",
      "  tm_yday : 34\n",
      "  tm_isdst: 0\n",
      "\n",
      "mktime: 1675456085.0\n"
     ]
    }
   ],
   "source": [
    "def show_struct(s):\n",
    "    print('  tm_year :', s.tm_year)\n",
    "    print('  tm_mon  :', s.tm_mon)\n",
    "    print('  tm_mday :', s.tm_mday)\n",
    "    print('  tm_hour :', s.tm_hour)\n",
    "    print('  tm_min  :', s.tm_min)\n",
    "    print('  tm_sec  :', s.tm_sec)\n",
    "    print('  tm_wday :', s.tm_wday)\n",
    "    print('  tm_yday :', s.tm_yday)\n",
    "    print('  tm_isdst:', s.tm_isdst)\n",
    "\n",
    "\n",
    "print('gmtime:')\n",
    "show_struct(time.gmtime())\n",
    "print('\\nlocaltime:')\n",
    "show_struct(time.localtime())\n",
    "print('\\nmktime:', time.mktime(time.localtime()))\n",
    "\n",
    "# The gmtime() function returns the current time in UTC. \n",
    "# localtime() returns the current time with the current time zone applied. \n",
    "# mktime() takes a struct_time and converts it to the floating point representation."
   ]
  },
  {
   "attachments": {},
   "cell_type": "markdown",
   "metadata": {},
   "source": [
    "## Parsing and Formatting Times\n",
    "\n",
    "The two functions strptime() and strftime() convert between struct_time and string representations of time values. \n",
    "\n",
    "There is a long list of formatting instructions available to support input and output in different styles. \n",
    "\n",
    "The complete list is documented in the library documentation for the time module.\n",
    "\n",
    "This example converts the current time from a string to a struct_time instance and back to a string.\n",
    "\n"
   ]
  },
  {
   "cell_type": "code",
   "execution_count": 22,
   "metadata": {},
   "outputs": [
    {
     "name": "stdout",
     "output_type": "stream",
     "text": [
      "Now: Mon Jan  2 23:17:27 2017\n",
      "\n",
      "Parsed:\n",
      "  tm_year : 2017\n",
      "  tm_mon  : 1\n",
      "  tm_mday : 2\n",
      "  tm_hour : 23\n",
      "  tm_min  : 17\n",
      "  tm_sec  : 27\n",
      "  tm_wday : 0\n",
      "  tm_yday : 2\n",
      "  tm_isdst: -1\n",
      "\n",
      "Formatted: Mon Jan 02 23:17:27 2017\n"
     ]
    }
   ],
   "source": [
    "def show_struct(s):\n",
    "    print('  tm_year :', s.tm_year)\n",
    "    print('  tm_mon  :', s.tm_mon)\n",
    "    print('  tm_mday :', s.tm_mday)\n",
    "    print('  tm_hour :', s.tm_hour)\n",
    "    print('  tm_min  :', s.tm_min)\n",
    "    print('  tm_sec  :', s.tm_sec)\n",
    "    print('  tm_wday :', s.tm_wday)\n",
    "    print('  tm_yday :', s.tm_yday)\n",
    "    print('  tm_isdst:', s.tm_isdst)\n",
    "\n",
    "\n",
    "now = time.ctime(1483391847.433716)\n",
    "print('Now:', now)\n",
    "\n",
    "parsed = time.strptime(now)\n",
    "print('\\nParsed:')\n",
    "show_struct(parsed)\n",
    "\n",
    "print('\\nFormatted:',\n",
    "      time.strftime(\"%a %b %d %H:%M:%S %Y\", parsed))\n",
    "\n",
    "# The output string is not exactly like the input, since the day of the month is prefixed with a zero."
   ]
  }
 ],
 "metadata": {
  "kernelspec": {
   "display_name": "Python 3",
   "language": "python",
   "name": "python3"
  },
  "language_info": {
   "codemirror_mode": {
    "name": "ipython",
    "version": 3
   },
   "file_extension": ".py",
   "mimetype": "text/x-python",
   "name": "python",
   "nbconvert_exporter": "python",
   "pygments_lexer": "ipython3",
   "version": "3.11.1"
  },
  "orig_nbformat": 4,
  "vscode": {
   "interpreter": {
    "hash": "5238573367df39f7286bb46f9ff5f08f63a01a80960060ce41e3c79b190280fa"
   }
  }
 },
 "nbformat": 4,
 "nbformat_minor": 2
}
