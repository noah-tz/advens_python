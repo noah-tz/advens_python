{
 "cells": [
  {
   "attachments": {},
   "cell_type": "markdown",
   "metadata": {},
   "source": [
    "# sys — Memory Management and Limits"
   ]
  },
  {
   "cell_type": "code",
   "execution_count": 5,
   "metadata": {},
   "outputs": [
    {
     "name": "stdout",
     "output_type": "stream",
     "text": [
      "      list : 56\n",
      "     tuple : 40\n",
      "      dict : 64\n",
      "       str : 50\n",
      "       str : 55\n",
      "     bytes : 38\n",
      "       int : 28\n",
      "     float : 24\n",
      "      type : 1688\n",
      "   MyClass : 56\n"
     ]
    }
   ],
   "source": [
    "\"\"\" Knowing how many references an object has may help find cycles or a memory leak, but it is not enough to determine what objects are consuming the most memory. \n",
    "That requires knowledge about how big objects are.\"\"\"\n",
    "\n",
    "import sys\n",
    "\n",
    "\n",
    "class MyClass:\n",
    "    pass\n",
    "\n",
    "\n",
    "objects = [\n",
    "    [],\n",
    "    (),\n",
    "    {},\n",
    "    \"c\",\n",
    "    \"string\",\n",
    "    b\"bytes\",\n",
    "    1,\n",
    "    2.3,\n",
    "    MyClass,\n",
    "    MyClass(),\n",
    "]\n",
    "\n",
    "for obj in objects:\n",
    "    print(f\"{type(obj).__name__ :>10} : {sys.getsizeof(obj)}\")\n"
   ]
  },
  {
   "cell_type": "code",
   "execution_count": 6,
   "metadata": {},
   "outputs": [
    {
     "name": "stdout",
     "output_type": "stream",
     "text": [
      "WithoutAttributes: 56\n",
      "WithAttributes: 56\n"
     ]
    }
   ],
   "source": [
    "\"\"\" The reported size for a custom class does not include the size of the attribute values.\n",
    "This can give a false impression of the amount of memory being consumed.\"\"\"\n",
    "\n",
    "import sys\n",
    "\n",
    "\n",
    "class WithoutAttributes:\n",
    "    pass\n",
    "\n",
    "\n",
    "class WithAttributes:\n",
    "    def __init__(self):\n",
    "        self.a = \"a\"\n",
    "        self.b = \"b\"\n",
    "        return\n",
    "\n",
    "\n",
    "without_attrs = WithoutAttributes()\n",
    "print(\"WithoutAttributes:\", sys.getsizeof(without_attrs))\n",
    "\n",
    "with_attrs = WithAttributes()\n",
    "print(\"WithAttributes:\", sys.getsizeof(with_attrs))\n"
   ]
  },
  {
   "cell_type": "code",
   "execution_count": 7,
   "metadata": {},
   "outputs": [
    {
     "name": "stdout",
     "output_type": "stream",
     "text": [
      "156\n"
     ]
    }
   ],
   "source": [
    "\"\"\" For a more complete estimate of the space used by a class, provide a __sizeof__() method to compute the value by aggregating the sizes of attributes of an object.\"\"\"\n",
    "\n",
    "class WithAttributes:\n",
    "    def __init__(self):\n",
    "        self.a = 'a'\n",
    "        self.b = 'b'\n",
    "        return\n",
    "\n",
    "    def __sizeof__(self):\n",
    "        return object.__sizeof__(self) + \\\n",
    "            sum(sys.getsizeof(v) for v in self.__dict__.values())\n",
    "\n",
    "\n",
    "my_inst = WithAttributes()\n",
    "print(sys.getsizeof(my_inst))"
   ]
  },
  {
   "attachments": {},
   "cell_type": "markdown",
   "metadata": {},
   "source": [
    "## Maximum Values"
   ]
  },
  {
   "cell_type": "code",
   "execution_count": 8,
   "metadata": {},
   "outputs": [
    {
     "name": "stdout",
     "output_type": "stream",
     "text": [
      "maxsize   : 9223372036854775807\n",
      "maxunicode: 1114111\n"
     ]
    }
   ],
   "source": [
    "\"\"\" Along with the runtime configurable values, sys includes variables defining the maximum values for types that vary from system to system.\n",
    "maxsize is the maximum size of a list, dictionary, string, or other data structure dictated by the C interprete's size type. \n",
    "maxunicode is the largest integer Unicode point supported by the interpreter as currently configured.\n",
    "\n",
    "$ python3 sys_max\"\"\"\n",
    "\n",
    "print('maxsize   :', sys.maxsize)\n",
    "print('maxunicode:', sys.maxunicode)"
   ]
  },
  {
   "attachments": {},
   "cell_type": "markdown",
   "metadata": {},
   "source": [
    "## Floating Point Values"
   ]
  },
  {
   "cell_type": "code",
   "execution_count": 9,
   "metadata": {},
   "outputs": [
    {
     "name": "stdout",
     "output_type": "stream",
     "text": [
      "Smallest difference (epsilon): 2.220446049250313e-16\n",
      "\n",
      "Digits (dig)              : 15\n",
      "Mantissa digits (mant_dig): 53\n",
      "\n",
      "Maximum (max): 1.7976931348623157e+308\n",
      "Minimum (min): 2.2250738585072014e-308\n",
      "\n",
      "Radix of exponents (radix): 2\n",
      "\n",
      "Maximum exponent for radix (max_exp): 1024\n",
      "Minimum exponent for radix (min_exp): -1021\n",
      "\n",
      "Max. exponent power of 10 (max_10_exp): 308\n",
      "Min. exponent power of 10 (min_10_exp): -307\n",
      "\n",
      "Rounding for addition (rounds): 1\n"
     ]
    }
   ],
   "source": [
    "\"\"\" These values depend on the compiler and underlying system. \"\"\"\n",
    "\n",
    "print('Smallest difference (epsilon):', sys.float_info.epsilon)\n",
    "print()\n",
    "print('Digits (dig)              :', sys.float_info.dig)\n",
    "print('Mantissa digits (mant_dig):', sys.float_info.mant_dig)\n",
    "print()\n",
    "print('Maximum (max):', sys.float_info.max)\n",
    "print('Minimum (min):', sys.float_info.min)\n",
    "print()\n",
    "print('Radix of exponents (radix):', sys.float_info.radix)\n",
    "print()\n",
    "print('Maximum exponent for radix (max_exp):',\n",
    "      sys.float_info.max_exp)\n",
    "print('Minimum exponent for radix (min_exp):',\n",
    "      sys.float_info.min_exp)\n",
    "print()\n",
    "print('Max. exponent power of 10 (max_10_exp):',\n",
    "      sys.float_info.max_10_exp)\n",
    "print('Min. exponent power of 10 (min_10_exp):',\n",
    "      sys.float_info.min_10_exp)\n",
    "print()\n",
    "print('Rounding for addition (rounds):', sys.float_info.rounds)"
   ]
  },
  {
   "cell_type": "markdown",
   "metadata": {},
   "source": [
    "## Integer Values"
   ]
  },
  {
   "cell_type": "code",
   "execution_count": 10,
   "metadata": {},
   "outputs": [
    {
     "name": "stdout",
     "output_type": "stream",
     "text": [
      "Number of bits used to hold each digit: 30\n",
      "Size in bytes of C type used to hold each digit: 4\n"
     ]
    }
   ],
   "source": [
    "print('Number of bits used to hold each digit:', sys.int_info.bits_per_digit)\n",
    "print('Size in bytes of C type used to hold each digit:', sys.int_info.sizeof_digit)\n",
    "\n",
    "# The C type used to store integers internally is determined when the interpreter is built. \n",
    "# 64-bit architectures automatically use 30-bit integers by default, \n",
    "# and they can be enabled for 32-bit architectures with the configuration flag --enable-big-digits.\n"
   ]
  },
  {
   "attachments": {},
   "cell_type": "markdown",
   "metadata": {},
   "source": [
    "## Import Path"
   ]
  },
  {
   "cell_type": "code",
   "execution_count": 12,
   "metadata": {},
   "outputs": [
    {
     "name": "stdout",
     "output_type": "stream",
     "text": [
      "c:\\Users\\Vadim\\Documents\\GitHub\\Python\\_Lessons_\\MEFATHIM\\Sylllabus-AdvancedPython\\week3\\exercises\n",
      "c:\\Program Files\\Python311\\python311.zip\n",
      "c:\\Program Files\\Python311\\Lib\n",
      "c:\\Program Files\\Python311\\DLLs\n",
      "\n",
      "C:\\Users\\Vadim\\AppData\\Roaming\\Python\\Python311\\site-packages\n",
      "C:\\Users\\Vadim\\AppData\\Roaming\\Python\\Python311\\site-packages\\win32\n",
      "C:\\Users\\Vadim\\AppData\\Roaming\\Python\\Python311\\site-packages\\win32\\lib\n",
      "C:\\Users\\Vadim\\AppData\\Roaming\\Python\\Python311\\site-packages\\Pythonwin\n",
      "c:\\Program Files\\Python311\n",
      "c:\\Program Files\\Python311\\Lib\\site-packages\n",
      "c:\\Program Files\\Python311\\Lib\\site-packages\\win32\n",
      "c:\\Program Files\\Python311\\Lib\\site-packages\\win32\\lib\n",
      "c:\\Program Files\\Python311\\Lib\\site-packages\\Pythonwin\n"
     ]
    }
   ],
   "source": [
    "for pth in sys.path:\n",
    "    print(pth)"
   ]
  }
 ],
 "metadata": {
  "kernelspec": {
   "display_name": "Python 3",
   "language": "python",
   "name": "python3"
  },
  "language_info": {
   "codemirror_mode": {
    "name": "ipython",
    "version": 3
   },
   "file_extension": ".py",
   "mimetype": "text/x-python",
   "name": "python",
   "nbconvert_exporter": "python",
   "pygments_lexer": "ipython3",
   "version": "3.11.1"
  },
  "orig_nbformat": 4,
  "vscode": {
   "interpreter": {
    "hash": "5238573367df39f7286bb46f9ff5f08f63a01a80960060ce41e3c79b190280fa"
   }
  }
 },
 "nbformat": 4,
 "nbformat_minor": 2
}
