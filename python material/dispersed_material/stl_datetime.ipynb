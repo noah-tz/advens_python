{
 "cells": [
  {
   "attachments": {},
   "cell_type": "markdown",
   "metadata": {},
   "source": [
    "# datetime — Date and Time Value Manipulation\n",
    "\n",
    "**Purpose**:\tThe datetime module includes functions and classes for doing date and time parsing, formatting, and arithmetic.\n",
    "datetime contains functions and classes for working with dates and times, separately and together."
   ]
  },
  {
   "attachments": {},
   "cell_type": "markdown",
   "metadata": {},
   "source": [
    "## Times"
   ]
  },
  {
   "cell_type": "code",
   "execution_count": 1,
   "metadata": {},
   "outputs": [
    {
     "name": "stdout",
     "output_type": "stream",
     "text": [
      "01:02:03\n",
      "hour       : 1\n",
      "minute     : 2\n",
      "second     : 3\n",
      "microsecond: 0\n",
      "tzinfo     : None\n"
     ]
    }
   ],
   "source": [
    "import datetime\n",
    "\n",
    "t = datetime.time(1, 2, 3)\n",
    "print(t)\n",
    "print('hour       :', t.hour)\n",
    "print('minute     :', t.minute)\n",
    "print('second     :', t.second)\n",
    "print('microsecond:', t.microsecond)\n",
    "print('tzinfo     :', t.tzinfo)\n",
    "\n",
    "# The arguments to initialize a time instance are optional, but the default of 0 is unlikely to be correct.\n",
    "# A time instance only holds values of time, and not a date associated with the time."
   ]
  },
  {
   "cell_type": "code",
   "execution_count": 2,
   "metadata": {},
   "outputs": [
    {
     "name": "stdout",
     "output_type": "stream",
     "text": [
      "Earliest  : 00:00:00\n",
      "Latest    : 23:59:59.999999\n",
      "Resolution: 0:00:00.000001\n"
     ]
    }
   ],
   "source": [
    "print('Earliest  :', datetime.time.min)\n",
    "print('Latest    :', datetime.time.max)\n",
    "print('Resolution:', datetime.time.resolution)\n",
    "\n",
    "# The min and max class attributes reflect the valid range of times in a single day."
   ]
  },
  {
   "attachments": {},
   "cell_type": "markdown",
   "metadata": {},
   "source": [
    "## Dates\n",
    "\n",
    "Calendar date values are represented with the date class. Instances have attributes for year, month, and day. \n",
    "\n",
    "It is easy to create a date representing the current date using the `today()` class method."
   ]
  },
  {
   "cell_type": "code",
   "execution_count": 3,
   "metadata": {},
   "outputs": [
    {
     "name": "stdout",
     "output_type": "stream",
     "text": [
      "2023-02-03\n",
      "ctime  : Fri Feb  3 00:00:00 2023\n",
      "tuple  : tm_year  = 2023\n",
      "         tm_mon   = 2\n",
      "         tm_mday  = 3\n",
      "         tm_hour  = 0\n",
      "         tm_min   = 0\n",
      "         tm_sec   = 0\n",
      "         tm_wday  = 4\n",
      "         tm_yday  = 34\n",
      "         tm_isdst = -1\n",
      "ordinal: 738554\n",
      "Year   : 2023\n",
      "Mon    : 2\n",
      "Day    : 3\n"
     ]
    }
   ],
   "source": [
    "today = datetime.date.today()\n",
    "print(today)\n",
    "print('ctime  :', today.ctime())\n",
    "tt = today.timetuple()\n",
    "print('tuple  : tm_year  =', tt.tm_year)\n",
    "print('         tm_mon   =', tt.tm_mon)\n",
    "print('         tm_mday  =', tt.tm_mday)\n",
    "print('         tm_hour  =', tt.tm_hour)\n",
    "print('         tm_min   =', tt.tm_min)\n",
    "print('         tm_sec   =', tt.tm_sec)\n",
    "print('         tm_wday  =', tt.tm_wday)\n",
    "print('         tm_yday  =', tt.tm_yday)\n",
    "print('         tm_isdst =', tt.tm_isdst)\n",
    "print('ordinal:', today.toordinal())\n",
    "print('Year   :', today.year)\n",
    "print('Mon    :', today.month)\n",
    "print('Day    :', today.day)"
   ]
  },
  {
   "attachments": {},
   "cell_type": "markdown",
   "metadata": {},
   "source": [
    "## timedeltas\n",
    "\n",
    "Future and past dates can be calculated using basic arithmetic on two datetime objects, or by combining a datetime with a timedelta. \n",
    "\n",
    "Subtracting dates produces a timedelta, and a timedelta can be added or subtracted from a date to produce another date. \n",
    "\n",
    "The internal values for a timedelta are stored in days, seconds, and microseconds."
   ]
  },
  {
   "cell_type": "code",
   "execution_count": 4,
   "metadata": {},
   "outputs": [
    {
     "name": "stdout",
     "output_type": "stream",
     "text": [
      "microseconds: 0:00:00.000001\n",
      "milliseconds: 0:00:00.001000\n",
      "seconds     : 0:00:01\n",
      "minutes     : 0:01:00\n",
      "hours       : 1:00:00\n",
      "days        : 1 day, 0:00:00\n",
      "weeks       : 7 days, 0:00:00\n"
     ]
    }
   ],
   "source": [
    "print('microseconds:', datetime.timedelta(microseconds=1))\n",
    "print('milliseconds:', datetime.timedelta(milliseconds=1))\n",
    "print('seconds     :', datetime.timedelta(seconds=1))\n",
    "print('minutes     :', datetime.timedelta(minutes=1))\n",
    "print('hours       :', datetime.timedelta(hours=1))\n",
    "print('days        :', datetime.timedelta(days=1))\n",
    "print('weeks       :', datetime.timedelta(weeks=1))"
   ]
  },
  {
   "cell_type": "code",
   "execution_count": 5,
   "metadata": {},
   "outputs": [
    {
     "name": "stdout",
     "output_type": "stream",
     "text": [
      "0:00:00.000001  =    1e-06 seconds\n",
      "0:00:00.001000  =    0.001 seconds\n",
      "0:00:01         =      1.0 seconds\n",
      "0:01:00         =     60.0 seconds\n",
      "1:00:00         =   3600.0 seconds\n",
      "1 day, 0:00:00  =  86400.0 seconds\n",
      "7 days, 0:00:00 = 604800.0 seconds\n"
     ]
    }
   ],
   "source": [
    "# The full duration of a timedelta can be retrieved as a number of seconds using total_seconds().\n",
    "\n",
    "for delta in [datetime.timedelta(microseconds=1),\n",
    "              datetime.timedelta(milliseconds=1),\n",
    "              datetime.timedelta(seconds=1),\n",
    "              datetime.timedelta(minutes=1),\n",
    "              datetime.timedelta(hours=1),\n",
    "              datetime.timedelta(days=1),\n",
    "              datetime.timedelta(weeks=1),\n",
    "              ]:\n",
    "    print(f'{str(delta) :15} = {delta.total_seconds() :8} seconds')\n",
    "    "
   ]
  },
  {
   "attachments": {},
   "cell_type": "markdown",
   "metadata": {},
   "source": [
    "## Date Arithmetic"
   ]
  },
  {
   "cell_type": "code",
   "execution_count": 8,
   "metadata": {},
   "outputs": [
    {
     "name": "stdout",
     "output_type": "stream",
     "text": [
      "Today    : 2023-02-04\n",
      "One day  : 1 day, 0:00:00\n",
      "Yesterday: 2023-02-03\n",
      "Tomorrow : 2023-02-05\n",
      "\n",
      "tomorrow - yesterday: 2 days, 0:00:00\n",
      "yesterday - tomorrow: -2 days, 0:00:00\n"
     ]
    }
   ],
   "source": [
    "today = datetime.date.today()\n",
    "print('Today    :', today)\n",
    "\n",
    "one_day = datetime.timedelta(days=1)\n",
    "print('One day  :', one_day)\n",
    "\n",
    "yesterday = today - one_day\n",
    "print('Yesterday:', yesterday)\n",
    "\n",
    "tomorrow = today + one_day\n",
    "print('Tomorrow :', tomorrow)\n",
    "\n",
    "print()\n",
    "print('tomorrow - yesterday:', tomorrow - yesterday)\n",
    "print('yesterday - tomorrow:', yesterday - tomorrow)\n",
    "\n",
    "#This example with date objects illustrates using timedelta objects to compute new dates, and subtracting date instances to produce timedeltas (including a negative delta value)."
   ]
  },
  {
   "cell_type": "code",
   "execution_count": 9,
   "metadata": {},
   "outputs": [
    {
     "name": "stdout",
     "output_type": "stream",
     "text": [
      "1 day    : 1 day, 0:00:00\n",
      "5 days   : 5 days, 0:00:00\n",
      "1.5 days : 1 day, 12:00:00\n",
      "1/4 day  : 6:00:00\n",
      "meetings per day : 7.0\n"
     ]
    }
   ],
   "source": [
    "# A timedelta object also supports arithmetic with integers, floats, and other timedelta instances.\n",
    "# In this example, several multiples of a single day are computed, with the resulting timedelta holding the appropriate number of days or hours. \n",
    "# The final example demonstrates how to compute values by combining two timedelta objects. In this case, the result is a floating point number.\n",
    "\n",
    "one_day = datetime.timedelta(days=1)\n",
    "print('1 day    :', one_day)\n",
    "print('5 days   :', one_day * 5)\n",
    "print('1.5 days :', one_day * 1.5)\n",
    "print('1/4 day  :', one_day / 4)\n",
    "\n",
    "# assume an hour for lunch\n",
    "work_day = datetime.timedelta(hours=7)\n",
    "meeting_length = datetime.timedelta(hours=1)\n",
    "print('meetings per day :', work_day / meeting_length)"
   ]
  },
  {
   "attachments": {},
   "cell_type": "markdown",
   "metadata": {},
   "source": [
    "## Comparing Values"
   ]
  },
  {
   "cell_type": "code",
   "execution_count": 10,
   "metadata": {},
   "outputs": [
    {
     "name": "stdout",
     "output_type": "stream",
     "text": [
      "Times:\n",
      "  t1: 12:55:00\n",
      "  t2: 13:05:00\n",
      "  t1 < t2: True\n",
      "\n",
      "Dates:\n",
      "  d1: 2023-02-04\n",
      "  d2: 2023-02-05\n",
      "  d1 > d2: False\n"
     ]
    }
   ],
   "source": [
    "# Both date and time values can be compared using the standard comparison operators to determine which is earlier or later.\n",
    "\n",
    "\n",
    "print('Times:')\n",
    "t1 = datetime.time(12, 55, 0)\n",
    "print('  t1:', t1)\n",
    "t2 = datetime.time(13, 5, 0)\n",
    "print('  t2:', t2)\n",
    "print('  t1 < t2:', t1 < t2)\n",
    "\n",
    "print()\n",
    "print('Dates:')\n",
    "d1 = datetime.date.today()\n",
    "print('  d1:', d1)\n",
    "d2 = datetime.date.today() + datetime.timedelta(days=1)\n",
    "print('  d2:', d2)\n",
    "print('  d1 > d2:', d1 > d2)"
   ]
  },
  {
   "attachments": {},
   "cell_type": "markdown",
   "metadata": {},
   "source": [
    "## Combining Dates and Times"
   ]
  },
  {
   "cell_type": "code",
   "execution_count": 12,
   "metadata": {},
   "outputs": [
    {
     "name": "stdout",
     "output_type": "stream",
     "text": [
      "Now    : 2023-02-04 12:23:14.041237\n",
      "Today  : 2023-02-04 12:23:14.042240\n",
      "UTC Now: 2023-02-04 10:23:14.042239\n",
      "\n",
      "year           : 2023\n",
      "month          : 2\n",
      "day            : 4\n",
      "hour           : 12\n",
      "minute         : 23\n",
      "second         : 14\n",
      "microsecond    : 42239\n"
     ]
    }
   ],
   "source": [
    "# Use the datetime class to hold values consisting of both date and time components. \n",
    "# As with date, there are several convenient class methods to make creating datetime instances from other common values.\n",
    "\n",
    "print('Now    :', datetime.datetime.now())\n",
    "print('Today  :', datetime.datetime.today())\n",
    "print('UTC Now:', datetime.datetime.utcnow())\n",
    "print()\n",
    "\n",
    "FIELDS = [\n",
    "    'year', 'month', 'day',\n",
    "    'hour', 'minute', 'second',\n",
    "    'microsecond',\n",
    "]\n",
    "\n",
    "d = datetime.datetime.now()\n",
    "for attr in FIELDS:\n",
    "    print(f'{attr :15}: {getattr(d, attr)}')"
   ]
  },
  {
   "attachments": {},
   "cell_type": "markdown",
   "metadata": {},
   "source": [
    "## Formatting and Parsing\n",
    "\n",
    "|   Symbol   |   Meaning   |    Example  |\n",
    "| ---- | ---- | ---- |\n",
    "|%a | Abbreviated weekday name   | 'Wed' |\n",
    "|%A\t| Full weekday name\t| 'Wednesday'|\n",
    "|%w\t| Weekday number – 0 (Sunday) through 6 (Saturday)|\t'3' |\n",
    "|%d\t| Day of the month (zero padded) | '13' |\n",
    "|%b\t| Abbreviated month name | 'Jan' |\n",
    "|%B\t| Full month name | 'January' |\n",
    "|%m\t| Month of the year | '01' |\n",
    "|%y\t|Year without century | '16' |\n",
    "|%Y\t| Year with century | '2016' |\n",
    "|%H\t| Hour from 24-hour clock | '17' |\n",
    "|%I\t| Hour from 12-hour clock | '05' |\n",
    "|%p\t| AM/PM | 'PM' |\n",
    "|%M\t| Minutes | '00' |\n",
    "|%S\t| Seconds | '00' |\n",
    "|%f\t| Microseconds | '000000' |\n",
    "|%z\t| UTC offset for time zone-aware objects | '-0500' |\n",
    "|%Z\t| Time Zone name | 'EST' |\n",
    "|%j\t| Day of the year | '013' |\n",
    "|%W\t| Week of the year | '02' |\n",
    "|%c\t| Date and time representation for the current locale | 'Wed Jan 13 17:00:00 2016' |\n",
    "|%x\t| Date representation for the current locale | '01/13/16' |\n",
    "|%X\t| Time representation for the current locale | '17:00:00' |\n",
    "|%%\t| A literal % character | '%' |"
   ]
  },
  {
   "cell_type": "code",
   "execution_count": 13,
   "metadata": {},
   "outputs": [
    {
     "name": "stdout",
     "output_type": "stream",
     "text": [
      "ISO     : 2023-02-04 12:24:40.438616\n",
      "strftime: Sat Feb 04 12:24:40 2023\n",
      "strptime: Sat Feb 04 12:24:40 2023\n"
     ]
    }
   ],
   "source": [
    "# The default string representation of a datetime object uses the ISO-8601 format (YYYY-MM-DDTHH:MM:SS.mmmmmm). \n",
    "# Alternate formats can be generated using strftime().\n",
    "# Use datetime.strptime() to convert formatted strings to datetime instances.\n",
    "\n",
    "format = \"%a %b %d %H:%M:%S %Y\"\n",
    "\n",
    "today = datetime.datetime.today()\n",
    "print('ISO     :', today)\n",
    "\n",
    "s = today.strftime(format)\n",
    "print('strftime:', s)\n",
    "\n",
    "d = datetime.datetime.strptime(s, format)\n",
    "print('strptime:', d.strftime(format))\n"
   ]
  }
 ],
 "metadata": {
  "kernelspec": {
   "display_name": "Python 3",
   "language": "python",
   "name": "python3"
  },
  "language_info": {
   "codemirror_mode": {
    "name": "ipython",
    "version": 3
   },
   "file_extension": ".py",
   "mimetype": "text/x-python",
   "name": "python",
   "nbconvert_exporter": "python",
   "pygments_lexer": "ipython3",
   "version": "3.11.1"
  },
  "orig_nbformat": 4,
  "vscode": {
   "interpreter": {
    "hash": "5238573367df39f7286bb46f9ff5f08f63a01a80960060ce41e3c79b190280fa"
   }
  }
 },
 "nbformat": 4,
 "nbformat_minor": 2
}
