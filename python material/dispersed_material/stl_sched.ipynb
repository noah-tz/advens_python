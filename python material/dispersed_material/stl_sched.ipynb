{
 "cells": [
  {
   "attachments": {},
   "cell_type": "markdown",
   "metadata": {},
   "source": [
    "# sched — Timed Event Scheduler\n",
    "\n",
    "**Purpose**:\tGeneric event scheduler.\n",
    "\n",
    "The sched module implements a generic event scheduler for running tasks at specific times. \n",
    "\n",
    "The scheduler class uses a time function to learn the current time, and a delay function to wait for a specific period of time. The actual units of time are not important, which makes the interface flexible enough to be used for many purposes.\n",
    "\n",
    "The time function is called without any arguments, and should return a number representing the current time. \n",
    "\n",
    "The delay function is called with a single integer argument, using the same scale as the time function, and should wait that many time units before returning. By default monotonic() and sleep() from time are used, but the examples in this section use time.time(), which also meets the requirements, because it makes the output easier to understand.\n",
    "\n",
    "To support multi-threaded applications, the delay function is called with argument 0 after each event is generated, to ensure that other threads also have a chance to run.\n",
    "\n"
   ]
  },
  {
   "attachments": {},
   "cell_type": "markdown",
   "metadata": {},
   "source": [
    "## Running Events With a Delay\n",
    "\n",
    "Events can be scheduled to run after a delay, or at a specific time. To schedule them with a delay, use the enter() method, which takes four arguments.\n",
    "\n",
    "* A number representing the delay\n",
    "* A priority value\n",
    "* The function to call\n",
    "* A tuple of arguments for the function\n"
   ]
  },
  {
   "cell_type": "code",
   "execution_count": 2,
   "metadata": {},
   "outputs": [
    {
     "name": "stdout",
     "output_type": "stream",
     "text": [
      "START: Fri Feb  3 21:33:37 2023\n",
      "EVENT: Fri Feb  3 21:33:39 2023 elapsed=2 name=first\n",
      "EVENT: Fri Feb  3 21:33:40 2023 elapsed=3 name=second\n"
     ]
    }
   ],
   "source": [
    "import sched\n",
    "import time\n",
    "\n",
    "scheduler = sched.scheduler(time.time, time.sleep)\n",
    "\n",
    "\"\"\"This example schedules two different events to run after 2 and 3 seconds respectively. \n",
    "When the event's time comes up, print_event() is called and prints the current time and the name argument passed to the event.\n",
    "\"\"\"\n",
    "def print_event(name, start):\n",
    "    now = time.time()\n",
    "    elapsed = int(now - start)\n",
    "    print(f'EVENT: {time.ctime(now)} elapsed={elapsed} name={name}')\n",
    "\n",
    "\n",
    "start = time.time()\n",
    "print('START:', time.ctime(start))\n",
    "scheduler.enter(2, 1, print_event, ('first', start))\n",
    "scheduler.enter(3, 1, print_event, ('second', start))\n",
    "\n",
    "scheduler.run()\n"
   ]
  },
  {
   "attachments": {},
   "cell_type": "markdown",
   "metadata": {},
   "source": [
    "## Canceling Events\n",
    "\n",
    "Both enter() and enterabs() return a reference to the event that can be used to cancel it later. \n",
    "\n",
    "Because run() blocks, the event has to be canceled in a different thread. \n",
    "\n",
    "For this example, a thread is started to run the scheduler and the main processing thread is used to cancel the event."
   ]
  },
  {
   "cell_type": "code",
   "execution_count": 4,
   "metadata": {},
   "outputs": [
    {
     "name": "stdout",
     "output_type": "stream",
     "text": [
      "START: Fri Feb  3 21:40:38 2023\n",
      "EVENT: Fri Feb  3 21:40:41 2023 E2\n",
      "NOW: 1\n",
      "FINAL: 1\n"
     ]
    }
   ],
   "source": [
    "import sched\n",
    "import threading\n",
    "import time\n",
    "\n",
    "scheduler = sched.scheduler(time.time, time.sleep)\n",
    "\n",
    "# Set up a global to be modified by the threads\n",
    "counter = 0\n",
    "\n",
    "\n",
    "def increment_counter(name):\n",
    "    global counter\n",
    "    print('EVENT:', time.ctime(time.time()), name)\n",
    "    counter += 1\n",
    "    print('NOW:', counter)\n",
    "\n",
    "\n",
    "print('START:', time.ctime(time.time()))\n",
    "e1 = scheduler.enter(2, 1, increment_counter, ('E1',))\n",
    "e2 = scheduler.enter(3, 1, increment_counter, ('E2',))\n",
    "\n",
    "# Start a thread to run the events\n",
    "t = threading.Thread(target=scheduler.run)\n",
    "t.start()\n",
    "\n",
    "# Back in the main thread, cancel the first scheduled event.\n",
    "scheduler.cancel(e1)\n",
    "\n",
    "# Wait for the scheduler to finish running in the thread\n",
    "t.join()\n",
    "\n",
    "print('FINAL:', counter)"
   ]
  }
 ],
 "metadata": {
  "kernelspec": {
   "display_name": "Python 3",
   "language": "python",
   "name": "python3"
  },
  "language_info": {
   "codemirror_mode": {
    "name": "ipython",
    "version": 3
   },
   "file_extension": ".py",
   "mimetype": "text/x-python",
   "name": "python",
   "nbconvert_exporter": "python",
   "pygments_lexer": "ipython3",
   "version": "3.11.1"
  },
  "orig_nbformat": 4,
  "vscode": {
   "interpreter": {
    "hash": "5238573367df39f7286bb46f9ff5f08f63a01a80960060ce41e3c79b190280fa"
   }
  }
 },
 "nbformat": 4,
 "nbformat_minor": 2
}
