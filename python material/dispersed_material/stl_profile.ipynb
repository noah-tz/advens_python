{
 "cells": [
  {
   "attachments": {},
   "cell_type": "markdown",
   "metadata": {},
   "source": [
    "# profile and pstats — Performance Analysis\n",
    "\n",
    "**Purpose**:\tPerformance analysis of Python programs.\n",
    "\n",
    "The profile module provides APIs for collecting and analyzing statistics about how Python source consumes processor resources."
   ]
  },
  {
   "attachments": {},
   "cell_type": "markdown",
   "metadata": {},
   "source": [
    "## Running the Profiler\n",
    "\n",
    "The most basic starting point in the profile module is `run()`. \n",
    "\n",
    "It takes a string statement as argument, and creates a report of the time spent executing different lines of code while running the statement."
   ]
  },
  {
   "cell_type": "code",
   "execution_count": 9,
   "metadata": {},
   "outputs": [
    {
     "name": "stdout",
     "output_type": "stream",
     "text": [
      "[0, 1, 1, 2, 3, 5, 8, 13, 21, 34, 55, 89, 144, 233, 377, 610, 987, 1597, 2584, 4181, 6765]\n",
      "\n",
      "         57391 function calls (101 primitive calls) in 0.094 seconds\n",
      "\n",
      "   Ordered by: standard name\n",
      "\n",
      "   ncalls  tottime  percall  cumtime  percall filename:lineno(function)\n",
      "     21/1    0.000    0.000    0.094    0.094 1139073391.py:13(fib_seq)\n",
      " 57291/21    0.094    0.000    0.094    0.004 1139073391.py:4(fib)\n",
      "        3    0.000    0.000    0.000    0.000 :0(__exit__)\n",
      "        1    0.000    0.000    0.000    0.000 :0(acquire)\n",
      "       22    0.000    0.000    0.000    0.000 :0(append)\n",
      "        1    0.000    0.000    0.094    0.094 :0(exec)\n",
      "       20    0.000    0.000    0.000    0.000 :0(extend)\n",
      "        3    0.000    0.000    0.000    0.000 :0(getpid)\n",
      "        3    0.000    0.000    0.000    0.000 :0(isinstance)\n",
      "        3    0.000    0.000    0.000    0.000 :0(len)\n",
      "        2    0.000    0.000    0.000    0.000 :0(print)\n",
      "        1    0.000    0.000    0.000    0.000 :0(setprofile)\n",
      "        3    0.000    0.000    0.000    0.000 :0(write)\n",
      "        1    0.000    0.000    0.094    0.094 <string>:1(<module>)\n",
      "        1    0.000    0.000    0.000    0.000 iostream.py:202(schedule)\n",
      "        3    0.000    0.000    0.000    0.000 iostream.py:437(_is_master_process)\n",
      "        3    0.000    0.000    0.000    0.000 iostream.py:456(_schedule_flush)\n",
      "        3    0.000    0.000    0.000    0.000 iostream.py:526(write)\n",
      "        1    0.000    0.000    0.000    0.000 iostream.py:90(_event_pipe)\n",
      "        1    0.000    0.000    0.094    0.094 profile:0(print(fib_seq(20)); print())\n",
      "        0    0.000             0.000          profile:0(profiler)\n",
      "        1    0.000    0.000    0.000    0.000 socket.py:545(send)\n",
      "        1    0.000    0.000    0.000    0.000 threading.py:1118(_wait_for_tstate_lock)\n",
      "        1    0.000    0.000    0.000    0.000 threading.py:1185(is_alive)\n",
      "        1    0.000    0.000    0.000    0.000 threading.py:568(is_set)\n",
      "\n",
      "\n"
     ]
    }
   ],
   "source": [
    "import profile\n",
    "\n",
    "\n",
    "def fib(n):\n",
    "    if n == 0:\n",
    "        return 0\n",
    "    elif n == 1:\n",
    "        return 1\n",
    "    else:\n",
    "        return fib(n - 1) + fib(n - 2)\n",
    "\n",
    "\n",
    "def fib_seq(n):\n",
    "    seq = []\n",
    "    if n > 0:\n",
    "        seq.extend(fib_seq(n - 1))\n",
    "    seq.append(fib(n))\n",
    "    return seq\n",
    "\n",
    "\n",
    "profile.run('print(fib_seq(20)); print()')"
   ]
  },
  {
   "attachments": {},
   "cell_type": "markdown",
   "metadata": {},
   "source": [
    "## pstats: Saving and Working With Statistics\n",
    "\n",
    "The standard report created by the profile functions is not very flexible. \n",
    "\n",
    "However, custom reports can be produced by saving the raw profiling data from `run()` and `runctx()` and processing it separately with the pstats.Stats class.\n",
    "\n",
    "This example runs several iterations of the same test and combines the results:"
   ]
  },
  {
   "cell_type": "code",
   "execution_count": 10,
   "metadata": {},
   "outputs": [
    {
     "name": "stdout",
     "output_type": "stream",
     "text": [
      "0 [0, 1, 1, 2, 3, 5, 8, 13, 21, 34, 55, 89, 144, 233, 377, 610, 987, 1597, 2584, 4181, 6765]\n",
      "1 [0, 1, 1, 2, 3, 5, 8, 13, 21, 34, 55, 89, 144, 233, 377, 610, 987, 1597, 2584, 4181, 6765]\n",
      "2 [0, 1, 1, 2, 3, 5, 8, 13, 21, 34, 55, 89, 144, 233, 377, 610, 987, 1597, 2584, 4181, 6765]\n",
      "3 [0, 1, 1, 2, 3, 5, 8, 13, 21, 34, 55, 89, 144, 233, 377, 610, 987, 1597, 2584, 4181, 6765]\n",
      "4 [0, 1, 1, 2, 3, 5, 8, 13, 21, 34, 55, 89, 144, 233, 377, 610, 987, 1597, 2584, 4181, 6765]\n",
      "Sat Feb  4 13:14:51 2023    profile_stats_0.stats\n",
      "Sat Feb  4 13:14:51 2023    profile_stats_1.stats\n",
      "Sat Feb  4 13:14:51 2023    profile_stats_2.stats\n",
      "Sat Feb  4 13:14:51 2023    profile_stats_3.stats\n",
      "Sat Feb  4 13:14:51 2023    profile_stats_4.stats\n",
      "\n",
      "         498 function calls (398 primitive calls) in 0.003 seconds\n",
      "\n",
      "   Ordered by: cumulative time\n",
      "\n",
      "   ncalls  tottime  percall  cumtime  percall filename:lineno(function)\n",
      "        5    0.001    0.000    0.003    0.001 {built-in method builtins.exec}\n",
      "        5    0.000    0.000    0.002    0.000 <string>:1(<module>)\n",
      "        5    0.000    0.000    0.001    0.000 {built-in method builtins.print}\n",
      "       20    0.000    0.000    0.001    0.000 iostream.py:526(write)\n",
      "    105/5    0.000    0.000    0.001    0.000 profile_fibonacci_memoized.py:24(fib_seq)\n",
      "       20    0.000    0.000    0.001    0.000 iostream.py:456(_schedule_flush)\n",
      "        1    0.000    0.000    0.001    0.001 iostream.py:202(schedule)\n",
      "        1    0.000    0.000    0.000    0.000 socket.py:545(send)\n",
      "       20    0.000    0.000    0.000    0.000 iostream.py:437(_is_master_process)\n",
      "      105    0.000    0.000    0.000    0.000 {method 'append' of 'list' objects}\n",
      "      100    0.000    0.000    0.000    0.000 {method 'extend' of 'list' objects}\n",
      "        1    0.000    0.000    0.000    0.000 threading.py:1185(is_alive)\n",
      "       20    0.000    0.000    0.000    0.000 {built-in method nt.getpid}\n",
      "       20    0.000    0.000    0.000    0.000 {method '__exit__' of '_thread.RLock' objects}\n",
      "       20    0.000    0.000    0.000    0.000 {method 'write' of '_io.StringIO' objects}\n",
      "       20    0.000    0.000    0.000    0.000 {built-in method builtins.isinstance}\n",
      "       20    0.000    0.000    0.000    0.000 {built-in method builtins.len}\n",
      "        1    0.000    0.000    0.000    0.000 threading.py:1118(_wait_for_tstate_lock)\n",
      "        1    0.000    0.000    0.000    0.000 iostream.py:90(_event_pipe)\n",
      "        5    0.000    0.000    0.000    0.000 {method 'disable' of '_lsprof.Profiler' objects}\n",
      "        1    0.000    0.000    0.000    0.000 {method 'acquire' of '_thread.lock' objects}\n",
      "        1    0.000    0.000    0.000    0.000 threading.py:568(is_set)\n",
      "        1    0.000    0.000    0.000    0.000 {method 'append' of 'collections.deque' objects}\n",
      "\n",
      "\n"
     ]
    },
    {
     "data": {
      "text/plain": [
       "<pstats.Stats at 0x232501e65d0>"
      ]
     },
     "execution_count": 10,
     "metadata": {},
     "output_type": "execute_result"
    }
   ],
   "source": [
    "import cProfile as profile\n",
    "import pstats\n",
    "from profile_fibonacci_memoized import fib, fib_seq\n",
    "\n",
    "# Create 5 set of stats\n",
    "for i in range(5):\n",
    "    filename = f'profile_stats_{i}.stats'\n",
    "    profile.run(f'print({i}, fib_seq(20))', filename)\n",
    "\n",
    "# Read all 5 stats files into a single object\n",
    "stats = pstats.Stats('profile_stats_0.stats')\n",
    "for i in range(1, 5):\n",
    "    stats.add(f'profile_stats_{i}.stats')\n",
    "\n",
    "# Clean up filenames for the report\n",
    "stats.strip_dirs()\n",
    "\n",
    "# Sort the statistics by the cumulative time spent\n",
    "# in the function\n",
    "stats.sort_stats('cumulative')\n",
    "\n",
    "stats.print_stats()"
   ]
  },
  {
   "attachments": {},
   "cell_type": "markdown",
   "metadata": {},
   "source": [
    "## Limiting Report Contents\n",
    "\n",
    "The output can be restricted by function. \n",
    "\n",
    "This version only shows information about the performance of `fib()` and `fib_seq()` by using a regular expression to match the desired filename:lineno(function) values."
   ]
  },
  {
   "cell_type": "code",
   "execution_count": 11,
   "metadata": {},
   "outputs": [
    {
     "name": "stdout",
     "output_type": "stream",
     "text": [
      "Sat Feb  4 13:14:51 2023    profile_stats_0.stats\n",
      "Sat Feb  4 13:14:51 2023    profile_stats_1.stats\n",
      "Sat Feb  4 13:14:51 2023    profile_stats_2.stats\n",
      "Sat Feb  4 13:14:51 2023    profile_stats_3.stats\n",
      "Sat Feb  4 13:14:51 2023    profile_stats_4.stats\n",
      "\n",
      "         498 function calls (398 primitive calls) in 0.003 seconds\n",
      "\n",
      "   Ordered by: cumulative time\n",
      "   List reduced from 23 to 1 due to restriction <'\\\\(fib'>\n",
      "\n",
      "   ncalls  tottime  percall  cumtime  percall filename:lineno(function)\n",
      "    105/5    0.000    0.000    0.001    0.000 profile_fibonacci_memoized.py:24(fib_seq)\n",
      "\n",
      "\n"
     ]
    },
    {
     "data": {
      "text/plain": [
       "<pstats.Stats at 0x232501f7710>"
      ]
     },
     "execution_count": 11,
     "metadata": {},
     "output_type": "execute_result"
    }
   ],
   "source": [
    "import profile\n",
    "import pstats\n",
    "from profile_fibonacci_memoized import fib, fib_seq\n",
    "\n",
    "# Read all 5 stats files into a single object\n",
    "stats = pstats.Stats('profile_stats_0.stats')\n",
    "for i in range(1, 5):\n",
    "    stats.add(f'profile_stats_{i}.stats')\n",
    "stats.strip_dirs()\n",
    "stats.sort_stats('cumulative')\n",
    "\n",
    "# limit output to lines with \"(fib\" in them\n",
    "stats.print_stats('\\(fib')"
   ]
  }
 ],
 "metadata": {
  "kernelspec": {
   "display_name": "Python 3",
   "language": "python",
   "name": "python3"
  },
  "language_info": {
   "codemirror_mode": {
    "name": "ipython",
    "version": 3
   },
   "file_extension": ".py",
   "mimetype": "text/x-python",
   "name": "python",
   "nbconvert_exporter": "python",
   "pygments_lexer": "ipython3",
   "version": "3.11.1"
  },
  "orig_nbformat": 4,
  "vscode": {
   "interpreter": {
    "hash": "5238573367df39f7286bb46f9ff5f08f63a01a80960060ce41e3c79b190280fa"
   }
  }
 },
 "nbformat": 4,
 "nbformat_minor": 2
}
