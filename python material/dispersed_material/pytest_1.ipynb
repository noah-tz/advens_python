{
 "cells": [
  {
   "attachments": {},
   "cell_type": "markdown",
   "metadata": {},
   "source": [
    "# **Pytest**\n"
   ]
  },
  {
   "attachments": {},
   "cell_type": "markdown",
   "metadata": {},
   "source": [
    "The function should output a list of strings that include each person’s full name (their given_name followed by their family_name), a colon, and their title:"
   ]
  },
  {
   "cell_type": "code",
   "execution_count": 1,
   "metadata": {},
   "outputs": [
    {
     "name": "stdout",
     "output_type": "stream",
     "text": [
      "Overwriting format_data.py\n"
     ]
    }
   ],
   "source": [
    "%%file format_data.py\n",
    "\n",
    "def format_data_for_display(peoples: dict) -> list[str]:\n",
    "    \"\"\"\n",
    "    The function should output a list of strings that include each person’s full name\n",
    "    (their given_name followed by their family_name), a colon, and their title:\n",
    "    \"\"\"\n",
    "    #do some code and return the desire results\n",
    "    return [\n",
    "        f\"{people['given_name']} {people['family_name']}: {people['title']}\"\n",
    "        for people in peoples\n",
    "    ]"
   ]
  },
  {
   "cell_type": "code",
   "execution_count": 2,
   "metadata": {},
   "outputs": [
    {
     "name": "stdout",
     "output_type": "stream",
     "text": [
      "Overwriting test_format_data.py\n"
     ]
    }
   ],
   "source": [
    "%%file test_format_data.py\n",
    "\n",
    "from format_data import *\n",
    "\n",
    "\n",
    "def test_format_data_for_display():\n",
    "\n",
    "    people = [\n",
    "        {\n",
    "            \"given_name\": \"Alfonsa\",\n",
    "            \"family_name\": \"Ruiz\",\n",
    "            \"title\": \"Senior Software Engineer\",\n",
    "        },\n",
    "        {\n",
    "            \"given_name\": \"Sayid\",\n",
    "            \"family_name\": \"Khan\",\n",
    "            \"title\": \"Project Manager\",\n",
    "        },\n",
    "    ]\n",
    "\n",
    "    assert format_data_for_display(people) == [\n",
    "        \"Alfonsa Ruiz: Senior Software Engineer\",\n",
    "        \"Sayid Khan: Project Manager\",\n",
    "    ]\n",
    "\n"
   ]
  },
  {
   "cell_type": "code",
   "execution_count": 4,
   "metadata": {},
   "outputs": [
    {
     "name": "stdout",
     "output_type": "stream",
     "text": [
      "\u001b[1m============================= test session starts ==============================\u001b[0m\n",
      "platform linux -- Python 3.11.1, pytest-7.2.1, pluggy-0.13.0\n",
      "rootdir: /home/mefathim/Documents/advanced_python/testing\n",
      "collected 1 item                                                               \u001b[0m\n",
      "\n",
      "test_format_data.py \u001b[32m.\u001b[0m\u001b[32m                                                    [100%]\u001b[0m\n",
      "\n",
      "\u001b[32m============================== \u001b[32m\u001b[1m1 passed\u001b[0m\u001b[32m in 0.01s\u001b[0m\u001b[32m ===============================\u001b[0m\n"
     ]
    }
   ],
   "source": [
    "!python3 -m pytest test_format_data.py"
   ]
  },
  {
   "cell_type": "code",
   "execution_count": 16,
   "metadata": {},
   "outputs": [
    {
     "name": "stdout",
     "output_type": "stream",
     "text": [
      "Overwriting format_data.py\n"
     ]
    }
   ],
   "source": [
    "%%file format_data.py\n",
    "\n",
    "def format_data_for_display(peoples: dict) -> list[str]:\n",
    "    \"\"\"\n",
    "    The function should output a list of strings that include each person full name\n",
    "    (their given_name followed by their family_name), a colon, and their title:\n",
    "    \"\"\"\n",
    "    #do some code and return the desire results\n",
    "    return [\n",
    "        f\"{people['given_name']} {people['family_name']}: {people['title']}\"\n",
    "        for people in peoples\n",
    "    ]\n",
    "\n",
    "\n",
    "def format_data_for_excel(peoples: dict) -> str:\n",
    "    \"\"\"\n",
    "    The function should output a list of strings that include each person’s full name\n",
    "    (their given_name followed by their family_name), and their title, fit for excel\n",
    "    \"\"\"\n",
    "    #do some code and return the desire results\n",
    "    return \"given,family,title\\n\" + \"\".join(\n",
    "        f\"{people['given_name']},{people['family_name']},{people['title']}\\n\"\n",
    "        for people in peoples\n",
    "    )"
   ]
  },
  {
   "cell_type": "code",
   "execution_count": 63,
   "metadata": {},
   "outputs": [
    {
     "name": "stdout",
     "output_type": "stream",
     "text": [
      "Overwriting test_format_data.py\n"
     ]
    }
   ],
   "source": [
    "%%file test_format_data.py\n",
    "\n",
    "from format_data import *\n",
    "\n",
    "\n",
    "def test_format_data_for_display():\n",
    "    people = [\n",
    "        {\n",
    "            \"given_name\": \"Alfonsa\",\n",
    "            \"family_name\": \"Ruiz\",\n",
    "            \"title\": \"Senior Software Engineer\",\n",
    "        },\n",
    "        {\n",
    "            \"given_name\": \"Sayid\",\n",
    "            \"family_name\": \"Khan\",\n",
    "            \"title\": \"Project Manager\",\n",
    "        },\n",
    "    ]\n",
    "\n",
    "    assert format_data_for_display(people) == [\n",
    "        \"Alfonsa Ruiz: Senior Software Engineer\",\n",
    "        \"Sayid Khan: Project Manager\",\n",
    "    ]\n",
    "\n",
    "\n",
    "def test_format_data_for_excel():\n",
    "    people = [\n",
    "        {\n",
    "            \"given_name\": \"Alfonsa\",\n",
    "            \"family_name\": \"Ruiz\",\n",
    "            \"title\": \"Senior Software Engineer\",\n",
    "        },\n",
    "        {\n",
    "            \"given_name\": \"Sayid\",\n",
    "            \"family_name\": \"Khan\",\n",
    "            \"title\": \"Project Manager\",\n",
    "        },\n",
    "    ]\n",
    "    \n",
    "    assert (\n",
    "        format_data_for_excel(people)\n",
    "        == \"\"\"given,family,title\n",
    "Alfonsa,Ruiz,Senior Software Engineer\n",
    "Sayid,Khan,Project Manager\n",
    "\"\"\"\n",
    ")"
   ]
  },
  {
   "cell_type": "code",
   "execution_count": 64,
   "metadata": {},
   "outputs": [
    {
     "name": "stdout",
     "output_type": "stream",
     "text": [
      "\u001b[1m============================= test session starts ==============================\u001b[0m\n",
      "platform linux -- Python 3.11.1, pytest-7.2.1, pluggy-0.13.0 -- /bin/python3\n",
      "cachedir: .pytest_cache\n",
      "rootdir: /home/mefathim/Documents/advanced_python\n",
      "collected 2 items                                                              \u001b[0m\n",
      "\n",
      "test_format_data.py::test_format_data_for_display \u001b[32mPASSED\u001b[0m\u001b[32m                 [ 50%]\u001b[0m\n",
      "test_format_data.py::test_format_data_for_excel \u001b[32mPASSED\u001b[0m\u001b[32m                   [100%]\u001b[0m\n",
      "\n",
      "\u001b[32m============================== \u001b[32m\u001b[1m2 passed\u001b[0m\u001b[32m in 0.01s\u001b[0m\u001b[32m ===============================\u001b[0m\n"
     ]
    }
   ],
   "source": [
    "!python3 -m pytest test_format_data.py -v"
   ]
  },
  {
   "attachments": {},
   "cell_type": "markdown",
   "metadata": {},
   "source": [
    "# **Pytest : Fixtures**\n",
    "\n",
    "- #### Fixtures are functions, which will run before each test function to which it is applied.\n",
    "\n",
    "- #### Fixtures are used to feed some data to the tests such as database connections, URLs to test and some sort of input data.\n",
    "\n",
    "- #### A function is marked as a fixture by: **@pytest.fixtuer**"
   ]
  },
  {
   "attachments": {},
   "cell_type": "markdown",
   "metadata": {},
   "source": [
    "#### in the following example we don't use @pytest.fixtur and we can see that the *example_people_data* attribute can be modify\n",
    "#### so we fail in the *test_format_data_for_excel* function"
   ]
  },
  {
   "cell_type": "code",
   "execution_count": 17,
   "metadata": {},
   "outputs": [
    {
     "name": "stdout",
     "output_type": "stream",
     "text": [
      "Overwriting test_format_data.py\n"
     ]
    }
   ],
   "source": [
    "%%file test_format_data.py\n",
    "\n",
    "import format_data\n",
    "import pytest\n",
    "\n",
    "\n",
    "example_people_data = [\n",
    "        {\n",
    "            \"given_name\": \"Alfonsa\",\n",
    "            \"family_name\": \"Ruiz\",\n",
    "            \"title\": \"Senior Software Engineer\",\n",
    "        },\n",
    "        {\n",
    "            \"given_name\": \"Sayid\",\n",
    "            \"family_name\": \"Khan\",\n",
    "            \"title\": \"Project Manager\",\n",
    "        },\n",
    "    ]\n",
    "\n",
    "def test_format_data_for_display():\n",
    "    assert format_data.format_data_for_display(example_people_data) == [\n",
    "        \"Alfonsa Ruiz: Senior Software Engineer\",\n",
    "        \"Sayid Khan: Project Manager\",\n",
    "    ]\n",
    "    example_people_data[0][\"given_name\"] = \"Moshe\"\n",
    "\n",
    "\n",
    "def test_format_data_for_excel():\n",
    "    assert (\n",
    "        format_data.format_data_for_excel(example_people_data)\n",
    "        == \"\"\"given,family,title\n",
    "Alfonsa,Ruiz,Senior Software Engineer\n",
    "Sayid,Khan,Project Manager\n",
    "\"\"\"\n",
    ")"
   ]
  },
  {
   "cell_type": "code",
   "execution_count": 18,
   "metadata": {},
   "outputs": [
    {
     "name": "stdout",
     "output_type": "stream",
     "text": [
      "\u001b[1m============================= test session starts ==============================\u001b[0m\n",
      "platform linux -- Python 3.11.1, pytest-7.2.1, pluggy-0.13.0 -- /bin/python3\n",
      "cachedir: .pytest_cache\n",
      "rootdir: /home/mefathim/Documents/advanced_python/testing\n",
      "collected 2 items                                                              \u001b[0m\n",
      "\n",
      "test_format_data.py::test_format_data_for_display \u001b[32mPASSED\u001b[0m\u001b[32m                 [ 50%]\u001b[0m\n",
      "test_format_data.py::test_format_data_for_excel \u001b[31mFAILED\u001b[0m\u001b[31m                   [100%]\u001b[0m\n",
      "\n",
      "=================================== FAILURES ===================================\n",
      "\u001b[31m\u001b[1m__________________________ test_format_data_for_excel __________________________\u001b[0m\n",
      "\n",
      "    \u001b[94mdef\u001b[39;49;00m \u001b[92mtest_format_data_for_excel\u001b[39;49;00m():\u001b[90m\u001b[39;49;00m\n",
      ">       \u001b[94massert\u001b[39;49;00m (\u001b[90m\u001b[39;49;00m\n",
      "            format_data.format_data_for_excel(example_people_data)\u001b[90m\u001b[39;49;00m\n",
      "            == \u001b[33m\"\"\"\u001b[39;49;00m\u001b[33mgiven,family,title\u001b[39;49;00m\u001b[33m\u001b[39;49;00m\n",
      "    \u001b[33mAlfonsa,Ruiz,Senior Software Engineer\u001b[39;49;00m\u001b[33m\u001b[39;49;00m\n",
      "    \u001b[33mSayid,Khan,Project Manager\u001b[39;49;00m\u001b[33m\u001b[39;49;00m\n",
      "    \u001b[33m\"\"\"\u001b[39;49;00m\u001b[90m\u001b[39;49;00m\n",
      "    )\u001b[90m\u001b[39;49;00m\n",
      "\u001b[1m\u001b[31mE       AssertionError: assert 'given,family...ect Manager\\n' == 'given,family...ect Manager\\n'\u001b[0m\n",
      "\u001b[1m\u001b[31mE           given,family,title\u001b[0m\n",
      "\u001b[1m\u001b[31mE         - Alfonsa,Ruiz,Senior Software Engineer\u001b[0m\n",
      "\u001b[1m\u001b[31mE         ? ^^^ - ^\u001b[0m\n",
      "\u001b[1m\u001b[31mE         + Moshe,Ruiz,Senior Software Engineer\u001b[0m\n",
      "\u001b[1m\u001b[31mE         ? ^  ^^\u001b[0m\n",
      "\u001b[1m\u001b[31mE           Sayid,Khan,Project Manager\u001b[0m\n",
      "\n",
      "\u001b[1m\u001b[31mtest_format_data.py\u001b[0m:28: AssertionError\n",
      "\u001b[36m\u001b[1m=========================== short test summary info ============================\u001b[0m\n",
      "\u001b[31mFAILED\u001b[0m test_format_data.py::\u001b[1mtest_format_data_for_excel\u001b[0m - AssertionError: assert 'given,family...ect Manager\\n' == 'given,family...ec...\n",
      "\u001b[31m========================= \u001b[31m\u001b[1m1 failed\u001b[0m, \u001b[32m1 passed\u001b[0m\u001b[31m in 0.08s\u001b[0m\u001b[31m ==========================\u001b[0m\n"
     ]
    }
   ],
   "source": [
    "!python3 -m pytest test_format_data.py -v"
   ]
  },
  {
   "attachments": {},
   "cell_type": "markdown",
   "metadata": {},
   "source": [
    "#### here we are using @pytest.fixtur and we can see that the data can't be modify\n",
    "#### so we sucssed in the *test_format_data_for_excel* function"
   ]
  },
  {
   "cell_type": "code",
   "execution_count": 19,
   "metadata": {},
   "outputs": [
    {
     "name": "stdout",
     "output_type": "stream",
     "text": [
      "Overwriting test_format_data.py\n"
     ]
    }
   ],
   "source": [
    "%%file test_format_data.py\n",
    "\n",
    "import format_data\n",
    "import pytest\n",
    "\n",
    "@pytest.fixture\n",
    "def example_people_data():\n",
    "    return [\n",
    "        {\n",
    "            \"given_name\": \"Alfonsa\",\n",
    "            \"family_name\": \"Ruiz\",\n",
    "            \"title\": \"Senior Software Engineer\",\n",
    "        },\n",
    "        {\n",
    "            \"given_name\": \"Sayid\",\n",
    "            \"family_name\": \"Khan\",\n",
    "            \"title\": \"Project Manager\",\n",
    "        },\n",
    "    ]\n",
    "\n",
    "def test_format_data_for_display(example_people_data):\n",
    "    assert format_data.format_data_for_display(example_people_data) == [\n",
    "        \"Alfonsa Ruiz: Senior Software Engineer\",\n",
    "        \"Sayid Khan: Project Manager\",\n",
    "    ]\n",
    "    example_people_data[0][\"given_name\"] = \"Moshe\"\n",
    "\n",
    "\n",
    "def test_format_data_for_excel(example_people_data):\n",
    "    assert (\n",
    "        format_data.format_data_for_excel(example_people_data)\n",
    "        == \"\"\"given,family,title\n",
    "Alfonsa,Ruiz,Senior Software Engineer\n",
    "Sayid,Khan,Project Manager\n",
    "\"\"\"\n",
    ")"
   ]
  },
  {
   "cell_type": "code",
   "execution_count": 20,
   "metadata": {},
   "outputs": [
    {
     "name": "stdout",
     "output_type": "stream",
     "text": [
      "\u001b[1m============================= test session starts ==============================\u001b[0m\n",
      "platform linux -- Python 3.11.1, pytest-7.2.1, pluggy-0.13.0 -- /bin/python3\n",
      "cachedir: .pytest_cache\n",
      "rootdir: /home/mefathim/Documents/advanced_python/testing\n",
      "collected 2 items                                                              \u001b[0m\n",
      "\n",
      "test_format_data.py::test_format_data_for_display \u001b[32mPASSED\u001b[0m\u001b[32m                 [ 50%]\u001b[0m\n",
      "test_format_data.py::test_format_data_for_excel \u001b[32mPASSED\u001b[0m\u001b[32m                   [100%]\u001b[0m\n",
      "\n",
      "\u001b[32m============================== \u001b[32m\u001b[1m2 passed\u001b[0m\u001b[32m in 0.01s\u001b[0m\u001b[32m ===============================\u001b[0m\n"
     ]
    }
   ],
   "source": [
    "!python3 -m pytest test_format_data.py -v"
   ]
  },
  {
   "attachments": {},
   "cell_type": "markdown",
   "metadata": {},
   "source": [
    "## **Fixtures are reusable**\n",
    "\n",
    "- The data returned from the fixture function can't be modify"
   ]
  },
  {
   "cell_type": "code",
   "execution_count": 108,
   "metadata": {},
   "outputs": [
    {
     "name": "stdout",
     "output_type": "stream",
     "text": [
      "Writing test_order.py\n"
     ]
    }
   ],
   "source": [
    "%%file test_order.py\n",
    "import pytest\n",
    "\n",
    "\n",
    "@pytest.fixture\n",
    "def first_entry():\n",
    "    return \"a\"\n",
    "\n",
    "\n",
    "@pytest.fixture\n",
    "def order(first_entry):\n",
    "    return [first_entry]\n",
    "\n",
    "\n",
    "def test_string(order):\n",
    "    order.append(\"b\")\n",
    "    assert order == [\"a\", \"b\"]\n",
    "\n",
    "\n",
    "def test_int(order):\n",
    "    order.append(2)\n",
    "    assert order == [\"a\", 2]"
   ]
  },
  {
   "cell_type": "code",
   "execution_count": 109,
   "metadata": {},
   "outputs": [
    {
     "name": "stdout",
     "output_type": "stream",
     "text": [
      "74187.81s - pydevd: Sending message related to process being replaced timed-out after 5 seconds\n",
      "\u001b[1m============================= test session starts ==============================\u001b[0m\n",
      "platform linux -- Python 3.11.1, pytest-7.2.1, pluggy-0.13.0 -- /bin/python3\n",
      "cachedir: .pytest_cache\n",
      "rootdir: /home/mefathim/Documents/advanced_python\n",
      "collected 2 items                                                              \u001b[0m\n",
      "\n",
      "test_order.py::test_string \u001b[32mPASSED\u001b[0m\u001b[32m                                        [ 50%]\u001b[0m\n",
      "test_order.py::test_int \u001b[32mPASSED\u001b[0m\u001b[32m                                           [100%]\u001b[0m\n",
      "\n",
      "\u001b[32m============================== \u001b[32m\u001b[1m2 passed\u001b[0m\u001b[32m in 0.01s\u001b[0m\u001b[32m ===============================\u001b[0m\n"
     ]
    }
   ],
   "source": [
    "!python3 -m pytest test_order.py -v"
   ]
  },
  {
   "attachments": {},
   "cell_type": "markdown",
   "metadata": {},
   "source": [
    "## **fixture can request more than one fixture at a time**"
   ]
  },
  {
   "cell_type": "code",
   "execution_count": 111,
   "metadata": {},
   "outputs": [
    {
     "name": "stdout",
     "output_type": "stream",
     "text": [
      "Overwriting test_order.py\n"
     ]
    }
   ],
   "source": [
    "%%file test_order.py\n",
    "import pytest\n",
    "\n",
    "\n",
    "@pytest.fixture\n",
    "def first_entry():\n",
    "    return \"a\"\n",
    "\n",
    "\n",
    "@pytest.fixture\n",
    "def second_entry():\n",
    "    return 2\n",
    "\n",
    "\n",
    "@pytest.fixture\n",
    "def order(first_entry, second_entry):\n",
    "    return [first_entry, second_entry]\n",
    "\n",
    "\n",
    "@pytest.fixture\n",
    "def expected_list():\n",
    "    return [\"a\", 2, 3.0]\n",
    "\n",
    "\n",
    "def test_string(order, expected_list):\n",
    "    order.append(3.0)\n",
    "    assert order == expected_list"
   ]
  },
  {
   "cell_type": "code",
   "execution_count": 112,
   "metadata": {},
   "outputs": [
    {
     "name": "stdout",
     "output_type": "stream",
     "text": [
      "74681.91s - pydevd: Sending message related to process being replaced timed-out after 5 seconds\n",
      "\u001b[1m============================= test session starts ==============================\u001b[0m\n",
      "platform linux -- Python 3.11.1, pytest-7.2.1, pluggy-0.13.0 -- /bin/python3\n",
      "cachedir: .pytest_cache\n",
      "rootdir: /home/mefathim/Documents/advanced_python\n",
      "collected 1 item                                                               \u001b[0m\n",
      "\n",
      "test_order.py::test_string \u001b[32mPASSED\u001b[0m\u001b[32m                                        [100%]\u001b[0m\n",
      "\n",
      "\u001b[32m============================== \u001b[32m\u001b[1m1 passed\u001b[0m\u001b[32m in 0.01s\u001b[0m\u001b[32m ===============================\u001b[0m\n"
     ]
    }
   ],
   "source": [
    "!python3 -m pytest test_order.py -v"
   ]
  },
  {
   "attachments": {},
   "cell_type": "markdown",
   "metadata": {},
   "source": [
    "## **Fixtures can be requested more than once per test**\n",
    " - ### **pytest won’t execute them again for that test.**"
   ]
  },
  {
   "cell_type": "code",
   "execution_count": 113,
   "metadata": {},
   "outputs": [
    {
     "name": "stdout",
     "output_type": "stream",
     "text": [
      "Overwriting test_order.py\n"
     ]
    }
   ],
   "source": [
    "%%file test_order.py\n",
    "import pytest\n",
    "\n",
    "\n",
    "@pytest.fixture\n",
    "def first_entry():\n",
    "    return \"a\"\n",
    "\n",
    "\n",
    "@pytest.fixture\n",
    "def order():\n",
    "    return []\n",
    "\n",
    "\n",
    "@pytest.fixture\n",
    "def append_first(order, first_entry):\n",
    "    return order.append(first_entry)\n",
    "\n",
    "\n",
    "def test_string_only(append_first, order, first_entry):\n",
    "    assert order == [first_entry]"
   ]
  },
  {
   "cell_type": "code",
   "execution_count": 114,
   "metadata": {},
   "outputs": [
    {
     "name": "stdout",
     "output_type": "stream",
     "text": [
      "75298.11s - pydevd: Sending message related to process being replaced timed-out after 5 seconds\n",
      "\u001b[1m============================= test session starts ==============================\u001b[0m\n",
      "platform linux -- Python 3.11.1, pytest-7.2.1, pluggy-0.13.0 -- /bin/python3\n",
      "cachedir: .pytest_cache\n",
      "rootdir: /home/mefathim/Documents/advanced_python\n",
      "collected 1 item                                                               \u001b[0m\n",
      "\n",
      "test_order.py::test_string_only \u001b[32mPASSED\u001b[0m\u001b[32m                                   [100%]\u001b[0m\n",
      "\n",
      "\u001b[32m============================== \u001b[32m\u001b[1m1 passed\u001b[0m\u001b[32m in 0.01s\u001b[0m\u001b[32m ===============================\u001b[0m\n"
     ]
    }
   ],
   "source": [
    "!python3 -m pytest test_order.py -v"
   ]
  },
  {
   "attachments": {},
   "cell_type": "markdown",
   "metadata": {},
   "source": [
    "## **Autouse fixtures (fixtures you don’t have to request)**"
   ]
  },
  {
   "cell_type": "code",
   "execution_count": 115,
   "metadata": {},
   "outputs": [
    {
     "name": "stdout",
     "output_type": "stream",
     "text": [
      "Overwriting test_order.py\n"
     ]
    }
   ],
   "source": [
    "%%file test_order.py\n",
    "import pytest\n",
    "\n",
    "\n",
    "@pytest.fixture\n",
    "def first_entry():\n",
    "    return \"a\"\n",
    "\n",
    "\n",
    "@pytest.fixture\n",
    "def order(first_entry):\n",
    "    return []\n",
    "\n",
    "\n",
    "@pytest.fixture(autouse=True)\n",
    "def append_first(order, first_entry):\n",
    "    return order.append(first_entry)\n",
    "\n",
    "\n",
    "def test_string_only(order, first_entry):\n",
    "    assert order == [first_entry]\n",
    "\n",
    "\n",
    "def test_string_and_int(order, first_entry):\n",
    "    order.append(2)\n",
    "    assert order == [first_entry, 2]"
   ]
  },
  {
   "cell_type": "code",
   "execution_count": 116,
   "metadata": {},
   "outputs": [
    {
     "name": "stdout",
     "output_type": "stream",
     "text": [
      "75450.81s - pydevd: Sending message related to process being replaced timed-out after 5 seconds\n",
      "\u001b[1m============================= test session starts ==============================\u001b[0m\n",
      "platform linux -- Python 3.11.1, pytest-7.2.1, pluggy-0.13.0 -- /bin/python3\n",
      "cachedir: .pytest_cache\n",
      "rootdir: /home/mefathim/Documents/advanced_python\n",
      "collected 2 items                                                              \u001b[0m\n",
      "\n",
      "test_order.py::test_string_only \u001b[32mPASSED\u001b[0m\u001b[32m                                   [ 50%]\u001b[0m\n",
      "test_order.py::test_string_and_int \u001b[32mPASSED\u001b[0m\u001b[32m                                [100%]\u001b[0m\n",
      "\n",
      "\u001b[32m============================== \u001b[32m\u001b[1m2 passed\u001b[0m\u001b[32m in 0.01s\u001b[0m\u001b[32m ===============================\u001b[0m\n"
     ]
    }
   ],
   "source": [
    "!python3 -m pytest test_order.py -v"
   ]
  },
  {
   "attachments": {},
   "cell_type": "markdown",
   "metadata": {},
   "source": [
    "## **fixtures: Teardown/Cleanup**\n",
    "- ### **yield fixtures**"
   ]
  },
  {
   "cell_type": "code",
   "execution_count": 117,
   "metadata": {},
   "outputs": [
    {
     "name": "stdout",
     "output_type": "stream",
     "text": [
      "Writing emaillib.py\n"
     ]
    }
   ],
   "source": [
    "%%file emaillib.py\n",
    "class MailAdminClient:\n",
    "    def create_user(self):\n",
    "        return MailUser()\n",
    "\n",
    "    def delete_user(self, user):\n",
    "        # do some cleanup\n",
    "        pass\n",
    "\n",
    "\n",
    "class MailUser:\n",
    "    def __init__(self):\n",
    "        self.inbox = []\n",
    "\n",
    "    def send_email(self, email, other):\n",
    "        other.inbox.append(email)\n",
    "\n",
    "    def clear_mailbox(self):\n",
    "        self.inbox.clear()\n",
    "\n",
    "\n",
    "class Email:\n",
    "    def __init__(self, subject, body):\n",
    "        self.subject = subject\n",
    "        self.body = body"
   ]
  },
  {
   "cell_type": "code",
   "execution_count": 120,
   "metadata": {},
   "outputs": [
    {
     "name": "stdout",
     "output_type": "stream",
     "text": [
      "Overwriting test_emaillib.py\n"
     ]
    }
   ],
   "source": [
    "%%file test_emaillib.py\n",
    "import pytest\n",
    "from emaillib import Email, MailAdminClient\n",
    "\n",
    "\n",
    "@pytest.fixture\n",
    "def mail_admin():\n",
    "    return MailAdminClient()\n",
    "\n",
    "\n",
    "@pytest.fixture\n",
    "def sending_user(mail_admin):\n",
    "    user = mail_admin.create_user()\n",
    "    yield user\n",
    "    mail_admin.delete_user(user)\n",
    "\n",
    "\n",
    "@pytest.fixture\n",
    "def receiving_user(mail_admin):\n",
    "    user = mail_admin.create_user()\n",
    "    yield user\n",
    "    mail_admin.delete_user(user)\n",
    "\n",
    "\n",
    "def test_email_received(sending_user, receiving_user):\n",
    "    email = Email(subject=\"Hey!\", body=\"How's it going?\")\n",
    "    sending_user.send_email(email, receiving_user)\n",
    "    assert email in receiving_user.inbox"
   ]
  },
  {
   "cell_type": "code",
   "execution_count": 121,
   "metadata": {},
   "outputs": [
    {
     "name": "stdout",
     "output_type": "stream",
     "text": [
      "76505.66s - pydevd: Sending message related to process being replaced timed-out after 5 seconds\n",
      "\u001b[1m============================= test session starts ==============================\u001b[0m\n",
      "platform linux -- Python 3.11.1, pytest-7.2.1, pluggy-0.13.0 -- /bin/python3\n",
      "cachedir: .pytest_cache\n",
      "rootdir: /home/mefathim/Documents/advanced_python\n",
      "collected 1 item                                                               \u001b[0m\n",
      "\n",
      "test_emaillib.py::test_email_received \u001b[32mPASSED\u001b[0m\u001b[32m                             [100%]\u001b[0m\n",
      "\n",
      "\u001b[32m============================== \u001b[32m\u001b[1m1 passed\u001b[0m\u001b[32m in 0.01s\u001b[0m\u001b[32m ===============================\u001b[0m\n"
     ]
    }
   ],
   "source": [
    "!python3 -m pytest test_emaillib.py -v"
   ]
  },
  {
   "attachments": {},
   "cell_type": "markdown",
   "metadata": {},
   "source": [
    "# **fixture - Markers**\n",
    "## **Using markers to pass data to fixtures**"
   ]
  },
  {
   "cell_type": "code",
   "execution_count": 7,
   "metadata": {},
   "outputs": [
    {
     "name": "stdout",
     "output_type": "stream",
     "text": [
      "Overwriting test_mark.py\n"
     ]
    }
   ],
   "source": [
    "%%file test_mark.py\n",
    "import pytest\n",
    "\n",
    "\n",
    "@pytest.fixture\n",
    "def fixt(request):\n",
    "    marker = request.node.get_closest_marker(\"fixt_data\")\n",
    "    if marker is None:\n",
    "        # Handle missing marker in some way...\n",
    "        data = None\n",
    "    else:\n",
    "        data = marker.args[0]\n",
    "\n",
    "    # Do something with the data\n",
    "    return data\n",
    "\n",
    "\n",
    "@pytest.mark.fixt_data(42)\n",
    "def test_fixt(fixt):\n",
    "    assert fixt == 42"
   ]
  },
  {
   "cell_type": "code",
   "execution_count": 8,
   "metadata": {},
   "outputs": [
    {
     "name": "stdout",
     "output_type": "stream",
     "text": [
      "\u001b[1m============================= test session starts ==============================\u001b[0m\n",
      "platform linux -- Python 3.11.1, pytest-7.2.1, pluggy-0.13.0 -- /bin/python3\n",
      "cachedir: .pytest_cache\n",
      "rootdir: /home/mefathim/Documents/advanced_python/testing\n",
      "collected 1 item                                                               \u001b[0m\n",
      "\n",
      "test_mark.py::test_fixt \u001b[32mPASSED\u001b[0m\u001b[33m                                           [100%]\u001b[0m\n",
      "\n",
      "\u001b[33m=============================== warnings summary ===============================\u001b[0m\n",
      "test_mark.py:17\n",
      "  /home/mefathim/Documents/advanced_python/testing/test_mark.py:17: PytestUnknownMarkWarning: Unknown pytest.mark.fixt_data - is this a typo?  You can register custom marks to avoid this warning - for details, see https://docs.pytest.org/en/stable/how-to/mark.html\n",
      "    @pytest.mark.fixt_data(42)\n",
      "\n",
      "-- Docs: https://docs.pytest.org/en/stable/how-to/capture-warnings.html\n",
      "\u001b[33m========================= \u001b[32m1 passed\u001b[0m, \u001b[33m\u001b[1m1 warning\u001b[0m\u001b[33m in 0.01s\u001b[0m\u001b[33m =========================\u001b[0m\n"
     ]
    }
   ],
   "source": [
    "!python3 -m pytest test_mark.py -v"
   ]
  }
 ],
 "metadata": {
  "kernelspec": {
   "display_name": "Python 3",
   "language": "python",
   "name": "python3"
  },
  "language_info": {
   "codemirror_mode": {
    "name": "ipython",
    "version": 3
   },
   "file_extension": ".py",
   "mimetype": "text/x-python",
   "name": "python",
   "nbconvert_exporter": "python",
   "pygments_lexer": "ipython3",
   "version": "3.11.1"
  },
  "orig_nbformat": 4,
  "vscode": {
   "interpreter": {
    "hash": "916dbcbb3f70747c44a77c7bcd40155683ae19c65e1c03b4aa3499c5328201f1"
   }
  }
 },
 "nbformat": 4,
 "nbformat_minor": 2
}
