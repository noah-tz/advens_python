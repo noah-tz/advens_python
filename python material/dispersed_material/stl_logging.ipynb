{
 "cells": [
  {
   "attachments": {},
   "cell_type": "markdown",
   "metadata": {},
   "source": [
    "# logging — Report Status, Error, and Informational Messages\n",
    "\n",
    "\n",
    "**Purpose**:\tReport status, error, and informational messages.\n",
    "\n",
    "The `logging` module defines a standard API for reporting errors and status information from applications and libraries. \n",
    "\n",
    "The key benefit of having the logging API provided by a standard library module is that all Python modules can participate in logging, so an application’s log can include messages from third-party modules.\n",
    "\n",
    "## Logging Components\n",
    "The logging system is made up of four interacting types of objects. Each module or application that wants to log uses a Logger instance to add information to the logs. \n",
    "\n",
    "Invoking the logger creates a LogRecord, which is used to hold the information in memory until it is processed. \n",
    "\n",
    "A Logger may have a number of Handler objects configured to receive and process log records. The Handler uses a Formatter to turn the log records into output message"
   ]
  },
  {
   "attachments": {},
   "cell_type": "markdown",
   "metadata": {},
   "source": [
    "## Logging to a File"
   ]
  },
  {
   "cell_type": "code",
   "execution_count": 2,
   "metadata": {},
   "outputs": [],
   "source": [
    "import os\n",
    "import sys\n",
    "\n",
    "\"\"\" chdir() to set working directory \"\"\"\n",
    "os.chdir(r\"c:\\Users\\Vadim\\Documents\\GitHub\\Python\\_Lessons_\\MEFATHIM\\Sylllabus-AdvancedPython\\week4\\exercises\")"
   ]
  },
  {
   "cell_type": "code",
   "execution_count": 1,
   "metadata": {},
   "outputs": [
    {
     "name": "stdout",
     "output_type": "stream",
     "text": [
      "FILE:\n",
      "DEBUG:root:This message should go to the log file\n",
      "\n"
     ]
    }
   ],
   "source": [
    "import logging\n",
    "\n",
    "\"\"\" Most applications are configured to log to a file. \n",
    "Use the basicConfig() function to set up the default handler so that debug messages are written to a file\"\"\"\n",
    "\n",
    "LOG_FILENAME = 'logging_example.out'\n",
    "logging.basicConfig(\n",
    "    filename=LOG_FILENAME,\n",
    "    level=logging.DEBUG,\n",
    ")\n",
    "\n",
    "logging.debug('This message should go to the log file')\n",
    "\n",
    "with open(LOG_FILENAME, 'rt') as f:\n",
    "    body = f.read()\n",
    "\n",
    "print('FILE:')\n",
    "print(body)"
   ]
  },
  {
   "attachments": {},
   "cell_type": "markdown",
   "metadata": {},
   "source": [
    "## Rotating Log Files\n",
    "\n",
    "Running the script repeatedly causes more messages to be appended to the file. \n",
    "\n",
    "To create a new file each time the program runs, pass a filemode argument to basicConfig() with a value of 'w'. \n",
    "\n",
    "Rather than managing the creation of files this way, though, it is better to use a RotatingFileHandler, which creates new files automatically and preserves the old log file at the same time."
   ]
  },
  {
   "cell_type": "code",
   "execution_count": 4,
   "metadata": {},
   "outputs": [
    {
     "name": "stdout",
     "output_type": "stream",
     "text": [
      "logging_rotatingfile_example.out\n",
      "logging_rotatingfile_example.out.1\n",
      "logging_rotatingfile_example.out.2\n",
      "logging_rotatingfile_example.out.3\n",
      "logging_rotatingfile_example.out.4\n",
      "logging_rotatingfile_example.out.5\n"
     ]
    }
   ],
   "source": [
    "import glob\n",
    "import logging\n",
    "import logging.handlers\n",
    "\n",
    "LOG_FILENAME = 'logging_rotatingfile_example.out'\n",
    "\n",
    "# Set up a specific logger with our desired output level\n",
    "my_logger = logging.getLogger('MyLogger')\n",
    "my_logger.setLevel(logging.DEBUG)\n",
    "\n",
    "# Add the log message handler to the logger\n",
    "handler = logging.handlers.RotatingFileHandler(\n",
    "    LOG_FILENAME,\n",
    "    maxBytes=20,\n",
    "    backupCount=5,\n",
    ")\n",
    "# Note Obviously, this example sets the log length much too small as an extreme example. \n",
    "# Set maxBytes to a more appropriate value in a real program.\n",
    "\n",
    "my_logger.addHandler(handler)\n",
    "\n",
    "# Log some messages\n",
    "for i in range(20):\n",
    "    my_logger.debug(f'i = {i}')\n",
    "\n",
    "# See what files are created\n",
    "logfiles = glob.glob(f'{LOG_FILENAME}*')\n",
    "for filename in sorted(logfiles):\n",
    "    print(filename)\n",
    "\n",
    "# The most current file is always logging_rotatingfile_example.out, \n",
    "# and each time it reaches the size limit it is renamed with the suffix .1. \n",
    "# Each of the existing backup files is renamed to increment the suffix (.1 becomes .2, etc.) and the .5 file is erased.\n",
    "\n"
   ]
  },
  {
   "attachments": {},
   "cell_type": "markdown",
   "metadata": {},
   "source": [
    "## Verbosity Levels\n",
    "\n",
    "Another useful feature of the logging API is the ability to produce different messages at different log levels. \n",
    "\n",
    "This means code can be instrumented with debug messages, for example, and the log level can be set so that those debug messages are not written on a production system. \n",
    "\n",
    "The table below lists the logging levels defined by logging.\n",
    "|  Level    |   Value   |\n",
    "| ---- | ---- |\n",
    "|  CRITICAL    |   50   |\n",
    "|  ERROR    |   40   |\n",
    "|  WARNING    |   30   |\n",
    "|  INFO    |   20   |\n",
    "|  DEBUG    |   10   |\n",
    "|  UNSET    |   0   |\n"
   ]
  },
  {
   "cell_type": "code",
   "execution_count": 14,
   "metadata": {},
   "outputs": [
    {
     "name": "stdout",
     "output_type": "stream",
     "text": [
      "FILE:\n",
      "DEBUG:root:This is a debug message\n",
      "INFO:root:This is an info message\n",
      "WARNING:root:This is a warning message\n",
      "ERROR:root:This is an error message\n",
      "CRITICAL:root:This is a critical error message\n",
      "DEBUG:root:This is a debug message\n",
      "INFO:root:This is an info message\n",
      "WARNING:root:This is a warning message\n",
      "ERROR:root:This is an error message\n",
      "CRITICAL:root:This is a critical error message\n",
      "DEBUG:root:This is a debug message\n",
      "INFO:root:This is an info message\n",
      "WARNING:root:This is a warning message\n",
      "ERROR:root:This is an error message\n",
      "CRITICAL:root:This is a critical error message\n",
      "DEBUG:root:This is a debug message\n",
      "INFO:root:This is an info message\n",
      "WARNING:root:This is a warning message\n",
      "ERROR:root:This is an error message\n",
      "CRITICAL:root:This is a critical error message\n",
      "DEBUG:root:This is a debug message\n",
      "INFO:root:This is an info message\n",
      "WARNING:root:This is a warning message\n",
      "ERROR:root:This is an error message\n",
      "CRITICAL:root:This is a critical error message\n",
      "\n"
     ]
    }
   ],
   "source": [
    "LEVELS = {\n",
    "    'debug': logging.DEBUG,\n",
    "    'info': logging.INFO,\n",
    "    'warning': logging.WARNING,\n",
    "    'error': logging.ERROR,\n",
    "    'critical': logging.CRITICAL,\n",
    "}\n",
    "\n",
    "# if len(sys.argv) > 1:\n",
    "#     level_name = sys.argv[1]\n",
    "#     level = LEVELS.get(level_name, logging.NOTSET)\n",
    "#     logging.basicConfig(level=level)\n",
    "\n",
    "\n",
    "LOG_FILENAME = 'logging_example.out'\n",
    "level_name = \"WARNING\"\n",
    "level = LEVELS.get(level_name, logging.NOTSET)\n",
    "logging.basicConfig(filename=LOG_FILENAME, level=level)\n",
    "\n",
    "\n",
    "logging.debug('This is a debug message')\n",
    "logging.info('This is an info message')\n",
    "logging.warning('This is a warning message')\n",
    "logging.error('This is an error message')\n",
    "logging.critical('This is a critical error message')\n",
    "\n",
    "# see logging_example.out\n",
    "with open(LOG_FILENAME, 'r') as f:\n",
    "    body = f.read()\n",
    "\n",
    "print('FILE:')\n",
    "print(body)"
   ]
  }
 ],
 "metadata": {
  "kernelspec": {
   "display_name": "Python 3",
   "language": "python",
   "name": "python3"
  },
  "language_info": {
   "codemirror_mode": {
    "name": "ipython",
    "version": 3
   },
   "file_extension": ".py",
   "mimetype": "text/x-python",
   "name": "python",
   "nbconvert_exporter": "python",
   "pygments_lexer": "ipython3",
   "version": "3.11.1"
  },
  "orig_nbformat": 4,
  "vscode": {
   "interpreter": {
    "hash": "916dbcbb3f70747c44a77c7bcd40155683ae19c65e1c03b4aa3499c5328201f1"
   }
  }
 },
 "nbformat": 4,
 "nbformat_minor": 2
}
