{
 "cells": [
  {
   "attachments": {},
   "cell_type": "markdown",
   "metadata": {},
   "source": [
    "# copy — Duplicate Objects\n",
    "\n",
    "**Purpose**:\tProvides functions for duplicating objects using shallow or deep copy semantics.\n",
    "\n",
    "The copy module includes two functions, copy() and deepcopy(), for duplicating existing objects."
   ]
  },
  {
   "attachments": {},
   "cell_type": "markdown",
   "metadata": {},
   "source": [
    "## Shallow Copies\n",
    "\n",
    "The shallow copy created by `copy()` is a new container populated with references to the contents of the original object. \n",
    "\n",
    "When making a shallow copy of a list object, a new list is constructed and the elements of the original object are appended to it."
   ]
  },
  {
   "cell_type": "code",
   "execution_count": 1,
   "metadata": {},
   "outputs": [
    {
     "name": "stdout",
     "output_type": "stream",
     "text": [
      "             my_list: [<__main__.MyClass object at 0x0000029F9AAE4B10>]\n",
      "                 dup: [<__main__.MyClass object at 0x0000029F9AAE4B10>]\n",
      "      dup is my_list: False\n",
      "      dup == my_list: True\n",
      "dup[0] is my_list[0]: True\n",
      "dup[0] == my_list[0]: True\n"
     ]
    },
    {
     "data": {
      "text/plain": [
       "'For a shallow copy, the MyClass instance is not duplicated, so the reference in the dup list is to the same object that is in my_list.'"
      ]
     },
     "execution_count": 1,
     "metadata": {},
     "output_type": "execute_result"
    }
   ],
   "source": [
    "import copy\n",
    "import functools\n",
    "\n",
    "\n",
    "@functools.total_ordering\n",
    "class MyClass:\n",
    "\n",
    "    def __init__(self, name):\n",
    "        self.name = name\n",
    "\n",
    "    def __eq__(self, other):\n",
    "        return self.name == other.name\n",
    "\n",
    "    def __gt__(self, other):\n",
    "        return self.name > other.name\n",
    "\n",
    "\n",
    "a = MyClass('a')\n",
    "my_list = [a]\n",
    "dup = copy.copy(my_list)\n",
    "\n",
    "print('             my_list:', my_list)\n",
    "print('                 dup:', dup)\n",
    "print('      dup is my_list:', (dup is my_list))\n",
    "print('      dup == my_list:', (dup == my_list))\n",
    "print('dup[0] is my_list[0]:', (dup[0] is my_list[0]))\n",
    "print('dup[0] == my_list[0]:', (dup[0] == my_list[0]))\n",
    "\n",
    "\"\"\"For a shallow copy, the MyClass instance is not duplicated, so the reference in the dup list is to the same object that is in my_list.\"\"\""
   ]
  },
  {
   "attachments": {},
   "cell_type": "markdown",
   "metadata": {},
   "source": [
    "# Deep Copies\n",
    "\n",
    "The deep copy created by `deepcopy()` is a new container populated with copies of the contents of the original object. \n",
    "\n",
    "To make a deep copy of a list, a new list is constructed, the elements of the original list are copied, and then those copies are appended to the new list.\n",
    "\n",
    "Replacing the call to `copy()` with `deepcopy()` makes the difference in the output apparent."
   ]
  },
  {
   "cell_type": "code",
   "execution_count": 2,
   "metadata": {},
   "outputs": [
    {
     "name": "stdout",
     "output_type": "stream",
     "text": [
      "             my_list: [<__main__.MyClass object at 0x0000029F9AAB2F10>]\n",
      "                 dup: [<__main__.MyClass object at 0x0000029F9AAB3A90>]\n",
      "      dup is my_list: False\n",
      "      dup == my_list: True\n",
      "dup[0] is my_list[0]: False\n",
      "dup[0] == my_list[0]: True\n"
     ]
    },
    {
     "data": {
      "text/plain": [
       "'\"The first element of the list is no longer the same object reference, but when the two objects are compared they still evaluate as being equal.'"
      ]
     },
     "execution_count": 2,
     "metadata": {},
     "output_type": "execute_result"
    }
   ],
   "source": [
    "import copy\n",
    "import functools\n",
    "\n",
    "\n",
    "@functools.total_ordering\n",
    "class MyClass:\n",
    "\n",
    "    def __init__(self, name):\n",
    "        self.name = name\n",
    "\n",
    "    def __eq__(self, other):\n",
    "        return self.name == other.name\n",
    "\n",
    "    def __gt__(self, other):\n",
    "        return self.name > other.name\n",
    "\n",
    "\n",
    "a = MyClass('a')\n",
    "my_list = [a]\n",
    "dup = copy.deepcopy(my_list)\n",
    "\n",
    "print('             my_list:', my_list)\n",
    "print('                 dup:', dup)\n",
    "print('      dup is my_list:', (dup is my_list))\n",
    "print('      dup == my_list:', (dup == my_list))\n",
    "print('dup[0] is my_list[0]:', (dup[0] is my_list[0]))\n",
    "print('dup[0] == my_list[0]:', (dup[0] == my_list[0]))\n",
    "\n",
    "\"\"\"\"The first element of the list is no longer the same object reference, but when the two objects are compared they still evaluate as being equal.\"\"\""
   ]
  }
 ],
 "metadata": {
  "kernelspec": {
   "display_name": "Python 3",
   "language": "python",
   "name": "python3"
  },
  "language_info": {
   "codemirror_mode": {
    "name": "ipython",
    "version": 3
   },
   "file_extension": ".py",
   "mimetype": "text/x-python",
   "name": "python",
   "nbconvert_exporter": "python",
   "pygments_lexer": "ipython3",
   "version": "3.11.1"
  },
  "orig_nbformat": 4,
  "vscode": {
   "interpreter": {
    "hash": "5238573367df39f7286bb46f9ff5f08f63a01a80960060ce41e3c79b190280fa"
   }
  }
 },
 "nbformat": 4,
 "nbformat_minor": 2
}
