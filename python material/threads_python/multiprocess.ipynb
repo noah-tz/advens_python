{
 "cells": [
  {
   "attachments": {},
   "cell_type": "markdown",
   "metadata": {},
   "source": [
    "# multiprocessing python"
   ]
  },
  {
   "attachments": {},
   "cell_type": "markdown",
   "metadata": {},
   "source": [
    "- #### the code without using ***multiprocessing***"
   ]
  },
  {
   "cell_type": "code",
   "execution_count": 2,
   "metadata": {},
   "outputs": [
    {
     "name": "stdout",
     "output_type": "stream",
     "text": [
      "sleeping 1 second...\n",
      "done sleeping\n",
      "sleeping 1 second...\n",
      "done sleeping\n",
      "finished in 2.0 seconds\n"
     ]
    }
   ],
   "source": [
    "import time \n",
    "\n",
    "start = time.perf_counter()\n",
    "\n",
    "def do_something():\n",
    "    print(\"sleeping 1 second...\")\n",
    "    time.sleep(1)\n",
    "    print(\"done sleeping\")\n",
    "\n",
    "do_something()\n",
    "do_something()\n",
    "\n",
    "finish = time.perf_counter()\n",
    "\n",
    "print(f\"finished in {round(finish - start, 2)} seconds\")"
   ]
  },
  {
   "attachments": {},
   "cell_type": "markdown",
   "metadata": {},
   "source": [
    "## the code using simple ***multiprocessing***\n",
    "- **creates a process object**\n",
    "- **start(): to run the process**\n",
    "- **join(): to wait for the process to finish**"
   ]
  },
  {
   "cell_type": "code",
   "execution_count": 3,
   "metadata": {},
   "outputs": [
    {
     "name": "stdout",
     "output_type": "stream",
     "text": [
      "sleeping 1 second...\n",
      "sleeping 1 second...\n",
      "done sleeping...\n",
      "done sleeping...\n",
      "finished in 1.06 second(s)\n"
     ]
    }
   ],
   "source": [
    "import multiprocessing\n",
    "\n",
    "start = time.perf_counter()\n",
    "\n",
    "def do_something():\n",
    "    print(\"sleeping 1 second...\")\n",
    "    time.sleep(1)\n",
    "    print(\"done sleeping...\")\n",
    "\n",
    "p1 = multiprocessing.Process(target=do_something)\n",
    "p2 = multiprocessing.Process(target=do_something)\n",
    "\n",
    "p1.start()\n",
    "p2.start()\n",
    "\n",
    "p1.join()\n",
    "p2.join()\n",
    "\n",
    "finish = time.perf_counter()\n",
    "\n",
    "print(f\"finished in {round(finish - start, 2)} second(s)\")\n",
    "\n"
   ]
  },
  {
   "attachments": {},
   "cell_type": "markdown",
   "metadata": {},
   "source": [
    "## use the loop to create many processes"
   ]
  },
  {
   "cell_type": "code",
   "execution_count": 4,
   "metadata": {},
   "outputs": [
    {
     "name": "stdout",
     "output_type": "stream",
     "text": [
      "sleeping 1 second...\n",
      "sleeping 1 second...\n",
      "sleeping 1 second...\n",
      "sleeping 1 second...\n",
      "sleeping 1 second...\n",
      "sleeping 1 second...\n",
      "sleeping 1 second...\n",
      "sleeping 1 second...\n",
      "sleeping 1 second...\n",
      "sleeping 1 second...\n",
      "done sleeping...\n",
      "done sleeping...\n",
      "done sleeping...\n",
      "done sleeping...done sleeping...\n",
      "\n",
      "done sleeping...\n",
      "done sleeping...\n",
      "done sleeping...\n",
      "done sleeping...\n",
      "done sleeping...\n",
      "finished in 1.09 second(s)\n"
     ]
    }
   ],
   "source": [
    "start = time.perf_counter()\n",
    "\n",
    "def do_something():\n",
    "    print(\"sleeping 1 second...\")\n",
    "    time.sleep(1)\n",
    "    print(\"done sleeping...\")\n",
    "\n",
    "\n",
    "processes = []\n",
    "\n",
    "for _ in range(10):\n",
    "    p = multiprocessing.Process(target=do_something)\n",
    "    p.start()\n",
    "    processes.append(p)\n",
    "\n",
    "for process in processes:\n",
    "    process.join()\n",
    "\n",
    "\n",
    "finish = time.perf_counter()\n",
    "\n",
    "print(f\"finished in {round(finish - start, 2)} second(s)\")"
   ]
  },
  {
   "attachments": {},
   "cell_type": "markdown",
   "metadata": {},
   "source": [
    "## on function with argument"
   ]
  },
  {
   "cell_type": "code",
   "execution_count": 5,
   "metadata": {},
   "outputs": [
    {
     "name": "stdout",
     "output_type": "stream",
     "text": [
      "sleeping 1.5 second(s)...\n",
      "sleeping 1.5 second(s)...\n",
      "sleeping 1.5 second(s)...\n",
      "sleeping 1.5 second(s)...\n",
      "sleeping 1.5 second(s)...\n",
      "sleeping 1.5 second(s)...\n",
      "sleeping 1.5 second(s)...\n",
      "sleeping 1.5 second(s)...\n",
      "sleeping 1.5 second(s)...\n",
      "sleeping 1.5 second(s)...\n",
      "done sleeping...\n",
      "done sleeping...\n",
      "done sleeping...\n",
      "done sleeping...\n",
      "done sleeping...\n",
      "done sleeping...\n",
      "done sleeping...\n",
      "done sleeping...\n",
      "done sleeping...\n",
      "done sleeping...\n",
      "finished in 1.58 second(s)\n"
     ]
    }
   ],
   "source": [
    "start = time.perf_counter()\n",
    "\n",
    "def do_something(seconds):\n",
    "    print(f\"sleeping {seconds} second(s)...\")\n",
    "    time.sleep(seconds)\n",
    "    print(\"done sleeping...\")\n",
    "\n",
    "\n",
    "processes = []\n",
    "\n",
    "for _ in range(10):\n",
    "    p = multiprocessing.Process(target=do_something, args=[1.5])\n",
    "    p.start()\n",
    "    processes.append(p)\n",
    "\n",
    "for process in processes:\n",
    "    process.join()\n",
    "\n",
    "\n",
    "finish = time.perf_counter()\n",
    "\n",
    "print(f\"finished in {round(finish - start, 2)} second(s)\")"
   ]
  },
  {
   "attachments": {},
   "cell_type": "markdown",
   "metadata": {},
   "source": [
    "## using concurrent.futures to manage the processes\n",
    "- **submit() create a process and return Future object** <br>\n",
    "- **note: concurrent.futures doesn't need start and join methods**"
   ]
  },
  {
   "cell_type": "code",
   "execution_count": 6,
   "metadata": {},
   "outputs": [
    {
     "name": "stdout",
     "output_type": "stream",
     "text": [
      "sleeping 1 second(s)...\n",
      "done sleeping...\n",
      "finished in 1.11 second(s)\n"
     ]
    }
   ],
   "source": [
    "import concurrent.futures\n",
    "\n",
    "start = time.perf_counter()\n",
    "\n",
    "def do_something(seconds):\n",
    "    print(f\"sleeping {seconds} second(s)...\")\n",
    "    time.sleep(seconds)\n",
    "    return \"done sleeping...\"\n",
    "\n",
    "\n",
    "with concurrent.futures.ProcessPoolExecutor() as executor:\n",
    "    f1 = executor.submit(do_something, 1)\n",
    "    print(f1.result())\n",
    "\n",
    "\n",
    "finish = time.perf_counter()\n",
    "\n",
    "print(f\"finished in {round(finish - start, 2)} second(s)\")"
   ]
  },
  {
   "attachments": {},
   "cell_type": "markdown",
   "metadata": {},
   "source": [
    "## using list comprehension "
   ]
  },
  {
   "cell_type": "code",
   "execution_count": 7,
   "metadata": {},
   "outputs": [
    {
     "name": "stdout",
     "output_type": "stream",
     "text": [
      "sleeping 5 second(s)...sleeping 3 second(s)...sleeping 2 second(s)...sleeping 4 second(s)...sleeping 1 second(s)...\n",
      "\n",
      "\n",
      "\n",
      "\n",
      "done sleeping...1\n",
      "done sleeping...2\n",
      "done sleeping...3\n",
      "done sleeping...4\n",
      "done sleeping...5\n",
      "finished in 5.08 second(s)\n"
     ]
    }
   ],
   "source": [
    "start = time.perf_counter()\n",
    "\n",
    "def do_something(seconds):\n",
    "    print(f\"sleeping {seconds} second(s)...\")\n",
    "    time.sleep(seconds)\n",
    "    return f\"done sleeping...{seconds}\"\n",
    "\n",
    "\n",
    "with concurrent.futures.ProcessPoolExecutor() as executor:\n",
    "    secs = [5, 4, 3, 2, 1]\n",
    "    results = [executor.submit(do_something, sec) for sec in secs]\n",
    "    \n",
    "    for f in concurrent.futures.as_completed(results):\n",
    "        print(f.result())\n",
    "\n",
    "\n",
    "finish = time.perf_counter()\n",
    "\n",
    "print(f\"finished in {round(finish - start, 2)} second(s)\")"
   ]
  },
  {
   "attachments": {},
   "cell_type": "markdown",
   "metadata": {},
   "source": [
    "## using map() to apply do_something() on each of the secs element <br>\n",
    "map return the the function result <br>\n",
    "note: the results are return from map() in the order that the processes started and not in the order that they actually ended"
   ]
  },
  {
   "cell_type": "code",
   "execution_count": 8,
   "metadata": {},
   "outputs": [
    {
     "name": "stdout",
     "output_type": "stream",
     "text": [
      "<class 'generator'>sleeping 4 second(s)...sleeping 1 second(s)...sleeping 5 second(s)...sleeping 3 second(s)...sleeping 2 second(s)...\n",
      "\n",
      "\n",
      "\n",
      "\n",
      "\n",
      "done sleeping...5\n",
      "done sleeping...4\n",
      "done sleeping...3\n",
      "done sleeping...2\n",
      "done sleeping...1\n",
      "finished in 5.09 second(s)\n"
     ]
    }
   ],
   "source": [
    "start = time.perf_counter()\n",
    "\n",
    "def do_something(seconds):\n",
    "    print(f\"sleeping {seconds} second(s)...\")\n",
    "    time.sleep(seconds)\n",
    "    return f\"done sleeping...{seconds}\"\n",
    "\n",
    "\n",
    "with concurrent.futures.ProcessPoolExecutor() as executor:\n",
    "    secs = [5, 4, 3, 2, 1]\n",
    "    results = executor.map(do_something, secs)\n",
    "    print(type(results))\n",
    "    \n",
    "    for result in results:\n",
    "        print(result)\n",
    "\n",
    "\n",
    "finish = time.perf_counter()\n",
    "\n",
    "print(f\"finished in {round(finish - start, 2)} second(s)\")"
   ]
  },
  {
   "attachments": {},
   "cell_type": "markdown",
   "metadata": {},
   "source": [
    "## **multiprocessing Methods**\n",
    "- **current_process():**  It returns a Process object representing the current process in which it was called.\n",
    "- **parent_process():**  It returns a Process object representing the parent process of the process in which it was called.\n",
    "- **get_start_method():**  It returns the method which was used to start the process. It can be one of the fork, spawn, and forkserver.\n",
    "- **cpu_count():**  It returns count of computer cores on the system.\n",
    "- **get_all_start_methods():**  It returns all the start methods supported by the system. On windows, only spawn method is available whereas on Unix fork and forkserver are available.\n",
    "- **active_children():**  It returns list of Process instances representing the child processes of the process in which this method was called.\n",
    "\n",
    "## **process parameters**\n",
    "- **target:** reference to function\n",
    "- **args, kwargs:** passing arguments to the target function\n",
    "- **name:** representing the name of the process\n",
    "- **daemon:** (boolean) True will run process as a daemon process\n",
    "\n",
    "## **Process Methods**\n",
    "- **start():** It start a process object.\n",
    "- **join():** block the main process until the process instance is completed running (can also get a time to wait)\n",
    "- **is_alive():** It returns a boolean value specifying whether the process is alive or not.\n",
    "- **terminate():** It terminates the process by sending SIGTERM system signal.\n",
    "- **kill():** It kills the process by sending SIGKILL system signal.\n",
    "\n",
    "## **Process Attributes**\n",
    "- **name:** It returns the name of the process.\n",
    "- **pid:** It return process ID.\n"
   ]
  },
  {
   "cell_type": "code",
   "execution_count": 9,
   "metadata": {},
   "outputs": [
    {
     "name": "stdout",
     "output_type": "stream",
     "text": [
      "CPU Count : 8\n",
      "Available Methods to Create Processes : ['fork', 'spawn', 'forkserver']\n",
      "\n",
      "Process Name : Addition1 (Daemon : False), Process Identifier : 98509, Parent Process : MainProcess, Start Method : fork\n",
      "\n",
      "Process Name : Addition2 (Daemon : False), Process Identifier : 98512, Parent Process : MainProcess, Start Method : fork\n",
      "\n",
      "Process Name : MainProcess (Daemon : False), Process Identifier : 80406, Start Method : fork\n",
      "\n",
      "Currently Active Children of Main Process Count : [<Process name='Addition1' pid=98509 parent=80406 started>, <Process name='Addition2' pid=98512 parent=80406 started>]\n",
      "Is Process Addition1 alive? : True\n",
      "Is Process Addition2 alive? : True\n",
      "\n",
      "finished in 0.02 seconds\n"
     ]
    }
   ],
   "source": [
    "\n",
    "def addition():\n",
    "    curr_process = multiprocessing.current_process()\n",
    "    parent_process = multiprocessing.parent_process()\n",
    "    print(f\"Process Name : {curr_process.name} (Daemon : {curr_process.daemon}), Process Identifier : {curr_process.pid}, Parent Process : {parent_process.name}, Start Method : {multiprocessing.get_start_method()}\\n\")\n",
    "\n",
    "\n",
    "start = time.perf_counter()\n",
    "\n",
    "print(f\"CPU Count : {multiprocessing.cpu_count()}\")\n",
    "print(f\"Available Methods to Create Processes : {multiprocessing.get_all_start_methods()}\\n\")\n",
    "\n",
    "p1 = multiprocessing.Process(target=addition, name=\"Addition1\")\n",
    "p2 = multiprocessing.Process(target=addition, name=\"Addition2\")\n",
    "\n",
    "p1.start()\n",
    "p2.start()\n",
    "\n",
    "main_process = multiprocessing.current_process()\n",
    "print(f\"Process Name : {main_process.name} (Daemon : {main_process.daemon}), Process Identifier : {main_process.pid}, Start Method : {multiprocessing.get_start_method()}\\n\")\n",
    "\n",
    "children = multiprocessing.active_children()\n",
    "print(f\"Currently Active Children of Main Process Count : {children}\")\n",
    "for child_process in children:\n",
    "    print(f\"Is Process {child_process.name} alive? : {child_process.is_alive()}\")\n",
    "print()\n",
    "\n",
    "p1.join()\n",
    "p2.join()\n",
    "\n",
    "finish = time.perf_counter()\n",
    "\n",
    "print(f\"finished in {round(finish - start, 2)} seconds\")"
   ]
  },
  {
   "attachments": {},
   "cell_type": "markdown",
   "metadata": {},
   "source": [
    "## Work with Pool of Processes"
   ]
  },
  {
   "cell_type": "code",
   "execution_count": 10,
   "metadata": {},
   "outputs": [
    {
     "name": "stdout",
     "output_type": "stream",
     "text": [
      "sleeping 1 second...\n",
      "done sleeping\n",
      "sleeping 1 second...\n",
      "done sleeping\n",
      "sleeping 1 second...\n",
      "done sleeping\n",
      "finished in 3.09 seconds\n"
     ]
    }
   ],
   "source": [
    "start = time.perf_counter()\n",
    "\n",
    "def do_something():\n",
    "    print(\"sleeping 1 second...\")\n",
    "    time.sleep(1)\n",
    "    print(\"done sleeping\")\n",
    "\n",
    "    \n",
    "pool = multiprocessing.Pool(processes=4)\n",
    "\n",
    "pool.apply(do_something)\n",
    "pool.apply(do_something)\n",
    "pool.apply(do_something)\n",
    "\n",
    "\n",
    "pool.close()\n",
    "\n",
    "finish = time.perf_counter()\n",
    "\n",
    "print(f\"finished in {round(finish - start, 2)} seconds\")"
   ]
  }
 ],
 "metadata": {
  "kernelspec": {
   "display_name": "Python 3",
   "language": "python",
   "name": "python3"
  },
  "language_info": {
   "codemirror_mode": {
    "name": "ipython",
    "version": 3
   },
   "file_extension": ".py",
   "mimetype": "text/x-python",
   "name": "python",
   "nbconvert_exporter": "python",
   "pygments_lexer": "ipython3",
   "version": "3.10.6"
  },
  "orig_nbformat": 4,
  "vscode": {
   "interpreter": {
    "hash": "916dbcbb3f70747c44a77c7bcd40155683ae19c65e1c03b4aa3499c5328201f1"
   }
  }
 },
 "nbformat": 4,
 "nbformat_minor": 2
}
