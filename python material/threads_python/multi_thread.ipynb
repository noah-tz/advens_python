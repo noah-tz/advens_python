{
 "cells": [
  {
   "attachments": {},
   "cell_type": "markdown",
   "metadata": {},
   "source": [
    "### Create Threads using Thread Constructor"
   ]
  },
  {
   "attachments": {},
   "cell_type": "markdown",
   "metadata": {},
   "source": [
    "without threads"
   ]
  },
  {
   "cell_type": "code",
   "execution_count": 2,
   "metadata": {},
   "outputs": [
    {
     "name": "stdout",
     "output_type": "stream",
     "text": [
      "Addition of 1 & 2 is 3\n",
      "Addition of 2 & 2 is 4\n",
      "Finished in 2.0 second(s)\n"
     ]
    }
   ],
   "source": [
    "import time\n",
    "\n",
    "start = time.perf_counter()\n",
    "\n",
    "def addition(a, b):\n",
    "    time.sleep(1)\n",
    "    print(f\"Addition of {a} & {b} is {a + b}\")\n",
    "\n",
    "\n",
    "\n",
    "addition(1, 2)\n",
    "addition(2, 2)\n",
    "\n",
    "\n",
    "finish = time.perf_counter()\n",
    "\n",
    "print(f'Finished in {round(finish-start, 2)} second(s)')"
   ]
  },
  {
   "attachments": {},
   "cell_type": "markdown",
   "metadata": {},
   "source": [
    "with threads"
   ]
  },
  {
   "cell_type": "code",
   "execution_count": 3,
   "metadata": {},
   "outputs": [
    {
     "name": "stdout",
     "output_type": "stream",
     "text": [
      "Addition of 10 & 20 is 30Addition of 20 & 20 is 40\n",
      "\n",
      "Finished in 1.0 second(s)\n"
     ]
    }
   ],
   "source": [
    "import threading\n",
    "from datetime import datetime\n",
    "\n",
    "\n",
    "start = time.perf_counter()\n",
    "\n",
    "def addition(a, b):\n",
    "    time.sleep(1)\n",
    "    print(f\"Addition of {a} & {b} is {a + b}\")\n",
    "\n",
    "\n",
    "thread1 = threading.Thread(target=addition, args=(10,20), name=\"Addition1\", )\n",
    "thread2 = threading.Thread(target=addition, args=(20,20), name=\"Addition2\", )\n",
    "\n",
    "thread1.start()\n",
    "thread2.start()\n",
    "\n",
    "thread1.join()\n",
    "thread2.join()\n",
    "\n",
    "finish = time.perf_counter()\n",
    "\n",
    "print(f'Finished in {round(finish-start, 2)} second(s)')"
   ]
  },
  {
   "attachments": {},
   "cell_type": "markdown",
   "metadata": {},
   "source": [
    "## without join"
   ]
  },
  {
   "cell_type": "code",
   "execution_count": 4,
   "metadata": {},
   "outputs": [
    {
     "name": "stdout",
     "output_type": "stream",
     "text": [
      "Finished in 0.0 second(s)\n"
     ]
    }
   ],
   "source": [
    "start = time.perf_counter()\n",
    "\n",
    "def addition(a, b):\n",
    "    time.sleep(1)\n",
    "    print(f\"Addition of {a} & {b} is {a + b}\")\n",
    "\n",
    "\n",
    "thread1 = threading.Thread(target=addition, args=(10,20), name=\"Addition1\", )\n",
    "thread2 = threading.Thread(target=addition, args=(20,20), name=\"Addition2\", )\n",
    "\n",
    "thread1.start()\n",
    "thread2.start()\n",
    "\n",
    "\n",
    "finish = time.perf_counter()\n",
    "\n",
    "print(f'Finished in {round(finish-start, 2)} second(s)')"
   ]
  },
  {
   "attachments": {},
   "cell_type": "markdown",
   "metadata": {},
   "source": [
    "## Create Threads by Extending Thread Class \n",
    "*extending Threads class by overridden __init__() and run() methods.*"
   ]
  },
  {
   "cell_type": "code",
   "execution_count": 5,
   "metadata": {},
   "outputs": [
    {
     "name": "stdout",
     "output_type": "stream",
     "text": [
      "Addition of 10 & 20 is 30\n",
      "Addition of 20 & 20 is 40\n",
      "Addition of 10 & 20 is 30\n",
      "Addition of 20 & 20 is 40\n",
      "Finished in 1.0 second(s)\n"
     ]
    }
   ],
   "source": [
    "start = time.perf_counter()\n",
    "\n",
    "class Addition(threading.Thread):\n",
    "    def __init__(self, a, b, name=\"Addition\"):\n",
    "        super().__init__() ## Thread.__init__() will do just same.\n",
    "        self.name = name\n",
    "        self.a = a\n",
    "        self.b = b\n",
    "\n",
    "    def run(self):\n",
    "        time.sleep(1)\n",
    "        print(f\"Addition of {self.a} & {self.b} is {self.a + self.b}\")\n",
    "\n",
    "\n",
    "\n",
    "\n",
    "\n",
    "thread1 = Addition(10,20, name=\"Addition1\")\n",
    "thread2 = Addition(20,20, name=\"Addition2\")\n",
    "\n",
    "thread1.start()\n",
    "thread2.start()\n",
    "\n",
    "thread1.join()\n",
    "thread2.join()\n",
    "\n",
    "finish = time.perf_counter()\n",
    "\n",
    "print(f'Finished in {round(finish-start, 2)} second(s)')"
   ]
  },
  {
   "attachments": {},
   "cell_type": "markdown",
   "metadata": {},
   "source": [
    "## using ThreadPoolExecutor class"
   ]
  },
  {
   "cell_type": "code",
   "execution_count": 6,
   "metadata": {},
   "outputs": [
    {
     "name": "stdout",
     "output_type": "stream",
     "text": [
      "Starting the task 1...\n",
      "Starting the task 2...\n",
      "Done with task 1\n",
      "Done with task 2\n",
      "It took 1.0039667419987381 second(s) to finish.\n"
     ]
    }
   ],
   "source": [
    "\n",
    "import concurrent.futures \n",
    "\n",
    "def task(id):\n",
    "    print(f'Starting the task {id}...')\n",
    "    time.sleep(1)\n",
    "    return f'Done with task {id}'\n",
    "\n",
    "start = time.perf_counter()\n",
    "\n",
    "with concurrent.futures.ThreadPoolExecutor() as executor:\n",
    "    f1 = executor.submit(task, 1)\n",
    "    f2 = executor.submit(task, 2)\n",
    "\n",
    "    print(f1.result())\n",
    "    print(f2.result())\n",
    "\n",
    "finish = time.perf_counter()\n",
    "\n",
    "print(f\"It took {finish-start} second(s) to finish.\")"
   ]
  },
  {
   "cell_type": "code",
   "execution_count": 7,
   "metadata": {},
   "outputs": [
    {
     "name": "stdout",
     "output_type": "stream",
     "text": [
      "Starting the task 1...\n",
      "Starting the task 2...\n",
      "It took 2.001923376999912 second(s) to finish.\n"
     ]
    }
   ],
   "source": [
    "def task(id):\n",
    "    print(f'Starting the task {id}...')\n",
    "    time.sleep(1)\n",
    "    return f'Done with task {id}'\n",
    "\n",
    "start = time.perf_counter()\n",
    "task(1)\n",
    "task(2)\n",
    "finish = time.perf_counter()\n",
    "\n",
    "print(f\"It took {finish-start} second(s) to finish.\")"
   ]
  },
  {
   "attachments": {},
   "cell_type": "markdown",
   "metadata": {},
   "source": [
    "## Introducing enumerate() and is_alive() functions"
   ]
  },
  {
   "cell_type": "code",
   "execution_count": 8,
   "metadata": {},
   "outputs": [
    {
     "name": "stdout",
     "output_type": "stream",
     "text": [
      "Start Time : 2023-02-26 12:53:36.850251\n",
      "Thread Name : MainThread, Is Thread Alive? : True\n",
      "Thread Name : IOPub, Is Thread Alive? : True\n",
      "Thread Name : Heartbeat, Is Thread Alive? : True\n",
      "Thread Name : Thread-3 (_watch_pipe_fd), Is Thread Alive? : True\n",
      "Thread Name : Thread-4 (_watch_pipe_fd), Is Thread Alive? : True\n",
      "Thread Name : Control, Is Thread Alive? : True\n",
      "Thread Name : IPythonHistorySavingThread, Is Thread Alive? : True\n",
      "Thread Name : Thread-2, Is Thread Alive? : True\n",
      "Thread Name : Addition1, Is Thread Alive? : True\n",
      "Thread Name : Addition2, Is Thread Alive? : True\n",
      "Addition of 10 & 20 is 30\n",
      "Addition of 20 & 20 is 40\n",
      "End   Time : 2023-02-26 12:53:37.853231\n"
     ]
    }
   ],
   "source": [
    "def addition(a, b):\n",
    "    time.sleep(1)\n",
    "    print(f\"Addition of {a} & {b} is {a + b}\")\n",
    "\n",
    "\n",
    "\n",
    "print(f\"Start Time : {datetime.now()}\")\n",
    "\n",
    "thread1 = threading.Thread(target=addition, args=(10,20), name=\"Addition1\", )\n",
    "thread2 = threading.Thread(target=addition, args=(20,20), name=\"Addition2\", )\n",
    "\n",
    "thread1.start()\n",
    "thread2.start()\n",
    "\n",
    "for thread in threading.enumerate():\n",
    "    print(f\"Thread Name : {thread.name}, Is Thread Alive? : {thread.is_alive()}\")\n",
    "\n",
    "\n",
    "thread1.join()\n",
    "thread2.join()\n",
    "\n",
    "\n",
    "\n",
    "print(f\"End   Time : {datetime.now()}\")"
   ]
  },
  {
   "attachments": {},
   "cell_type": "markdown",
   "metadata": {},
   "source": [
    "## Thread Local Data for Prevention of Unexpected Behaviors"
   ]
  },
  {
   "cell_type": "code",
   "execution_count": 9,
   "metadata": {},
   "outputs": [
    {
     "name": "stdout",
     "output_type": "stream",
     "text": [
      "Start Time : 2023-02-26 12:53:37.876516\n",
      "End   Time : 2023-02-26 12:53:37.877991\n"
     ]
    }
   ],
   "source": [
    "def addition(a, b):\n",
    "    tLocal = threading.local()\n",
    "    tLocal.a, tLocal.b = a, b\n",
    "    time.sleep(1)\n",
    "    print(f\"Addition of {tLocal.a} & {tLocal.b} is {tLocal.a + tLocal.b}\")\n",
    "\n",
    "\n",
    "\n",
    "print(f\"Start Time : {datetime.now()}\")\n",
    "\n",
    "thread1 = threading.Thread(target=addition, args=(10,20), name=\"Addition1\", )\n",
    "thread2 = threading.Thread(target=addition, args=(20,20), name=\"Addition2\", )\n",
    "\n",
    "thread1.start()\n",
    "thread2.start()\n",
    "\n",
    "print(f\"End   Time : {datetime.now()}\")"
   ]
  },
  {
   "attachments": {},
   "cell_type": "markdown",
   "metadata": {},
   "source": [
    "##  Data Corruption (Inconsistencies) due to Concurrent Access\n",
    "expected output 27 (3^3), 19683 (27^3) and 7625597484987 (19683 ^3)."
   ]
  },
  {
   "cell_type": "code",
   "execution_count": 10,
   "metadata": {},
   "outputs": [
    {
     "name": "stdout",
     "output_type": "stream",
     "text": [
      "Start Time : 2023-02-26 12:53:37.950575\n",
      "Value of X Initially : 3\n",
      "Value of X Initially : 3\n",
      "Value of X Initially : 3\n",
      "Addition of 10 & 20 is 30\n",
      "Addition of 20 & 20 is 40\n",
      "Value of X After Raise : 243\n",
      "Value of X After Raise : 729\n",
      "Value of X After Raise : 2187\n",
      "End   Time : 2023-02-26 12:53:41.955457\n"
     ]
    }
   ],
   "source": [
    "X = 3\n",
    "\n",
    "def Raise(y):\n",
    "    global X\n",
    "\n",
    "    print(f\"Value of X Initially : {X}\")\n",
    "    X_init = X\n",
    "    for _ in range(y-1):\n",
    "        time.sleep(2)\n",
    "        X *= X_init\n",
    "\n",
    "    print(f\"Value of X After Raise : {X}\")\n",
    "\n",
    "\n",
    "print(f\"Start Time : {datetime.now()}\")\n",
    "\n",
    "thread1 = threading.Thread(target=Raise, args=(3,), name=\"Raise1\", )\n",
    "thread2 = threading.Thread(target=Raise, args=(3,), name=\"Raise2\", )\n",
    "thread3 = threading.Thread(target=Raise, args=(3,), name=\"Raise3\", )\n",
    "\n",
    "thread1.start(), thread2.start(), thread3.start()\n",
    "\n",
    "thread1.join(), thread2.join(), thread3.join()\n",
    "\n",
    "print(f\"End   Time : {datetime.now()}\")"
   ]
  },
  {
   "attachments": {},
   "cell_type": "markdown",
   "metadata": {},
   "source": [
    "## Wrapping Code in Lock which Updates Shared Data"
   ]
  },
  {
   "cell_type": "code",
   "execution_count": 11,
   "metadata": {},
   "outputs": [
    {
     "name": "stdout",
     "output_type": "stream",
     "text": [
      "Start Time : 2023-02-26 12:53:42.005588\n",
      "Raise1 acquired lock? True\n",
      "Value of X Initially : 3\n",
      "Value of X After Raise : 27\n",
      "Raise2 acquired lock? True\n",
      "Value of X Initially : 27\n",
      "Value of X After Raise : 19683\n",
      "Raise3 acquired lock? True\n",
      "Value of X Initially : 19683\n",
      "Value of X After Raise : 7625597484987\n",
      "End   Time : 2023-02-26 12:53:54.018180\n"
     ]
    }
   ],
   "source": [
    "X = 3\n",
    "\n",
    "def Raise(lock, y):\n",
    "    global X\n",
    "\n",
    "    acquired = lock.acquire()\n",
    "\n",
    "    print(f\"{threading.current_thread().name} acquired lock? {acquired}\")\n",
    "\n",
    "    print(f\"Value of X Initially : {X}\")\n",
    "    X_init = X\n",
    "    for _ in range(y-1):\n",
    "        time.sleep(2)\n",
    "        X *= X_init\n",
    "\n",
    "    print(f\"Value of X After Raise : {X}\")\n",
    "\n",
    "    lock.release()\n",
    "\n",
    "if __name__ == \"__main__\":\n",
    "    print(f\"Start Time : {datetime.now()}\")\n",
    "\n",
    "    lock = threading.Lock()\n",
    "\n",
    "    thread1 = threading.Thread(target=Raise, args=(lock, 3,), name=\"Raise1\", )\n",
    "    thread2 = threading.Thread(target=Raise, args=(lock, 3,), name=\"Raise2\", )\n",
    "    thread3 = threading.Thread(target=Raise, args=(lock, 3,), name=\"Raise3\", )\n",
    "\n",
    "    thread1.start()\n",
    "    thread2.start()\n",
    "    thread3.start()\n",
    "\n",
    "    thread1.join(), thread2.join(), thread3.join()\n",
    "\n",
    "   \n",
    "    print(f\"End   Time : {datetime.now()}\")"
   ]
  },
  {
   "attachments": {},
   "cell_type": "markdown",
   "metadata": {},
   "source": [
    "## Lock as a Context Manager (with statement)"
   ]
  },
  {
   "cell_type": "code",
   "execution_count": 12,
   "metadata": {},
   "outputs": [
    {
     "name": "stdout",
     "output_type": "stream",
     "text": [
      "Start Time : 2023-02-26 12:53:54.111260\n",
      "Raise1 acquired lock? True\n",
      "Value of X Initially : 3\n",
      "Raise2 tried to acquire lock but it was occupied. Going to sleep again.\n",
      "Raise3 tried to acquire lock but it was occupied. Going to sleep again.\n",
      "Raise3 tried to acquire lock but it was occupied. Going to sleep again.\n",
      "Raise2 tried to acquire lock but it was occupied. Going to sleep again.\n",
      "Raise3 tried to acquire lock but it was occupied. Going to sleep again.Value of X After Raise : 27\n",
      "Raise2 acquired lock? True\n",
      "Value of X Initially : 27\n",
      "\n",
      "Raise3 tried to acquire lock but it was occupied. Going to sleep again.\n",
      "Value of X After Raise : 19683\n",
      "Raise3 acquired lock? True\n",
      "Value of X Initially : 19683\n",
      "Value of X After Raise : 7625597484987\n",
      "\n",
      "End   Time : 2023-02-26 12:54:06.128031\n"
     ]
    }
   ],
   "source": [
    "X = 3\n",
    "\n",
    "def Raise(lock, y):\n",
    "    global X\n",
    "\n",
    "    while lock.locked():\n",
    "        print(\n",
    "            f\"{threading.current_thread().name} tried to acquire lock but it was occupied. Going to sleep again.\"\n",
    "        )\n",
    "        time.sleep(2)\n",
    "\n",
    "    with lock:\n",
    "        print(f\"{threading.current_thread().name} acquired lock? {lock.locked()}\")\n",
    "        print(f\"Value of X Initially : {X}\")\n",
    "        X_init = X\n",
    "        for _ in range(y-1):\n",
    "            time.sleep(2)\n",
    "            X *= X_init\n",
    "\n",
    "        print(f\"Value of X After Raise : {X}\")\n",
    "\n",
    "\n",
    "print(f\"Start Time : {datetime.now()}\")\n",
    "\n",
    "lock = threading.Lock()\n",
    "\n",
    "thread1 = threading.Thread(target=Raise, args=(lock, 3,), name=\"Raise1\", )\n",
    "thread2 = threading.Thread(target=Raise, args=(lock, 3,), name=\"Raise2\", )\n",
    "thread3 = threading.Thread(target=Raise, args=(lock, 3,), name=\"Raise3\", )\n",
    "\n",
    "thread1.start()\n",
    "thread2.start()\n",
    "thread3.start()\n",
    "\n",
    "thread1.join(), thread2.join(), thread3.join()\n",
    "\n",
    "print()\n",
    "print(f\"End   Time : {datetime.now()}\")"
   ]
  },
  {
   "attachments": {},
   "cell_type": "markdown",
   "metadata": {},
   "source": [
    "##"
   ]
  },
  {
   "cell_type": "code",
   "execution_count": 13,
   "metadata": {},
   "outputs": [],
   "source": [
    "from random import random\n",
    "def task(semaphore, number):\n",
    "    # attempt to acquire the semaphore\n",
    "    with semaphore:\n",
    "        # process\n",
    "        value = random()\n",
    "        time.sleep(value)\n",
    "        # report result\n",
    "        print(f'Thread {number} got {value}')\n",
    " \n",
    "# create a semaphore\n",
    "semaphore = threading.Semaphore(2)\n",
    "# create a suite of threads\n",
    "for i in range(20):\n",
    "    worker = threading.Thread(target=task, args=(semaphore, i))\n",
    "    worker.start()"
   ]
  },
  {
   "cell_type": "code",
   "execution_count": 14,
   "metadata": {},
   "outputs": [],
   "source": [
    "def task(semaphore, number):\n",
    "    # attempt to acquire the semaphore\n",
    "    with semaphore:\n",
    "        # process\n",
    "        value = random()\n",
    "        time.sleep(value)\n",
    "        # report result\n",
    "        print(f'Thread {number} got {value}')\n",
    " \n",
    "# create a semaphore\n",
    "semaphore = threading.Semaphore(20)\n",
    "# create a suite of threads\n",
    "for i in range(20):\n",
    "    worker = threading.Thread(target=task, args=(semaphore, i))\n",
    "    worker.start()"
   ]
  },
  {
   "cell_type": "code",
   "execution_count": 15,
   "metadata": {},
   "outputs": [
    {
     "name": "stdout",
     "output_type": "stream",
     "text": [
      "Thread 18 got 0.011780646538956718\n",
      "Thread 13 got 0.06898154454195415\n"
     ]
    },
    {
     "name": "stdout",
     "output_type": "stream",
     "text": [
      "Thread 16 got 0.08183103631765398\n",
      "Start Time : 12:54:06\n",
      "Thread 14 got 0.11521042543127258\n",
      "Thread 0 got 0.15556051515888358\n",
      "Thread 1 got 0.22897273904564974\n",
      "Thread 4 got 0.24829766724414615\n",
      "Thread 11 got 0.27833577162053214\n",
      "Thread 8 got 0.38676421401500094\n",
      "Thread 7 got 0.39062820263808884\n",
      "Thread 19 got 0.4087055523892892\n",
      "Thread 15 got 0.5096054176272673\n",
      "Thread 9 got 0.5196589371975834\n",
      "Thread 0 got 0.6386729845333654\n",
      "Thread 5 got 0.6582006310282569\n",
      "Thread 6 got 0.7302076845404245\n",
      "Thread 1 got 0.7628055598963643\n",
      "Thread 3 got 0.8855850117747884\n",
      "Thread 10 got 0.887336262343665\n",
      "Thread 17 got 0.893477792720263\n",
      "Thread 12 got 0.9210796369295546\n",
      "Thread 2 got 0.9270878576558269\n",
      "Thread 2 got 0.5406759777851445\n",
      "Thread 3 got 0.5033580644811575\n",
      "Thread 4 got 0.2241745126150282\n",
      "Thread 5 got 0.20961988183059266\n",
      "Thread 7 got 0.07550474925710449\n",
      "Thread 6 got 0.7069365221999072\n",
      "Thread 8 got 0.815306400402769\n",
      "Thread 10 got 0.1005729176740171\n",
      "Thread 9 got 0.5131051153981734\n",
      "Thread 11 got 0.2266705218156575\n",
      "Thread 12 got 0.35103776705557976\n",
      "Thread 13 got 0.9701231655577234\n",
      "Thread 14 got 0.7052213835588994\n",
      "Thread 15 got 0.0702189918725975\n",
      "Thread 16 got 0.5649527443258952\n",
      "Thread 18 got 0.3703142706206902\n",
      "Thread 17 got 0.963354773491335\n",
      "Thread 19 got 0.4357240256571655\n",
      "Print massage at 12:54:11 - Welcome to CoderzColumn\n",
      "\n",
      "End   Time : 12:54:11\n"
     ]
    }
   ],
   "source": [
    "def print_message(message):\n",
    "    print(f\"Print massage at {datetime.now().strftime('%H:%M:%S')} - {message}\\n\")\n",
    "\n",
    "# print(datetime.now().strftime(\"%H:%M:%S\"))\n",
    "print(f\"Start Time : {datetime.now().strftime('%H:%M:%S')}\")\n",
    "\n",
    "timer = threading.Timer(interval=5, function=print_message, args=(\"Welcome to CoderzColumn\", ))\n",
    "timer.start()\n",
    "timer.join()\n",
    "\n",
    "print(f\"End   Time : {datetime.now().strftime('%H:%M:%S')}\")"
   ]
  }
 ],
 "metadata": {
  "kernelspec": {
   "display_name": "Python 3",
   "language": "python",
   "name": "python3"
  },
  "language_info": {
   "codemirror_mode": {
    "name": "ipython",
    "version": 3
   },
   "file_extension": ".py",
   "mimetype": "text/x-python",
   "name": "python",
   "nbconvert_exporter": "python",
   "pygments_lexer": "ipython3",
   "version": "3.10.6"
  },
  "orig_nbformat": 4,
  "vscode": {
   "interpreter": {
    "hash": "916dbcbb3f70747c44a77c7bcd40155683ae19c65e1c03b4aa3499c5328201f1"
   }
  }
 },
 "nbformat": 4,
 "nbformat_minor": 2
}
