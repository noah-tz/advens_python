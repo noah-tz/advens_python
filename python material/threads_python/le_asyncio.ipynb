{
 "cells": [
  {
   "attachments": {},
   "cell_type": "markdown",
   "metadata": {},
   "source": [
    "# Asyncio:\n",
    "\n",
    "## Overview:\n",
    "* AsyncIO is a library that allows the use of several functions at the same time.<br></br>\n",
    "* Async IO takes long timeouts where functions would otherwise hang and allows other functions to run during that idle time.\n",
    " (A block function effectively prohibits others from running from the time it starts until the time it returns.)<br></br>\n",
    "* Unlike threading and multiprocessing, async uses only one thread and one CPU core.<br></br>\n",
    "* Coroutines (specialized generator functions) are the heart of asyncIO in Python.<br></br>\n",
    "* Coroutines is a function that can suspend its execution before reaching return,\n",
    " and it can indirectly pass control to another coroutine for some time.\n",
    "\n",
    " ## What does it mean to be asynchronous?<br></br>\n",
    " * Asynchronous routines are able to \"pause\" while waiting on their ultimate result and let other routines run in the meantime.<br></br>\n",
    " * Asynchronous code, through the mechanism above, gives the look and feel of concurrency.\n",
    "\n",
    "\n",
    "\n"
   ]
  },
  {
   "attachments": {},
   "cell_type": "markdown",
   "metadata": {},
   "source": [
    "## Basic words:\n",
    "\n",
    "* `async`: The async keyword is used to define an asynchronous coroutine.\n",
    "Will be written before the word def when writing a function.<br></br>\n",
    "* `await`: Await keyword is used to wait for a coroutine to complete.<br></br>\n",
    "* `gather`: Gather is a function that allows you to run multiple coroutines concurrently,\n",
    "and it returns an awaitable that you can await to get the results of all the coroutines."
   ]
  },
  {
   "attachments": {},
   "cell_type": "markdown",
   "metadata": {},
   "source": [
    "## Rules:\n",
    "\n",
    "* `async def` is coroutine, use await, return or yield is optional. Pass is valid.<br></br>\n",
    "* Using yield an async function is uncommon but allowed.<br></br>\n",
    "* Like a `SyntaxError` to use yield outside of function, its a `SyntaxError` to use await outside of an async coroutine.\n",
    "(Examples bellow)"
   ]
  },
  {
   "cell_type": "markdown",
   "metadata": {},
   "source": [
    "I'm sure like me, you're already impatient to see an example, so let's jump in the pool and then I'll explain about `asyncio` functions!"
   ]
  },
  {
   "cell_type": "code",
   "execution_count": 3,
   "metadata": {},
   "outputs": [
    {
     "name": "stdout",
     "output_type": "stream",
     "text": [
      "Overwriting try_with_async.py\n"
     ]
    }
   ],
   "source": [
    "# %%file try_with_async.py\n",
    "\n",
    "import asyncio\n",
    "import re\n",
    "import time\n",
    "\n",
    "# ANSI colors\n",
    "colors = (\n",
    "    \"\\033[0m\",   # End of color\n",
    "    \"\\033[36m\",  # Cyan\n",
    "    \"\\033[91m\",  # Red\n",
    "    \"\\033[35m\",  # Magenta\n",
    "    \"\\033[33m\",  # Yellow\n",
    ")\n",
    "\n",
    "async def count():\n",
    "    print(f\"{colors[1]}One\")\n",
    "    await asyncio.sleep(1)\n",
    "    print(f\"{colors[2]}Two\")\n",
    "\n",
    "async def search_for_pattern():\n",
    "    pattern = r'\\d+'\n",
    "    text = 'abc 123 def 456 ghi'\n",
    "    match = re.search(pattern, text)\n",
    "    print(f\"{colors[3]}Match: {match[0]}\")\n",
    "\n",
    "async def main():\n",
    "    tasks = [count(), count(), count(), search_for_pattern()]\n",
    "    await asyncio.gather(*tasks)\n",
    "\n",
    "if __name__ == \"__main__\":\n",
    "    s = time.perf_counter()\n",
    "    asyncio.run(main())\n",
    "    elapsed = time.perf_counter() - s\n",
    "    print(f\"{colors[4]}{__file__} executed in {elapsed:0.2f} seconds.\")"
   ]
  },
  {
   "cell_type": "code",
   "execution_count": 7,
   "metadata": {},
   "outputs": [
    {
     "name": "stdout",
     "output_type": "stream",
     "text": [
      "\u001b[36mOne\n",
      "\u001b[36mOne\n",
      "\u001b[36mOne\n",
      "\u001b[35mMatch: 123\n",
      "\u001b[91mTwo\n",
      "\u001b[91mTwo\n",
      "\u001b[91mTwo\n",
      "\u001b[33m/home/noah-tz/Documents/works/m05.noahtz/python/advens_pythone/python material/threads_python/try_with_async.py executed in 1.00 seconds.\n"
     ]
    }
   ],
   "source": [
    "!python3 try_with_async.py"
   ]
  },
  {
   "cell_type": "markdown",
   "metadata": {},
   "source": [
    "The code above uses asyncio library and the code below does not.\n",
    "See the difference in the time it takes you and the difference in the output."
   ]
  },
  {
   "cell_type": "code",
   "execution_count": 1,
   "metadata": {},
   "outputs": [
    {
     "name": "stdout",
     "output_type": "stream",
     "text": [
      "Writing try_without_async.py\n"
     ]
    }
   ],
   "source": [
    "# %%file try_without_async.py\n",
    "\n",
    "import re\n",
    "import time\n",
    "\n",
    "# ANSI colors\n",
    "colors = (\n",
    "    \"\\033[0m\",   # End of color\n",
    "    \"\\033[36m\",  # Cyan\n",
    "    \"\\033[91m\",  # Red\n",
    "    \"\\033[35m\",  # Magenta\n",
    "    \"\\033[33m\",  # Yellow\n",
    ")\n",
    "\n",
    "def count():\n",
    "    print(f\"{colors[1]}One\")\n",
    "    time.sleep(1)\n",
    "    print(f\"{colors[2]}Two\")\n",
    "\n",
    "\n",
    "def search_for_pattern():\n",
    "    pattern = r'\\d+'\n",
    "    text = 'abc 123 def 456 ghi'\n",
    "    match = re.search(pattern, text)\n",
    "    print(f\"{colors[3]}Match: {match[0]}\")\n",
    "\n",
    "\n",
    "def main():\n",
    "    tasks = [count(), count(), count(), search_for_pattern()]\n",
    "    for task in tasks:\n",
    "        task\n",
    "\n",
    "\n",
    "if __name__ == \"__main__\":\n",
    "    s = time.perf_counter()\n",
    "    main()\n",
    "    elapsed = time.perf_counter() - s\n",
    "    print(f\"{colors[4]}{__file__} executed in {elapsed:0.2f} seconds.\")\n"
   ]
  },
  {
   "cell_type": "code",
   "execution_count": 2,
   "metadata": {},
   "outputs": [
    {
     "name": "stdout",
     "output_type": "stream",
     "text": [
      "\u001b[36mOne\n",
      "\u001b[91mTwo\n",
      "\u001b[36mOne\n",
      "\u001b[91mTwo\n",
      "\u001b[36mOne\n",
      "\u001b[91mTwo\n",
      "\u001b[35mMatch: 123\n",
      "\u001b[33m/home/noah-tz/Documents/works/m05.noahtz/python/advens_pythone/python material/threads_python/try_without_async.py executed in 3.00 seconds.\n"
     ]
    }
   ],
   "source": [
    "!python3 try_without_async.py"
   ]
  },
  {
   "cell_type": "markdown",
   "metadata": {},
   "source": [
    "* Examples of what can and can't:"
   ]
  },
  {
   "cell_type": "code",
   "execution_count": 8,
   "metadata": {},
   "outputs": [],
   "source": [
    "async def f(x):\n",
    "    y = await z(x)  # OK - `await` and `return` allowed in coroutines\n",
    "    return y\n",
    "\n",
    "async def g(x):\n",
    "    yield x  # OK - this is an async generator\n",
    "\n",
    "# def m(x):\n",
    "#     y = await z(x)  # Still no - SyntaxError (no `async def` here)\n",
    "#     return y"
   ]
  },
  {
   "attachments": {},
   "cell_type": "markdown",
   "metadata": {},
   "source": [
    "## `asyncio` functions:\n",
    "Here are some of the popular functions in the `asyncio` library:<p>\n",
    "\n",
    "* `create_task`: This function is used to schedule a coroutine function to run asynchronously. It takes a coroutine object as an argument and schedules it to run on the event loop.\n",
    "\n",
    "* `gather`: This function is used to run multiple coroutines concurrently and wait for all of them to complete. It takes a list of coroutines as an argument and returns a list of their results.\n",
    "\n",
    "* `sleep`: This function is used to pause the execution of a coroutine for a specified amount of time. It takes a number of seconds as an argument and returns a coroutine that completes after the specified time has elapsed.\n",
    "\n",
    "* `wait`: This function is used to run multiple coroutines concurrently and wait for any of them to complete. It takes a list of coroutines as an argument and returns a tuple of completed tasks and pending tasks.\n",
    "\n",
    "* `wait_for`: This function is used to wait for a single coroutine to complete, and it raises a `asyncio.TimeoutError` if the coroutine does not complete within the specified timeout.\n",
    "\n",
    "* `run`: This function is used to run an async function as the main entry point of the program. It takes an async function as an argument and runs it until it completes or is interrupted.\n",
    "<p>\n",
    "In the code section that we showed an example above, we used the gather and sleep functions."
   ]
  },
  {
   "attachments": {},
   "cell_type": "markdown",
   "metadata": {},
   "source": [
    "## `Iohttp`:\n",
    "\n",
    "It is important to know the sister that goes hand in hand with `asyncio` and is called `aiohttp` library.\n",
    " `aiohttp` provides an easy-to-use API for making HTTP requests asynchronously,\n",
    " making it a popular choice for building asynchronous web applications and microservices.<p>\n",
    " The following code extracts the html from the given urls:"
   ]
  },
  {
   "cell_type": "code",
   "execution_count": 38,
   "metadata": {},
   "outputs": [
    {
     "name": "stdout",
     "output_type": "stream",
     "text": [
      "Overwriting chat_example.py\n"
     ]
    }
   ],
   "source": [
    "%%file chat_example.py\n",
    "\n",
    "import asyncio\n",
    "import aiohttp\n",
    "\n",
    "async def fetch_page(session, url):\n",
    "    async with session.get(url) as response:\n",
    "        return await response.text()\n",
    "\n",
    "async def main():\n",
    "    async with aiohttp.ClientSession() as session:\n",
    "        urls = [\n",
    "            'https://www.google.com',\n",
    "            'https://www.yahoo.com',\n",
    "            'https://www.bing.com'\n",
    "        ]\n",
    "        tasks = [asyncio.create_task(fetch_page(session, url)) for url in urls]\n",
    "        results = await asyncio.gather(*tasks)\n",
    "        print(results)\n",
    "\n",
    "asyncio.run(main())"
   ]
  },
  {
   "cell_type": "code",
   "execution_count": null,
   "metadata": {},
   "outputs": [],
   "source": [
    "!python3  chat_example.py"
   ]
  }
 ],
 "metadata": {
  "kernelspec": {
   "display_name": "Python 3",
   "language": "python",
   "name": "python3"
  },
  "language_info": {
   "codemirror_mode": {
    "name": "ipython",
    "version": 3
   },
   "file_extension": ".py",
   "mimetype": "text/x-python",
   "name": "python",
   "nbconvert_exporter": "python",
   "pygments_lexer": "ipython3",
   "version": "3.10.6 (main, Nov 14 2022, 16:10:14) [GCC 11.3.0]"
  },
  "orig_nbformat": 4,
  "vscode": {
   "interpreter": {
    "hash": "916dbcbb3f70747c44a77c7bcd40155683ae19c65e1c03b4aa3499c5328201f1"
   }
  }
 },
 "nbformat": 4,
 "nbformat_minor": 2
}
