{
 "cells": [
  {
   "attachments": {},
   "cell_type": "markdown",
   "metadata": {},
   "source": [
    "# Multiprocessing vs Multithreading vs Asyncio in Python\n",
    "Python provides several ways to perform concurrent or parallel processing. The three most commonly used approaches are multiprocessing, multithreading, \n",
    "and asyncio. In this notebook, we'll compare these three approaches and discuss their advantages and disadvantages."
   ]
  },
  {
   "attachments": {},
   "cell_type": "markdown",
   "metadata": {},
   "source": [
    "## 1. Introduction to multiprocessing, multithreading, and asyncio in Python\n",
    "### Multiprocessing\n",
    "Multiprocessing is a technique where a program uses multiple processors to run several tasks in parallel. In Python, the multiprocessing module provides support for multiprocessing. Each process has its own memory space and runs independently of other processes.\n",
    "\n",
    "### Multithreading\n",
    "Multithreading is a technique where a program uses multiple threads to run several tasks concurrently. In Python, the threading module provides support for multithreading. Threads share the same memory space and run within the same process.\n",
    "\n",
    "### Asyncio\n",
    "Asyncio is a technique where a program uses cooperative multitasking to run several tasks concurrently. In Python, the asyncio module provides support for asyncio. Coroutines are used to represent asynchronous tasks, and the asyncio event loop schedules and runs these tasks."
   ]
  },
  {
   "attachments": {},
   "cell_type": "markdown",
   "metadata": {},
   "source": [
    "## 2. Differences between multiprocessing, multithreading, and asyncio\n",
    "### Execution model\n",
    "Multiprocessing executes tasks in parallel, with each task running in a separate process.\n",
    "\n",
    "Multithreading executes tasks concurrently, with multiple threads running within the same process.\n",
    "\n",
    "Asyncio executes tasks cooperatively, with coroutines running within the same thread and the asyncio event loop scheduling and running the coroutines.\n",
    "\n",
    "### Overhead\n",
    "Multiprocessing has the highest overhead, as it requires creating new processes and transferring data between them.\n",
    "\n",
    "Multithreading has less overhead than multiprocessing, as threads share the same memory space.\n",
    "\n",
    "Asyncio has the lowest overhead, as it uses cooperative multitasking within the same thread.\n",
    "\n",
    "Parallelism\n",
    "Multiprocessing provides true parallelism, as tasks run in separate processes and can utilize multiple CPUs.\n",
    "\n",
    "Multithreading provides concurrency, but not true parallelism, as threads run within the same process and share the same resources.\n",
    "\n",
    "Asyncio provides concurrency, but not true parallelism, as coroutines run within the same thread and share the same resources.\n",
    "\n",
    "### Complexity\n",
    "Multiprocessing is more complex than multithreading and asyncio, as it involves managing multiple processes and communication between them.\n",
    "\n",
    "Multithreading is less complex than multiprocessing, but still requires careful management of shared resources.\n",
    "\n",
    "Asyncio is the simplest approach, as it only requires managing coroutines within the same thread.\n",
    "\n"
   ]
  },
  {
   "attachments": {},
   "cell_type": "markdown",
   "metadata": {},
   "source": [
    "## Examples and code snippets to illustrate the differences between the three approaches\n",
    "### Multiprocessing example\n",
    "Here we have a function that runs the recursive function to find a specific Fibonacci number, a certain number of times according to the user's choice"
   ]
  },
  {
   "attachments": {},
   "cell_type": "markdown",
   "metadata": {},
   "source": [
    "#### without multiprocessing: "
   ]
  },
  {
   "cell_type": "code",
   "execution_count": 2,
   "metadata": {},
   "outputs": [
    {
     "name": "stdout",
     "output_type": "stream",
     "text": [
      "('calculate 2 times', [1346269, 1346269])\n",
      "Time elapsed: 0.516420841217041 seconds\n"
     ]
    }
   ],
   "source": [
    "import time\n",
    "\n",
    "times = 2\n",
    "\n",
    "def fib(n):\n",
    "    return n if n < 2 else fib(n-1) + fib(n-2)\n",
    "\n",
    "def calculate(n, amount=1):\n",
    "    return (f\"calculate {amount} times\", [fib(n) for _ in range(amount)])\n",
    "  \n",
    "\n",
    "time_start = time.time()\n",
    "print(calculate(31, times))\n",
    "time_end = time.time()\n",
    "print(f'Time elapsed: {time_end - time_start} seconds')"
   ]
  },
  {
   "attachments": {},
   "cell_type": "markdown",
   "metadata": {},
   "source": [
    "#### with multiprocessing:"
   ]
  },
  {
   "cell_type": "code",
   "execution_count": 3,
   "metadata": {},
   "outputs": [
    {
     "name": "stdout",
     "output_type": "stream",
     "text": [
      "('calculate 2 times', [1346269, 1346269])\n",
      "Time elapsed: 0.39865970611572266 seconds\n"
     ]
    }
   ],
   "source": [
    "import multiprocessing as mp\n",
    "\n",
    "def calculate(n, amount=1):\n",
    "    numbers = [n] * amount\n",
    "    pool = mp.Pool()\n",
    "    results = pool.map(fib, numbers)\n",
    "    return (f\"calculate {amount} times\", results)\n",
    "\n",
    "time_start = time.time()\n",
    "results = calculate(31, times)\n",
    "time_end = time.time()\n",
    "print(results)\n",
    "print(f'Time elapsed: {time_end - time_start} seconds')"
   ]
  },
  {
   "attachments": {},
   "cell_type": "markdown",
   "metadata": {},
   "source": [
    "#### and with Multithreading:"
   ]
  },
  {
   "cell_type": "code",
   "execution_count": 6,
   "metadata": {},
   "outputs": [
    {
     "name": "stdout",
     "output_type": "stream",
     "text": [
      "('calculate 2 times', [1346269, 1346269])\n",
      "Time elapsed: 0.5165376663208008 seconds\n"
     ]
    }
   ],
   "source": [
    "import threading\n",
    "\n",
    "def calculate(n, amount=1):\n",
    "    numbers = [n] * amount\n",
    "    threads = []\n",
    "    results = []\n",
    "    for number in numbers:\n",
    "        thread = threading.Thread(target=lambda: results.append(fib(number)))\n",
    "        threads.append(thread)\n",
    "        thread.start()\n",
    "    for thread in threads:\n",
    "        thread.join()\n",
    "    return (f\"calculate {amount} times\", results)\n",
    "\n",
    "time_start = time.time()\n",
    "results = calculate(31, times)\n",
    "time_end = time.time()\n",
    "print(results)\n",
    "print(f'Time elapsed: {time_end - time_start} seconds')"
   ]
  },
  {
   "attachments": {},
   "cell_type": "markdown",
   "metadata": {},
   "source": [
    "### and now the Multithreading va asyncio axample\n",
    "#### We have a function here that simulates preparing breakfast with the components of: omelette, toast, and salad. and the preparation time of each of them."
   ]
  },
  {
   "attachments": {},
   "cell_type": "markdown",
   "metadata": {},
   "source": [
    "##### without Multithreading and asyncio:"
   ]
  },
  {
   "cell_type": "code",
   "execution_count": 7,
   "metadata": {},
   "outputs": [
    {
     "name": "stdout",
     "output_type": "stream",
     "text": [
      "1 omelet is ready\n",
      "1 salad is ready\n",
      "1 toast is ready\n",
      "1 toast is ready\n",
      "Breakfast is ready\n",
      "Time elapsed: 12.00125002861023 seconds\n"
     ]
    }
   ],
   "source": [
    "def omelet():\n",
    "    time.sleep(3)\n",
    "    print('1 omelet is ready')\n",
    "\n",
    "def toast():\n",
    "    time.sleep(2)\n",
    "    print('1 toast is ready')\n",
    "\n",
    "def salad():\n",
    "    time.sleep(5)\n",
    "    print('1 salad is ready')\n",
    "\n",
    "def breakfast(persons=1):\n",
    "    for _ in range(persons):\n",
    "        omelet()\n",
    "        salad()\n",
    "        toast()\n",
    "        toast()\n",
    "    print('Breakfast is ready') \n",
    "       \n",
    "def main():\n",
    "    time_start = time.time()\n",
    "    breakfast()\n",
    "    time_end = time.time()\n",
    "    print(f'Time elapsed: {time_end - time_start} seconds')\n",
    "    \n",
    "if __name__ == '__main__':\n",
    "    main()"
   ]
  },
  {
   "attachments": {},
   "cell_type": "markdown",
   "metadata": {},
   "source": [
    "#### with Multithreading:"
   ]
  },
  {
   "cell_type": "code",
   "execution_count": 8,
   "metadata": {},
   "outputs": [
    {
     "name": "stdout",
     "output_type": "stream",
     "text": [
      "1 toast is ready\n",
      "1 toast is ready\n",
      "1 omelet is ready\n",
      "1 salad is ready\n",
      "Breakfast is ready\n",
      "Time elapsed: 5.002636432647705 seconds\n"
     ]
    }
   ],
   "source": [
    "import threading\n",
    "\n",
    "def omelet():\n",
    "    time.sleep(3)\n",
    "    print('1 omelet is ready')\n",
    "\n",
    "def toast():\n",
    "    time.sleep(2)\n",
    "    print('1 toast is ready')\n",
    "\n",
    "def salad():\n",
    "    time.sleep(5)\n",
    "    print('1 salad is ready')\n",
    "\n",
    "def breakfast(persons=1):\n",
    "    threads = []\n",
    "    for _ in range(persons):\n",
    "        t1 = threading.Thread(target=omelet)\n",
    "        t2 = threading.Thread(target=salad)\n",
    "        t3 = threading.Thread(target=toast)\n",
    "        t4 = threading.Thread(target=toast)\n",
    "        threads.extend((t1, t4, t3, t2))\n",
    "        t2.start()\n",
    "        t3.start()\n",
    "        t4.start()\n",
    "        t1.start()\n",
    "    for t in threads:\n",
    "        t.join()\n",
    "    print('Breakfast is ready')\n",
    "\n",
    "def main():\n",
    "    time_start = time.time()\n",
    "    breakfast()\n",
    "    time_end = time.time()\n",
    "    print(f'Time elapsed: {time_end - time_start} seconds')\n",
    "\n",
    "if __name__ == '__main__':\n",
    "    main()"
   ]
  },
  {
   "attachments": {},
   "cell_type": "markdown",
   "metadata": {},
   "source": [
    "#### and now with asyncio:\n",
    "in order to use asyncio with Jupiter,\n",
    "We must use \"%%file\" to write the code to a file."
   ]
  },
  {
   "cell_type": "code",
   "execution_count": 10,
   "metadata": {},
   "outputs": [
    {
     "name": "stdout",
     "output_type": "stream",
     "text": [
      "Overwriting demo_asyncio.py\n"
     ]
    }
   ],
   "source": [
    "# %%file demo_asyncio.py\n",
    "import asyncio as aio\n",
    "import time\n",
    "\n",
    "async def omelet():\n",
    "    await aio.sleep(3)\n",
    "    print('1 omelet is ready')\n",
    "\n",
    "async def toast():\n",
    "    await aio.sleep(2)\n",
    "    print('1 toast is ready')\n",
    "\n",
    "async def salad():\n",
    "    await aio.sleep(5)\n",
    "    print('1 salad is ready')\n",
    "\n",
    "async def breakfast(persons=1):\n",
    "    await aio.gather(\n",
    "        *[toast() for _ in range(persons * 2)],\n",
    "        *[salad() for _ in range(persons)],\n",
    "        *[omelet() for _ in range(persons)],\n",
    "    )\n",
    "    print('Breakfast is ready')\n",
    "\n",
    "def main():\n",
    "    time_start = time.time()\n",
    "    aio.run(breakfast(20))\n",
    "    time_end = time.time()\n",
    "    print(f'Time elapsed: {time_end - time_start} seconds')\n",
    "\n",
    "if __name__ == \"__main__\":\n",
    "    main()\n"
   ]
  },
  {
   "attachments": {},
   "cell_type": "markdown",
   "metadata": {},
   "source": [
    "and Then run with the command line:"
   ]
  },
  {
   "cell_type": "code",
   "execution_count": 12,
   "metadata": {},
   "outputs": [
    {
     "name": "stdout",
     "output_type": "stream",
     "text": [
      "1 toast is ready\n",
      "1 toast is ready\n",
      "1 toast is ready\n",
      "1 toast is ready\n",
      "1 toast is ready\n",
      "1 toast is ready\n",
      "1 toast is ready\n",
      "1 toast is ready\n",
      "1 toast is ready\n",
      "1 toast is ready\n",
      "1 toast is ready\n",
      "1 toast is ready\n",
      "1 toast is ready\n",
      "1 toast is ready\n",
      "1 toast is ready\n",
      "1 toast is ready\n",
      "1 toast is ready\n",
      "1 toast is ready\n",
      "1 toast is ready\n",
      "1 toast is ready\n",
      "1 toast is ready\n",
      "1 toast is ready\n",
      "1 toast is ready\n",
      "1 toast is ready\n",
      "1 toast is ready\n",
      "1 toast is ready\n",
      "1 toast is ready\n",
      "1 toast is ready\n",
      "1 toast is ready\n",
      "1 toast is ready\n",
      "1 toast is ready\n",
      "1 toast is ready\n",
      "1 toast is ready\n",
      "1 toast is ready\n",
      "1 toast is ready\n",
      "1 toast is ready\n",
      "1 toast is ready\n",
      "1 toast is ready\n",
      "1 toast is ready\n",
      "1 toast is ready\n",
      "1 omelet is ready\n",
      "1 omelet is ready\n",
      "1 omelet is ready\n",
      "1 omelet is ready\n",
      "1 omelet is ready\n",
      "1 omelet is ready\n",
      "1 omelet is ready\n",
      "1 omelet is ready\n",
      "1 omelet is ready\n",
      "1 omelet is ready\n",
      "1 omelet is ready\n",
      "1 omelet is ready\n",
      "1 omelet is ready\n",
      "1 omelet is ready\n",
      "1 omelet is ready\n",
      "1 omelet is ready\n",
      "1 omelet is ready\n",
      "1 omelet is ready\n",
      "1 omelet is ready\n",
      "1 omelet is ready\n",
      "1 salad is ready\n",
      "1 salad is ready\n",
      "1 salad is ready\n",
      "1 salad is ready\n",
      "1 salad is ready\n",
      "1 salad is ready\n",
      "1 salad is ready\n",
      "1 salad is ready\n",
      "1 salad is ready\n",
      "1 salad is ready\n",
      "1 salad is ready\n",
      "1 salad is ready\n",
      "1 salad is ready\n",
      "1 salad is ready\n",
      "1 salad is ready\n",
      "1 salad is ready\n",
      "1 salad is ready\n",
      "1 salad is ready\n",
      "1 salad is ready\n",
      "1 salad is ready\n",
      "Breakfast is ready\n",
      "Time elapsed: 5.0044615268707275 seconds\n"
     ]
    }
   ],
   "source": [
    "!python3 demo_asyncio.py"
   ]
  },
  {
   "attachments": {},
   "cell_type": "markdown",
   "metadata": {},
   "source": [
    "### so to the conclusion:\n",
    "# 3. Advantages and disadvantages of multiprocessing, multithreading, and asyncio\n",
    "## Multiprocessing\n",
    "### Advantages:\n",
    "\n",
    "* Provides true parallelism, which can result in significant performance gains for CPU-bound tasks.\n",
    "* Each process has its own memory space, which can prevent issues with shared resources.\n",
    "### Disadvantages:\n",
    "\n",
    "* High overhead due to process creation and data transfer between processes.\n",
    "* Complex management of multiple processes.\n",
    "## Multithreading\n",
    "### Advantages:\n",
    "\n",
    "* Low overhead, as threads share the same memory space.\n",
    "* Can improve performance for I/O-bound tasks.\n",
    "### Disadvantages:\n",
    "\n",
    "* Difficult to manage shared resources, such as variables and data structures.\n",
    "* Limited scalability due to the global interpreter lock (GIL), which prevents multiple threads from executing Python bytecode simultaneously.\n",
    "## Asyncio\n",
    "### Advantages:\n",
    "\n",
    "* Low overhead, as coroutines run within the same thread.\n",
    "* Can handle large numbers of I/O-bound tasks with ease.\n",
    "### Disadvantages:\n",
    "\n",
    "* Limited to I/O-bound tasks, as CPU-bound tasks can block the event loop.\n",
    "* Not suitable for tasks that require true parallelism."
   ]
  },
  {
   "attachments": {},
   "cell_type": "markdown",
   "metadata": {},
   "source": [
    "## 4. When to use multiprocessing, multithreading, and asyncio\n",
    "### Use multiprocessing when:\n",
    "* You need to perform CPU-bound tasks that can benefit from true parallelism.\n",
    "* You need to prevent issues with shared resources by running tasks in separate processes.\n",
    "* The overhead of creating and managing multiple processes is acceptable.\n",
    "\n",
    "### Use multithreading when:\n",
    "\n",
    "* You need to perform I/O-bound tasks that can benefit from concurrency.\n",
    "* You can manage shared resources carefully to prevent issues such as race conditions.\n",
    "* The limitations of the GIL are not a significant concern.\n",
    "\n",
    "### Use asyncio when:\n",
    "\n",
    "* You need to handle large numbers of I/O-bound tasks with minimal overhead.\n",
    "* You can structure your code using coroutines and the asyncio event loop.\n",
    "* You do not need true parallelism or do not want to deal with the overhead and complexity of multiprocessing."
   ]
  }
 ],
 "metadata": {
  "kernelspec": {
   "display_name": "Python 3",
   "language": "python",
   "name": "python3"
  },
  "language_info": {
   "codemirror_mode": {
    "name": "ipython",
    "version": 3
   },
   "file_extension": ".py",
   "mimetype": "text/x-python",
   "name": "python",
   "nbconvert_exporter": "python",
   "pygments_lexer": "ipython3",
   "version": "3.11.2"
  },
  "orig_nbformat": 4,
  "vscode": {
   "interpreter": {
    "hash": "e7370f93d1d0cde622a1f8e1c04877d8463912d04d973331ad4851f04de6915a"
   }
  }
 },
 "nbformat": 4,
 "nbformat_minor": 2
}
