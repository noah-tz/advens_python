{
 "cells": [
  {
   "attachments": {},
   "cell_type": "markdown",
   "metadata": {},
   "source": [
    "# RegEx\n",
    "- A RegEx, or Regular Expression, is a sequence of characters that forms a search pattern.\n",
    "\n",
    "- RegEx can be used to check if a string contains the specified search pattern."
   ]
  },
  {
   "attachments": {},
   "cell_type": "markdown",
   "metadata": {},
   "source": [
    "## Function\n",
    "* There is a set of functions that allows us to search a string for a match:\n",
    "\n",
    "* `findall()`\n",
    "    Returns a list containing all matches\n",
    "* `search()`\n",
    "    Returns a Match object if there is a match anywhere in the string\n",
    "* `split()`\n",
    "\tReturns a list where the string has been split at each match\n",
    "* `sub()`\n",
    "\tReplaces one or many matches with a string\n",
    "*  `subn()` Similar to sub except it returns a tuple of 2 items containing the new string and the number of substitutions made."
   ]
  },
  {
   "attachments": {},
   "cell_type": "markdown",
   "metadata": {},
   "source": [
    "## findall()"
   ]
  },
  {
   "cell_type": "code",
   "execution_count": 14,
   "metadata": {},
   "outputs": [
    {
     "data": {
      "text/plain": [
       "['I', 'I']"
      ]
     },
     "execution_count": 14,
     "metadata": {},
     "output_type": "execute_result"
    }
   ],
   "source": [
    "import re \n",
    "\n",
    "\n",
    "txt = \"I love I jerusalem\"\n",
    "\n",
    "x = re.findall(\"I\", txt)\n",
    "x"
   ]
  },
  {
   "attachments": {},
   "cell_type": "markdown",
   "metadata": {},
   "source": [
    "## search()"
   ]
  },
  {
   "cell_type": "code",
   "execution_count": 10,
   "metadata": {},
   "outputs": [
    {
     "name": "stdout",
     "output_type": "stream",
     "text": [
      "span: (2, 3)\n",
      "start: 2\n",
      "end: 3\n",
      "string: I love jerusalem\n",
      "group: l\n",
      "<re.Match object; span=(2, 3), match='l'>\n"
     ]
    }
   ],
   "source": [
    "\n",
    "\n",
    "txt = \"I love jerusalem\"\n",
    "\n",
    "x = re.search(\"l\", txt)\n",
    "\n",
    "print('span:',x.span())\n",
    "print('start:',x.start())\n",
    "print('end:',x.end())\n",
    "print('string:',x.string)\n",
    "print('group:',x.group())\n",
    "print(x)"
   ]
  },
  {
   "attachments": {},
   "cell_type": "markdown",
   "metadata": {},
   "source": [
    "## split()"
   ]
  },
  {
   "cell_type": "code",
   "execution_count": 19,
   "metadata": {},
   "outputs": [
    {
     "data": {
      "text/plain": [
       "['', 'n god we trust']"
      ]
     },
     "execution_count": 19,
     "metadata": {},
     "output_type": "execute_result"
    }
   ],
   "source": [
    "txt = \"In god we trust\"\n",
    "x = re.split(\"I\", txt ,1)\n",
    "x"
   ]
  },
  {
   "attachments": {},
   "cell_type": "markdown",
   "metadata": {},
   "source": [
    "## sub()"
   ]
  },
  {
   "cell_type": "code",
   "execution_count": 20,
   "metadata": {},
   "outputs": [
    {
     "data": {
      "text/plain": [
       "'M9ke 9merica great again'"
      ]
     },
     "execution_count": 20,
     "metadata": {},
     "output_type": "execute_result"
    }
   ],
   "source": [
    "txt = 'Make america great again'\n",
    "\n",
    "x = re.sub('a','9',txt ,2)\n",
    "x"
   ]
  },
  {
   "attachments": {},
   "cell_type": "markdown",
   "metadata": {},
   "source": [
    "## subn()"
   ]
  },
  {
   "cell_type": "code",
   "execution_count": 139,
   "metadata": {},
   "outputs": [
    {
     "data": {
      "text/plain": [
       "('Make9america9great again', 2)"
      ]
     },
     "execution_count": 139,
     "metadata": {},
     "output_type": "execute_result"
    }
   ],
   "source": [
    "txt = 'Make america great again'\n",
    "\n",
    "x = re.subn('\\s','9',txt ,2)\n",
    "x"
   ]
  },
  {
   "attachments": {},
   "cell_type": "markdown",
   "metadata": {},
   "source": [
    "# Metacharacters\n",
    "* Metacharacters are characters with a special meaning:"
   ]
  },
  {
   "attachments": {},
   "cell_type": "markdown",
   "metadata": {},
   "source": [
    "- `.` Any character (except newline character)\n",
    "- `^`       Starts with\n",
    "- `$` Ends with\n",
    "- `*` \tZero or more occurrences\n",
    "- `+` \tOne or more occurrences\n",
    "- `?` \tZero or one occurrences\n",
    "- `{}` Exactly the specified number of occurrences\n",
    "- `|` \tEither or"
   ]
  },
  {
   "attachments": {},
   "cell_type": "markdown",
   "metadata": {},
   "source": [
    "# Example"
   ]
  },
  {
   "cell_type": "code",
   "execution_count": 140,
   "metadata": {},
   "outputs": [
    {
     "data": {
      "text/plain": [
       "['world']"
      ]
     },
     "execution_count": 140,
     "metadata": {},
     "output_type": "execute_result"
    }
   ],
   "source": [
    "txt = \"hello world\"\n",
    "\n",
    "x = re.findall(\"world$\", txt)\n",
    "x"
   ]
  },
  {
   "cell_type": "code",
   "execution_count": 141,
   "metadata": {},
   "outputs": [
    {
     "data": {
      "text/plain": [
       "[]"
      ]
     },
     "execution_count": 141,
     "metadata": {},
     "output_type": "execute_result"
    }
   ],
   "source": [
    "txt = \"hello world\"\n",
    "\n",
    "x = re.findall(\"^world\", txt)\n",
    "x"
   ]
  },
  {
   "cell_type": "code",
   "execution_count": 25,
   "metadata": {},
   "outputs": [
    {
     "data": {
      "text/plain": [
       "['hello wo']"
      ]
     },
     "execution_count": 25,
     "metadata": {},
     "output_type": "execute_result"
    }
   ],
   "source": [
    "txt = \"hello world\"\n",
    "\n",
    "x = re.findall(\"he.{5}o\", txt)\n",
    "x"
   ]
  },
  {
   "cell_type": "code",
   "execution_count": 26,
   "metadata": {},
   "outputs": [
    {
     "data": {
      "text/plain": [
       "['hello wo']"
      ]
     },
     "execution_count": 26,
     "metadata": {},
     "output_type": "execute_result"
    }
   ],
   "source": [
    "txt = \"hello world\"\n",
    "\n",
    "x = re.findall(\"he.*o\", txt)\n",
    "x"
   ]
  },
  {
   "cell_type": "code",
   "execution_count": 27,
   "metadata": {},
   "outputs": [
    {
     "data": {
      "text/plain": [
       "['hello wo']"
      ]
     },
     "execution_count": 27,
     "metadata": {},
     "output_type": "execute_result"
    }
   ],
   "source": [
    "txt = \"hello world\"\n",
    "\n",
    "x = re.findall(\"he.*o\", txt)\n",
    "x"
   ]
  },
  {
   "cell_type": "code",
   "execution_count": 28,
   "metadata": {},
   "outputs": [
    {
     "data": {
      "text/plain": [
       "['hello wo']"
      ]
     },
     "execution_count": 28,
     "metadata": {},
     "output_type": "execute_result"
    }
   ],
   "source": [
    "txt = \"hello world\"\n",
    "\n",
    "x = re.findall(\"he.+o\", txt)\n",
    "x"
   ]
  },
  {
   "cell_type": "code",
   "execution_count": 33,
   "metadata": {},
   "outputs": [
    {
     "data": {
      "text/plain": [
       "[]"
      ]
     },
     "execution_count": 33,
     "metadata": {},
     "output_type": "execute_result"
    }
   ],
   "source": [
    "txt = \"hello world\"\n",
    "\n",
    "x = re.findall(\"he..?o\", txt)\n",
    "x"
   ]
  },
  {
   "attachments": {},
   "cell_type": "markdown",
   "metadata": {},
   "source": [
    "# Special Sequences\n",
    "- A special sequence is a \\ followed by one of the characters in the list below, and has a special meaning:\n",
    "\n"
   ]
  },
  {
   "attachments": {},
   "cell_type": "markdown",
   "metadata": {},
   "source": [
    "- `\\A` Returns a match if the specified characters are at the `beginning` of the string\n",
    "- `\\Z` If at the `end` of the string <br></br>\n",
    "- `\\b` If the word `start` or `end` with\n",
    "- `\\B` If the word not `start` or `end` with<br></br>\n",
    "- `\\d` If it contain `digit` \n",
    "- `\\D` If it `not` contain `digit`<br></br>\n",
    "- `\\s` If it contain a `white space`\n",
    "- `\\S` If it `not` contain a `white space`<br></br>\n",
    "- `\\w` If the string contain characters from a-Z or 0-9 or _\n",
    "- `\\W` If the string `does not` contain characters from a-Z or 0-9 or _\n"
   ]
  },
  {
   "cell_type": "code",
   "execution_count": 4,
   "metadata": {},
   "outputs": [
    {
     "data": {
      "text/plain": [
       "['soccer']"
      ]
     },
     "execution_count": 4,
     "metadata": {},
     "output_type": "execute_result"
    }
   ],
   "source": [
    "txt = \"I like to play soccer\"\n",
    "\n",
    "x = re.findall(\"soccer\\Z\", txt)\n",
    "x"
   ]
  },
  {
   "cell_type": "code",
   "execution_count": 3,
   "metadata": {},
   "outputs": [
    {
     "data": {
      "text/plain": [
       "[]"
      ]
     },
     "execution_count": 3,
     "metadata": {},
     "output_type": "execute_result"
    }
   ],
   "source": [
    "txt = \"I like to play so ccer\"\n",
    "\n",
    "x = re.findall(r\"lay\\b\", txt)\n",
    "x"
   ]
  },
  {
   "cell_type": "code",
   "execution_count": 63,
   "metadata": {},
   "outputs": [
    {
     "data": {
      "text/plain": [
       "['2', '22']"
      ]
     },
     "execution_count": 63,
     "metadata": {},
     "output_type": "execute_result"
    }
   ],
   "source": [
    "txt = \"I like to play soccer 2 22\"\n",
    "\n",
    "x = re.findall(\"\\d+\", txt)\n",
    "x"
   ]
  },
  {
   "attachments": {},
   "cell_type": "markdown",
   "metadata": {},
   "source": [
    "# Sets\n",
    "* A set is a set of characters inside a pair of square brackets [] with a special meaning:"
   ]
  },
  {
   "attachments": {},
   "cell_type": "markdown",
   "metadata": {},
   "source": [
    "- `[a-z]` \tReturns a match for any lower case character, alphabetically between a and n\n",
    "- `[^b-m]` Returns a match for any character `EXCEPT` character between d and m\n",
    "- `[0-9]` Matching by number\n",
    "- `[0-2][0-8]` Returns a match for any two-digit numbers from 00 and 28\n",
    "- `[a-zA-Z]`\tReturns a match for any character alphabetically between a and z, lower case OR upper case"
   ]
  },
  {
   "attachments": {},
   "cell_type": "markdown",
   "metadata": {},
   "source": [
    "### Examples"
   ]
  },
  {
   "cell_type": "code",
   "execution_count": 67,
   "metadata": {},
   "outputs": [
    {
     "data": {
      "text/plain": [
       "['a', 'p', 'a']"
      ]
     },
     "execution_count": 67,
     "metadata": {},
     "output_type": "execute_result"
    }
   ],
   "source": [
    "txt = \"Today i got up at 07:23 \"\n",
    "x = re.findall(\"[apk]\", txt)\n",
    "x"
   ]
  },
  {
   "cell_type": "code",
   "execution_count": 69,
   "metadata": {},
   "outputs": [
    {
     "data": {
      "text/plain": [
       "['T',\n",
       " 'o',\n",
       " 'd',\n",
       " 'y',\n",
       " ' ',\n",
       " 'i',\n",
       " ' ',\n",
       " 'g',\n",
       " 'o',\n",
       " 't',\n",
       " ' ',\n",
       " 'u',\n",
       " ' ',\n",
       " 't',\n",
       " ' ',\n",
       " '0',\n",
       " '7',\n",
       " ':',\n",
       " '2',\n",
       " '3',\n",
       " ' ']"
      ]
     },
     "execution_count": 69,
     "metadata": {},
     "output_type": "execute_result"
    }
   ],
   "source": [
    "txt = \"Today i got up at 07:23 \"\n",
    "x = re.findall(\"[^apk]\", txt)\n",
    "x"
   ]
  },
  {
   "cell_type": "code",
   "execution_count": 86,
   "metadata": {},
   "outputs": [
    {
     "data": {
      "text/plain": [
       "['07', '23']"
      ]
     },
     "execution_count": 86,
     "metadata": {},
     "output_type": "execute_result"
    }
   ],
   "source": [
    "txt = \"Today i got up at 07:23 \"\n",
    "x = re.findall(\"[0-2][0-8]\", txt)\n",
    "x"
   ]
  },
  {
   "cell_type": "code",
   "execution_count": 91,
   "metadata": {},
   "outputs": [
    {
     "data": {
      "text/plain": [
       "['0', '2']"
      ]
     },
     "execution_count": 91,
     "metadata": {},
     "output_type": "execute_result"
    }
   ],
   "source": [
    "txt = \"Today i got up at 0 7:  23 \"\n",
    "x = re.findall(\"[0-28]\", txt)\n",
    "x"
   ]
  },
  {
   "cell_type": "code",
   "execution_count": 76,
   "metadata": {},
   "outputs": [
    {
     "data": {
      "text/plain": [
       "['T', 'o', 'd', 'a', 'y', 'I', 'g', 'o', 't', 'u', 'p', 'a', 't']"
      ]
     },
     "execution_count": 76,
     "metadata": {},
     "output_type": "execute_result"
    }
   ],
   "source": [
    "txt = \"Today I got up at 07:23 \"\n",
    "x = re.findall(\"[a-zA-Z]\", txt)\n",
    "x"
   ]
  },
  {
   "attachments": {},
   "cell_type": "markdown",
   "metadata": {},
   "source": [
    "# `r` prefix \n",
    "* When `r` or `R` is used before a regular expression , its mean row string\n",
    "* For example, `'\\n'` is a new line whereas `r'\\n'` means two characters: a backslash `\\` followed by `n`.\n",
    "\n",
    "  "
   ]
  },
  {
   "cell_type": "code",
   "execution_count": 94,
   "metadata": {},
   "outputs": [
    {
     "data": {
      "text/plain": [
       "[' ', ' ', ' ', ' ']"
      ]
     },
     "execution_count": 94,
     "metadata": {},
     "output_type": "execute_result"
    }
   ],
   "source": [
    "\n",
    "txt = ' and are escape sequences.'\n",
    "\n",
    "result = re.findall(r'[\\s\\r]', txt) \n",
    "result\n"
   ]
  },
  {
   "attachments": {},
   "cell_type": "markdown",
   "metadata": {},
   "source": [
    "# re.error()\n",
    "* `re.error(msg,pattern=None,pos=None)`  Use to pass customized error msg when any issue occurs during compilation"
   ]
  },
  {
   "cell_type": "code",
   "execution_count": 113,
   "metadata": {},
   "outputs": [
    {
     "name": "stdout",
     "output_type": "stream",
     "text": [
      "Invalid Regular Expression : unterminated character set. Match operation failed.\n"
     ]
    }
   ],
   "source": [
    "try:\n",
    "    re.match('[+*','template matching')\n",
    "except re.error as err:\n",
    "    print(f'Invalid Regular Expression : {err.msg}. Match operation failed.')"
   ]
  }
 ],
 "metadata": {
  "kernelspec": {
   "display_name": "Python 3",
   "language": "python",
   "name": "python3"
  },
  "language_info": {
   "codemirror_mode": {
    "name": "ipython",
    "version": 3
   },
   "file_extension": ".py",
   "mimetype": "text/x-python",
   "name": "python",
   "nbconvert_exporter": "python",
   "pygments_lexer": "ipython3",
   "version": "3.10.6"
  },
  "orig_nbformat": 4,
  "vscode": {
   "interpreter": {
    "hash": "97cc609b13305c559618ec78a438abc56230b9381f827f22d070313b9a1f3777"
   }
  }
 },
 "nbformat": 4,
 "nbformat_minor": 2
}
