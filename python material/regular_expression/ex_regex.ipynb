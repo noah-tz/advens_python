{
 "cells": [
  {
   "cell_type": "code",
   "execution_count": 1,
   "id": "7712dc04",
   "metadata": {},
   "outputs": [],
   "source": [
    "import re"
   ]
  },
  {
   "cell_type": "markdown",
   "id": "e8fdb8f0",
   "metadata": {},
   "source": [
    "# exercise 1"
   ]
  },
  {
   "cell_type": "markdown",
   "id": "f1edc039",
   "metadata": {},
   "source": [
    "Write a Python function that detects words beginning with a single capital letter followed by lowercase letters."
   ]
  },
  {
   "cell_type": "code",
   "execution_count": 2,
   "id": "a43f4b6d",
   "metadata": {},
   "outputs": [
    {
     "data": {
      "text/plain": [
       "['Mary', 'History', 'Art', 'She', 'Saw', 'Playing', 'Ball']"
      ]
     },
     "execution_count": 2,
     "metadata": {},
     "output_type": "execute_result"
    }
   ],
   "source": [
    "# input\n",
    "\"\"\"\n",
    "Mary was studying the History of Art when she suddenly heard a loud noise \n",
    "that frightened her. \n",
    "She looked outside the window and Saw a group of chilDren Playing with a Ball.\n",
    "\"\"\"\n",
    "# output\n",
    "# [\"History\", \"Art\", \"Mary\", \"She\", \"Saw\", \"Playing\", \"Ball\"];\n",
    "import re\n",
    "\n",
    "string_ex1 = \"Mary was studying the History of Art when she suddenly heard a loud noise that frightened her. She looked outside the window and Saw a group of chilDren Playing with a Ball.\"\n",
    "\n",
    "def ex1(string):\n",
    "    return re.findall(r\"\\b[A-Z][a-z]+\", string)\n",
    "\n",
    "ex1(string_ex1)\n"
   ]
  },
  {
   "cell_type": "markdown",
   "id": "e91147e8",
   "metadata": {},
   "source": [
    "# exercise 2"
   ]
  },
  {
   "cell_type": "markdown",
   "id": "e15b77e4",
   "metadata": {},
   "source": [
    "Write a Python program that matches a string containing an 'a' followed by any character, and ends with the character 'b'."
   ]
  },
  {
   "cell_type": "code",
   "execution_count": 3,
   "id": "a75a85b4",
   "metadata": {},
   "outputs": [
    {
     "data": {
      "text/plain": [
       "[False, True, True, False]"
      ]
     },
     "execution_count": 3,
     "metadata": {},
     "output_type": "execute_result"
    }
   ],
   "source": [
    "# input\n",
    "strings_ex2 = [\"accddbbjjjbd\", 'jfcfaikjbb', 'aaannnb','jjjhhababn']\n",
    "# output\n",
    "# [False, True, True, False]\n",
    "\n",
    "def ex2(strings):\n",
    "    return [bool(re.search(r\"a*b$\", string)) for string in strings]\n",
    "\n",
    "ex2(strings_ex2)"
   ]
  },
  {
   "cell_type": "markdown",
   "id": "0fad5f40",
   "metadata": {},
   "source": [
    "# exercise 3"
   ]
  },
  {
   "cell_type": "markdown",
   "id": "9943aaaf",
   "metadata": {},
   "source": [
    "write a Python function that can identify and match words that contain the letters 'zf' but not at the beginning or end of the word"
   ]
  },
  {
   "cell_type": "code",
   "execution_count": 9,
   "id": "3de04bde",
   "metadata": {},
   "outputs": [
    {
     "data": {
      "text/plain": [
       "[True, False, False, False, True, True]"
      ]
     },
     "execution_count": 9,
     "metadata": {},
     "output_type": "execute_result"
    }
   ],
   "source": [
    "# input\n",
    "strings_ex3 = ['jkzfhhh', 'aappzvghfhh','zfhjh', 'dfzf', 'zfzfzf','aaazfddd']\n",
    "# output\n",
    "# [True, False, False, False, True, True]\n",
    "\n",
    "def ex3(strings):\n",
    "    return [bool(re.search(r\"\\Bzf\\B\", string)) for string in strings]\n",
    "\n",
    "ex3(strings_ex3)"
   ]
  },
  {
   "cell_type": "markdown",
   "id": "127e4f37",
   "metadata": {},
   "source": [
    "# exercise 4"
   ]
  },
  {
   "cell_type": "markdown",
   "id": "1d5d4580",
   "metadata": {},
   "source": [
    "Write a Python program that can remove leading zeros from an IP address."
   ]
  },
  {
   "cell_type": "code",
   "execution_count": 10,
   "id": "5202b71d",
   "metadata": {},
   "outputs": [
    {
     "data": {
      "text/plain": [
       "['216.8.94.196', '3.10.200.1', '10.20.30.40', '1.2.3.4']"
      ]
     },
     "execution_count": 10,
     "metadata": {},
     "output_type": "execute_result"
    }
   ],
   "source": [
    "# input\n",
    "ips = ['216.08.094.196', '003.010.200.001', '010.020.030.040', '001.002.003.004']\n",
    "\n",
    "# output\n",
    "# ['216.8.94.196', '3.10.200.1', '10.20.30.40', '1.2.3.4']\n",
    "\n",
    "def ex3(ips):\n",
    "    # x = re.sub('0', '', ips)\n",
    "    return [re.sub(r\"\\b0*\", \"\", ip) for ip in ips]\n",
    "\n",
    "ex3(ips)"
   ]
  },
  {
   "cell_type": "markdown",
   "id": "bfdaa571",
   "metadata": {},
   "source": [
    "# exercise 5"
   ]
  },
  {
   "cell_type": "markdown",
   "id": "4e086da2",
   "metadata": {},
   "source": [
    "## Extracting phone numbers from a string using regex in Python\n",
    "\n",
    "Write a Python program that extracts phone numbers from a given string using regular expressions. The phone numbers should be exactly 10 digits long and can have any format (e.g. 123-456-7890, (123) 456-7890, 1234567890).\n",
    "\n",
    "Your program should take a string as input, and output a list of all valid phone numbers found in the string. If no valid phone numbers are found, your program should output an empty list.\n",
    "\n",
    "Appendix:\n",
    "\n",
    "A phone number is considered valid if it has exactly 10 digits.\n",
    "Phone numbers can have any format, including hyphens, spaces, or parentheses."
   ]
  },
  {
   "cell_type": "code",
   "execution_count": 23,
   "id": "b3b023a4",
   "metadata": {},
   "outputs": [],
   "source": [
    "# input\n",
    "'Call me at 555-1234, or at (555) 555-6789 after 5 PM. My number is 1234567890.'\n",
    "# output\n",
    "[5551234567,\n",
    " 5555556789,\n",
    " 1234567890\n",
    "]\n",
    "\n",
    "# input\n",
    "\"My number is 123456789, and I'm available after 5 PM. You can reach me at (555) 123-4567.\"\n",
    "# output\n",
    "[5551234567]\n",
    "\n",
    "# input \n",
    "\"My phone number is 123-4567-890. Please call me at 555-123   4567 instead.\"\n",
    "# output\n",
    "[1234567890]\n",
    "\n",
    "# input \n",
    "\"My phone number is 123-4567-890. Please call me at 555-123   4567 instead.\"\n",
    "# output\n",
    "[1234567890];"
   ]
  },
  {
   "cell_type": "markdown",
   "id": "cb7bbc59",
   "metadata": {},
   "source": [
    "# exercise 6"
   ]
  },
  {
   "cell_type": "markdown",
   "id": "e127fdf9",
   "metadata": {},
   "source": [
    "Write a Python program that uses regular expressions to match valid email addresses in a given text.\n",
    "\n",
    "Your program should take a string as input, and output a list of all valid email addresses found in the string. A valid email address consists of an optional username, followed by the '@' symbol, followed by a domain name that consists of one or more parts separated by periods, and ends with a top-level domain name (e.g. .com, .org, .edu).\n",
    "\n",
    "Here are some additional guidelines for the email addresses you should consider valid:\n",
    "\n",
    "The username can contain letters, digits, periods, underscores, and hyphens.\n",
    "<br>The domain name can contain letters, digits, hyphens, and periods.\n",
    "<br>The top-level domain name can only contain letters, and must be between 2 and 6 characters long."
   ]
  },
  {
   "cell_type": "code",
   "execution_count": null,
   "id": "0fa47f2c",
   "metadata": {},
   "outputs": [],
   "source": [
    "[ 'john.doe@example.com',   \n",
    " 'jane_doe123@yahoo.co.uk',   \n",
    " 'jimmy-johns@gmail.com',   \n",
    " 'joe.smith@',   \n",
    " 'invalid_email.com',   \n",
    " 'jane!doe@gmail.com',   \n",
    " 'john..doe@gmail.com',   \n",
    " 'johndoe@.com',   \n",
    " 'johndoe@google.',   \n",
    " 'sally_sue@school.edu',   \n",
    " 'jo_hn.doe@example_re.com', \n",
    " 'jimmy@johns@gmail.com',   \n",
    " 'jane.doe@com',   \n",
    " 'bob@gmail.c',   \n",
    " 'mary@@example.com']\n",
    "\n",
    "# output\n",
    "{\n",
    "  'john.doe@example.com': True,   # valid\n",
    "  'jane_doe123@yahoo.co.uk': True,   # valid\n",
    "  'jimmy-johns@gmail.com': True,   # valid\n",
    "  'joe.smith@': False,  # missing domain name\n",
    "  'invalid_email.com': False,  # missing '@' symbol\n",
    "  'jane!doe@gmail.com': False,  # illegal character '!'\n",
    "  'john..doe@gmail.com': False,  # consecutive periods\n",
    "  'johndoe@.com': False,  # missing domain name before period\n",
    "  'johndoe@google.': False,  # missing top-level domain name\n",
    "  'sally_sue@school.edu': True,   # valid\n",
    "  'jo_hn.doe@example_re.com': False,  # contains underscore in domain name\n",
    "  'jimmy@johns@gmail.com': False,  # contains '@' symbol in domain name\n",
    "  'jane.doe@com': False,  # missing domain name after period\n",
    "  'bob@gmail.c': False,  # missing top-level domain name\n",
    "  'mary@@example.com': False   # contains consecutive '@' symbols\n",
    "}\n",
    "\n"
   ]
  },
  {
   "cell_type": "markdown",
   "id": "68efc857",
   "metadata": {},
   "source": [
    "# exercise 7"
   ]
  },
  {
   "cell_type": "markdown",
   "id": "76ce6d63",
   "metadata": {},
   "source": [
    "Write a Python program to extract all text from an HTML document using regular expressions."
   ]
  },
  {
   "cell_type": "code",
   "execution_count": 23,
   "id": "38b56b00",
   "metadata": {},
   "outputs": [
    {
     "name": "stdout",
     "output_type": "stream",
     "text": [
      "\n",
      "\n",
      "\n",
      "\n",
      "\tSample HTML Document\n",
      "\n",
      "\n",
      "\tWelcome to my Website\n",
      "\tThis is a sample HTML document. It contains some bold text and some italicized text.\n",
      "\tHere is a link to Google.\n",
      "\tHere is an unordered list:\n",
      "\t\n",
      "\t\tList item 1\n",
      "\t\tList item 2\n",
      "\t\tList item 3\n",
      "\t\n",
      "\n",
      "\n",
      "\n"
     ]
    }
   ],
   "source": [
    "# input\n",
    "string_ex7 = \"\"\"\n",
    "<!DOCTYPE html>\n",
    "<html>\n",
    "<head>\n",
    "\t<title>Sample HTML Document</title>\n",
    "</head>\n",
    "<body>\n",
    "\t<h1>Welcome to my Website</h1>\n",
    "\t<p>This is a sample HTML document. It contains some <strong>bold text</strong> and some <em>italicized text</em>.</p>\n",
    "\t<p>Here is a <a href=\"http://www.google.com\">link to Google</a>.</p>\n",
    "\t<p>Here is an unordered list:</p>\n",
    "\t<ul>\n",
    "\t\t<li>List item 1</li>\n",
    "\t\t<li>List item 2</li>\n",
    "\t\t<li>List item 3</li>\n",
    "\t</ul>\n",
    "</body>\n",
    "</html>\n",
    "\"\"\"\n",
    "# output\n",
    "\"\"\"\n",
    "Welcome to my Website\n",
    "This is a sample HTML document. It contains some bold text and some italicized text.\n",
    "Here is a link to Google.\n",
    "Here is an unordered list:\n",
    "List item 1\n",
    "List item 2\n",
    "List item 3\n",
    "\"\"\"\n",
    "def ex7(string):\n",
    "    return re.sub(r\"<[^<>]*>\", \"\", string)\n",
    "print(ex7(string_ex7))"
   ]
  },
  {
   "cell_type": "code",
   "execution_count": null,
   "id": "da25d912",
   "metadata": {},
   "outputs": [],
   "source": []
  },
  {
   "cell_type": "code",
   "execution_count": null,
   "id": "116ca240",
   "metadata": {},
   "outputs": [],
   "source": []
  }
 ],
 "metadata": {
  "kernelspec": {
   "display_name": "Python 3",
   "language": "python",
   "name": "python3"
  },
  "language_info": {
   "codemirror_mode": {
    "name": "ipython",
    "version": 3
   },
   "file_extension": ".py",
   "mimetype": "text/x-python",
   "name": "python",
   "nbconvert_exporter": "python",
   "pygments_lexer": "ipython3",
   "version": "3.11.2"
  },
  "vscode": {
   "interpreter": {
    "hash": "ead1b95f633dc9c51826328e1846203f51a198c6fb5f2884a80417ba131d4e82"
   }
  }
 },
 "nbformat": 4,
 "nbformat_minor": 5
}
