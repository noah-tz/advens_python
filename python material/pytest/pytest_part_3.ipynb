{
 "cells": [
  {
   "attachments": {},
   "cell_type": "markdown",
   "metadata": {},
   "source": [
    "# Parametrization: Combining Tests\n",
    "---\n",
    "- Makes the tests more readable.\n",
    "- Check once for number of inputs.\n",
    "- Saves on hard coding.\n",
    "\n",
    "# Example:"
   ]
  },
  {
   "cell_type": "code",
   "execution_count": null,
   "metadata": {},
   "outputs": [],
   "source": [
    "%%file is_pal.py\n",
    "\n",
    "def is_palindrome(word: str) -> bool:\n",
    "    return word.lower().replace(\" \", \"\") == word[::-1].lower().replace(\" \", \"\")"
   ]
  },
  {
   "cell_type": "code",
   "execution_count": null,
   "metadata": {},
   "outputs": [],
   "source": [
    "%%file test_palindrome.py\n",
    "\n",
    "import is_pal\n",
    "\n",
    "def test_is_palindrome_empty_string():\n",
    "    assert is_pal.is_palindrome(\"\")\n",
    "\n",
    "def test_is_palindrome_single_character():\n",
    "    assert is_pal.is_palindrome(\"a\")\n",
    "\n",
    "def test_is_palindrome_mixed_casing():\n",
    "    assert is_pal.is_palindrome(\"Bob\")\n",
    "\n",
    "def test_is_palindrome_with_spaces():\n",
    "    assert is_pal.is_palindrome(\"Never odd or even\")\n",
    "\n",
    "def test_is_palindrome_not_palindrome():\n",
    "    assert not is_pal.is_palindrome(\"abc\")\n",
    "\n",
    "def test_is_palindrome_not_quite():\n",
    "    assert not is_pal.is_palindrome(\"abab\")"
   ]
  },
  {
   "cell_type": "code",
   "execution_count": 25,
   "metadata": {},
   "outputs": [
    {
     "name": "stdout",
     "output_type": "stream",
     "text": [
      "1214.90s - pydevd: Sending message related to process being replaced timed-out after 5 seconds\n",
      "\u001b[1m============================= test session starts ==============================\u001b[0m\n",
      "platform linux -- Python 3.10.6, pytest-7.1.2, pluggy-1.0.0\n",
      "rootdir: /home/mefathim/Documents/cpp/m05.menachembe/python advance\n",
      "plugins: asyncio-0.19.0\n",
      "asyncio: mode=strict\n",
      "collected 6 items                                                              \u001b[0m\n",
      "\n",
      "test_palindrome.py \u001b[32m.\u001b[0m\u001b[32m.\u001b[0m\u001b[32m.\u001b[0m\u001b[32m.\u001b[0m\u001b[32m.\u001b[0m\u001b[32m.\u001b[0m\u001b[32m                                                [100%]\u001b[0m\n",
      "\n",
      "\u001b[32m============================== \u001b[32m\u001b[1m6 passed\u001b[0m\u001b[32m in 0.07s\u001b[0m\u001b[32m ===============================\u001b[0m\n"
     ]
    }
   ],
   "source": [
    "!python3 -m pytest test_palindrome.py"
   ]
  },
  {
   "attachments": {},
   "cell_type": "markdown",
   "metadata": {},
   "source": [
    "We have six different functions for testing one function!\\\n",
    "We can save this by using the mark.parameterize decorator."
   ]
  },
  {
   "cell_type": "code",
   "execution_count": null,
   "metadata": {},
   "outputs": [],
   "source": [
    "%%file test_palindrome_with_parametrize.py\n",
    "\n",
    "import is_pal\n",
    "\n",
    "import pytest\n",
    "\n",
    "@pytest.mark.parametrize(\"palindrome\", [\n",
    "    \"\",\n",
    "    \"a\",\n",
    "    \"Bob\",\n",
    "    \"Never odd or even\",\n",
    "])\n",
    "def test_is_palindrome(palindrome):\n",
    "    assert is_pal.is_palindrome(palindrome)\n",
    "\n",
    "@pytest.mark.parametrize(\"non_palindrome\", [\n",
    "    \"abc\",\n",
    "    \"abab\",\n",
    "])\n",
    "def test_is_palindrome_not_palindrome(non_palindrome):\n",
    "    assert not is_pal.is_palindrome(non_palindrome)"
   ]
  },
  {
   "cell_type": "code",
   "execution_count": 29,
   "metadata": {},
   "outputs": [
    {
     "name": "stdout",
     "output_type": "stream",
     "text": [
      "1805.90s - pydevd: Sending message related to process being replaced timed-out after 5 seconds\n",
      "\u001b[1m============================= test session starts ==============================\u001b[0m\n",
      "platform linux -- Python 3.10.6, pytest-7.1.2, pluggy-1.0.0\n",
      "rootdir: /home/mefathim/Documents/cpp/m05.menachembe/python advance\n",
      "plugins: asyncio-0.19.0\n",
      "asyncio: mode=strict\n",
      "collected 6 items                                                              \u001b[0m\n",
      "\n",
      "test_palindrome_with_parametrize.py \u001b[32m.\u001b[0m\u001b[32m.\u001b[0m\u001b[32m.\u001b[0m\u001b[32m.\u001b[0m\u001b[32m.\u001b[0m\u001b[32m.\u001b[0m\u001b[32m                               [100%]\u001b[0m\n",
      "\n",
      "\u001b[32m============================== \u001b[32m\u001b[1m6 passed\u001b[0m\u001b[32m in 0.06s\u001b[0m\u001b[32m ===============================\u001b[0m\n"
     ]
    }
   ],
   "source": [
    "!python3 -m pytest test_palindrome_with_parametrize.py"
   ]
  },
  {
   "attachments": {},
   "cell_type": "markdown",
   "metadata": {},
   "source": [
    "**The first argument:**\\\n",
    "    A comma-delimited string of parameter names.\n",
    "\n",
    "**The second argument:**\\\n",
    "    A list of either tuples or single values that represent the parameter value(s).\n",
    "\n",
    "*Let's take it a step further with more than one parameter, and a corresponding list.*"
   ]
  },
  {
   "cell_type": "code",
   "execution_count": null,
   "metadata": {},
   "outputs": [],
   "source": [
    "%%file advanced_test_palindrome_with_parametrize.py\n",
    "\n",
    "import pytest\n",
    "import is_pal\n",
    "\n",
    "@pytest.mark.parametrize(\"maybe_palindrome, expected_result\", [\n",
    "    (\"\", True),\n",
    "    (\"a\", True),\n",
    "    (\"Bob\", True),\n",
    "    (\"Never odd or even\", True),\n",
    "    (\"abc\", False),\n",
    "    (\"abab\", False),\n",
    "])\n",
    "def test_is_palindrome(maybe_palindrome, expected_result):\n",
    "    assert is_pal.is_palindrome(maybe_palindrome) == expected_result"
   ]
  },
  {
   "cell_type": "code",
   "execution_count": 32,
   "metadata": {},
   "outputs": [
    {
     "name": "stdout",
     "output_type": "stream",
     "text": [
      "2497.04s - pydevd: Sending message related to process being replaced timed-out after 5 seconds\n",
      "\u001b[1m============================= test session starts ==============================\u001b[0m\n",
      "platform linux -- Python 3.10.6, pytest-7.1.2, pluggy-1.0.0\n",
      "rootdir: /home/mefathim/Documents/cpp/m05.menachembe/python advance\n",
      "plugins: asyncio-0.19.0\n",
      "asyncio: mode=strict\n",
      "collected 6 items                                                              \u001b[0m\n",
      "\n",
      "advanced_test_palindrome_with_parametrize.py \u001b[32m.\u001b[0m\u001b[32m.\u001b[0m\u001b[32m.\u001b[0m\u001b[32m.\u001b[0m\u001b[32m.\u001b[0m\u001b[32m.\u001b[0m\u001b[32m                      [100%]\u001b[0m\n",
      "\n",
      "\u001b[32m============================== \u001b[32m\u001b[1m6 passed\u001b[0m\u001b[32m in 0.07s\u001b[0m\u001b[32m ===============================\u001b[0m\n"
     ]
    }
   ],
   "source": [
    "!python3 -m pytest advanced_test_palindrome_with_parametrize.py"
   ]
  },
  {
   "attachments": {},
   "cell_type": "markdown",
   "metadata": {},
   "source": [
    "# Note!\n",
    "Make sure you’re not parametrizing your test suite into incomprehensibility.\n",
    "\n",
    "\n",
    "I.e.:\\\n",
    "    Don't use it for data tests and exceptions tests together, for example.\n",
    "\n",
    "---"
   ]
  },
  {
   "attachments": {},
   "cell_type": "markdown",
   "metadata": {},
   "source": [
    "# Durations Reports: Fighting Slow Tests\n",
    "Detect the n slowest tests, to know who is a good candidate to improve it.\n",
    "\n",
    "---\n",
    "\n",
    "# Example:"
   ]
  },
  {
   "cell_type": "code",
   "execution_count": null,
   "metadata": {},
   "outputs": [],
   "source": [
    "%%file test_slow_test.py\n",
    "\n",
    "import requests\n",
    "\n",
    "def test_talk_to_network():\n",
    "    assert requests.get('https://www.wikipedia.org').status_code == 200\n",
    "\n",
    "def test_for_loop():\n",
    "    for i in range(10):\n",
    "        assert i == i"
   ]
  },
  {
   "cell_type": "code",
   "execution_count": 1,
   "metadata": {},
   "outputs": [
    {
     "name": "stdout",
     "output_type": "stream",
     "text": [
      "\u001b[1m============================= test session starts ==============================\u001b[0m\n",
      "platform linux -- Python 3.10.6, pytest-7.1.2, pluggy-1.0.0\n",
      "rootdir: /home/mefathim/Documents/cpp/m05.menachembe/python advance\n",
      "plugins: cov-4.0.0, asyncio-0.19.0, django-4.5.2, bdd-6.1.1\n",
      "asyncio: mode=strict\n",
      "collected 2 items                                                              \u001b[0m\n",
      "\n",
      "test_slow_test.py \u001b[32m.\u001b[0m\u001b[32m.\u001b[0m\u001b[32m                                                     [100%]\u001b[0m\n",
      "\n",
      "============================= slowest 1 durations ==============================\n",
      "0.66s call     test_slow_test.py::test_talk_to_network\n",
      "\u001b[32m============================== \u001b[32m\u001b[1m2 passed\u001b[0m\u001b[32m in 1.02s\u001b[0m\u001b[32m ===============================\u001b[0m\n"
     ]
    }
   ],
   "source": [
    "!python3 -m pytest --durations=1 test_slow_test.py"
   ]
  },
  {
   "attachments": {},
   "cell_type": "markdown",
   "metadata": {},
   "source": [
    "# Useful pytest Plugins\n",
    "|*Plugin Name*|*Description*|\n",
    "|-|-|\n",
    "|*pytest-randomly*|Forces your tests to run in a random order. A great way to uncover tests that depend on running in a specific order|\n",
    "|*pytest-cov*|To see the test coverage report and boast about it on your project front page. Get a report about your tests file|\n",
    "\n",
    "-> External libraries, use: pip install pytest-plugin_name"
   ]
  },
  {
   "attachments": {},
   "cell_type": "markdown",
   "metadata": {},
   "source": [
    "# -cov report example"
   ]
  },
  {
   "cell_type": "raw",
   "metadata": {},
   "source": [
    "pytest --cov-report term --cov=myproj tests/\n",
    "\n",
    "-------------------- coverage: platform linux2, python 2.6.4-final-0 ---------------------\n",
    "Name                 Stmts   Miss  Cover\n",
    "----------------------------------------\n",
    "myproj/__init__          2      0   100%\n",
    "myproj/myproj          257     13    94%\n",
    "myproj/feature4286      94      7    92%\n",
    "----------------------------------------\n",
    "TOTAL                  353     20    94%"
   ]
  }
 ],
 "metadata": {
  "kernelspec": {
   "display_name": "Python 3",
   "language": "python",
   "name": "python3"
  },
  "language_info": {
   "codemirror_mode": {
    "name": "ipython",
    "version": 3
   },
   "file_extension": ".py",
   "mimetype": "text/x-python",
   "name": "python",
   "nbconvert_exporter": "python",
   "pygments_lexer": "ipython3",
   "version": "3.11.1 (main, Jan 28 2023, 18:47:50) [GCC 11.3.0]"
  },
  "orig_nbformat": 4,
  "vscode": {
   "interpreter": {
    "hash": "ead1b95f633dc9c51826328e1846203f51a198c6fb5f2884a80417ba131d4e82"
   }
  }
 },
 "nbformat": 4,
 "nbformat_minor": 2
}
