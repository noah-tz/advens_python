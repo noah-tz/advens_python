{
 "cells": [
  {
   "attachments": {},
   "cell_type": "markdown",
   "metadata": {},
   "source": [
    "# os — Portable access to operating system specific features\n",
    "\n",
    "## Examining the File System Contents"
   ]
  },
  {
   "cell_type": "code",
   "execution_count": 1,
   "metadata": {},
   "outputs": [],
   "source": [
    "import os\n",
    "import sys"
   ]
  },
  {
   "cell_type": "code",
   "execution_count": 1,
   "metadata": {},
   "outputs": [],
   "source": [
    "\"\"\" chdir() to set working directory \"\"\"\n",
    "os.chdir(r\"c:\\Users\\Vadim\\Documents\\GitHub\\Python\\_Lessons_\\MEFATHIM\\Sylllabus-AdvancedPython\\week3\\exercises\")"
   ]
  },
  {
   "cell_type": "code",
   "execution_count": 3,
   "metadata": {},
   "outputs": [
    {
     "name": "stdout",
     "output_type": "stream",
     "text": [
      "Starting: c:\\Users\\Vadim\\Documents\\GitHub\\Python\\_Lessons_\\MEFATHIM\\Sylllabus-AdvancedPython\\week3\\exercises\n",
      "Moving up one: ..\n",
      "After move: c:\\Users\\Vadim\\Documents\\GitHub\\Python\\_Lessons_\\MEFATHIM\\Sylllabus-AdvancedPython\\week3\n"
     ]
    }
   ],
   "source": [
    "\"\"\"Managing the Process Working Directory\"\"\"\n",
    "\n",
    "# os.setwd(r'C:\\Users\\Vadim\\Documents\\GitHub\\Python\\_Lessons_\\MEFATHIM\\Sylllabus-AdvancedPython\\week3\\exercises')\n",
    "print('Starting:', os.getcwd())\n",
    "\n",
    "print('Moving up one:', os.pardir)\n",
    "os.chdir(os.pardir)\n",
    "\n",
    "print('After move:', os.getcwd())\n"
   ]
  },
  {
   "cell_type": "code",
   "execution_count": 4,
   "metadata": {},
   "outputs": [
    {
     "name": "stdout",
     "output_type": "stream",
     "text": [
      "['docs', 'exercises', 'week3_plan.odt']\n"
     ]
    }
   ],
   "source": [
    "\"\"\" To prepare a list of the contents of a directory on the file system, use listdir().\"\"\"\n",
    "\n",
    "root = r\"C:\\Users\\Vadim\\Documents\\GitHub\\Python\\_Lessons_\\MEFATHIM\\Sylllabus-AdvancedPython\\week3\"\n",
    "print(sorted(os.listdir(root)))"
   ]
  },
  {
   "cell_type": "code",
   "execution_count": 5,
   "metadata": {},
   "outputs": [
    {
     "name": "stdout",
     "output_type": "stream",
     "text": [
      "C:\\Users\\Vadim\\Documents\\GitHub\\Python\\_Lessons_\\MEFATHIM\\Sylllabus-AdvancedPython\\week3\n",
      "  docs/\n",
      "  exercises/\n",
      "  week3_plan.odt\n",
      "\n",
      "C:\\Users\\Vadim\\Documents\\GitHub\\Python\\_Lessons_\\MEFATHIM\\Sylllabus-AdvancedPython\\week3\\docs\n",
      "\n",
      "C:\\Users\\Vadim\\Documents\\GitHub\\Python\\_Lessons_\\MEFATHIM\\Sylllabus-AdvancedPython\\week3\\exercises\n",
      "  QUIZ_2.odt\n",
      "  QUIZ_2_Solution.ipynb\n",
      "  ex_class.ipynb\n",
      "  ex_csv.ipynb\n",
      "  ex_demo.txt\n",
      "  ex_dictionary.ipynb\n",
      "  ex_dunder_methods.ipynb\n",
      "  ex_functions.ipynb\n",
      "  ex_lambda.ipynb\n",
      "  ex_sets.ipynb\n",
      "  ex_strings.ipynb\n",
      "  ex_tuple.ipynb\n",
      "  sol_class.ipynb\n",
      "  sol_csv.ipynb\n",
      "  sol_dictionary.ipynb\n",
      "  sol_dunder_methods.ipynb\n",
      "  sol_functions.ipynb\n",
      "  sol_lambda.ipynb\n",
      "  sol_sets.ipynb\n",
      "  sol_strings.ipynb\n",
      "  sol_tuple.ipynb\n",
      "  stl_gc.ipynb\n",
      "  stl_os.ipynb\n",
      "  stl_platform.ipynb\n",
      "  stl_sys_memory.ipynb\n",
      "\n"
     ]
    }
   ],
   "source": [
    "\"\"\" The function walk() traverses a directory recursively and for each subdirectory generates a tuple containing the directory path, \n",
    "any immediate sub-directories of that path, and a list of the names of any files in that directory.\n",
    "os.curdir and os.pardir are used to refer to the current and parent directories in a portable manner.\n",
    "\"\"\"\n",
    "for dir_name, sub_dirs, files in os.walk(root):\n",
    "    print(dir_name)\n",
    "    # Make the subdirectory names stand out with /\n",
    "    sub_dirs = [f'{n}/' for n in sub_dirs]\n",
    "    # Mix the directory contents together\n",
    "    contents = sub_dirs + files\n",
    "    contents.sort()\n",
    "    # Show the contents\n",
    "    for c in contents:\n",
    "        print(f'  {c}')\n",
    "    # end for    \n",
    "    print()\n",
    "#end for\n"
   ]
  },
  {
   "cell_type": "code",
   "execution_count": 6,
   "metadata": {},
   "outputs": [
    {
     "name": "stdout",
     "output_type": "stream",
     "text": [
      "docs dir\n",
      "exercises dir\n",
      "week3_plan.odt file\n"
     ]
    }
   ],
   "source": [
    "\"\"\"If more information is needed than the names of the files, it is likely to be more efficient to use scandir() than listdir() \n",
    "because more information is collected in one system call when the directory is scanned.\"\"\"\n",
    "\n",
    "for entry in os.scandir(root):\n",
    "    if entry.is_dir():\n",
    "        typ = 'dir'\n",
    "    elif entry.is_file():\n",
    "        typ = 'file'\n",
    "    elif entry.is_symlink():\n",
    "        typ = 'link'\n",
    "    else:\n",
    "        typ = 'unknown'\n",
    "    print('{name} {typ}'.format(\n",
    "        name=entry.name,\n",
    "        typ=typ,\n",
    "    ))"
   ]
  },
  {
   "cell_type": "code",
   "execution_count": 7,
   "metadata": {},
   "outputs": [
    {
     "name": "stdout",
     "output_type": "stream",
     "text": [
      "os.stat(C:\\Users\\Vadim\\Documents\\GitHub\\Python\\_Lessons_\\MEFATHIM\\Sylllabus-AdvancedPython\\week3\\week3_plan.odt):\n",
      "  Size: 31593\n",
      "  Permissions: 0o100666\n",
      "  Owner: 0\n",
      "  Device: 857799\n",
      "  Created      : Thu Jan 19 12:35:11 2023\n",
      "  Last modified: Sun Jan 29 14:56:21 2023\n",
      "  Last accessed: Tue Jan 31 10:10:08 2023\n"
     ]
    }
   ],
   "source": [
    "\"\"\"Detailed information about a file can be accessed using stat() or lstat() (for checking the status of something that might be a symbolic link).\"\"\"\n",
    "\n",
    "\n",
    "import os\n",
    "import sys\n",
    "import time\n",
    "\n",
    "filename = f\"{root}\\\\week3_plan.odt\"\n",
    "stat_info = os.stat(filename)\n",
    "\n",
    "print(f'os.stat({filename}):')\n",
    "print('  Size:', stat_info.st_size)\n",
    "print('  Permissions:', oct(stat_info.st_mode))\n",
    "print('  Owner:', stat_info.st_uid)\n",
    "print('  Device:', stat_info.st_dev)\n",
    "print('  Created      :', time.ctime(stat_info.st_ctime))\n",
    "print('  Last modified:', time.ctime(stat_info.st_mtime))\n",
    "print('  Last accessed:', time.ctime(stat_info.st_atime))\n"
   ]
  },
  {
   "cell_type": "code",
   "execution_count": 8,
   "metadata": {},
   "outputs": [
    {
     "name": "stdout",
     "output_type": "stream",
     "text": [
      "C:\\Users\\Vadim\\Documents\\GitHub\\Python\\_Lessons_\\MEFATHIM\\Sylllabus-AdvancedPython\\week3\\week3_plan.odt\n"
     ]
    },
    {
     "data": {
      "text/plain": [
       "os.stat_result(st_mode=33206, st_ino=34058472182103595, st_dev=857799, st_nlink=1, st_uid=0, st_gid=0, st_size=31593, st_atime=1675152608, st_mtime=1674996981, st_ctime=1674124511)"
      ]
     },
     "execution_count": 8,
     "metadata": {},
     "output_type": "execute_result"
    }
   ],
   "source": [
    "filename = f\"{root}\\\\week3_plan.odt\"\n",
    "print(filename)\n",
    "os.stat(filename)"
   ]
  },
  {
   "cell_type": "code",
   "execution_count": 9,
   "metadata": {},
   "outputs": [
    {
     "name": "stdout",
     "output_type": "stream",
     "text": [
      "Testing: C:\\Users\\Vadim\\Documents\\GitHub\\Python\\_Lessons_\\MEFATHIM\\Sylllabus-AdvancedPython\\week3\\week3_plan.odt\n",
      "Exists: True\n",
      "Readable: True\n",
      "Writable: True\n",
      "Executable: True\n"
     ]
    }
   ],
   "source": [
    "\"\"\"The function access() can be used to test the access rights a process has for a file.\"\"\"\n",
    "\n",
    "print('Testing:', filename)\n",
    "print('Exists:', os.access(filename, os.F_OK))\n",
    "print('Readable:', os.access(filename, os.R_OK))\n",
    "print('Writable:', os.access(filename, os.W_OK))\n",
    "print('Executable:', os.access(filename, os.X_OK))"
   ]
  },
  {
   "cell_type": "code",
   "execution_count": 13,
   "metadata": {},
   "outputs": [
    {
     "name": "stdout",
     "output_type": "stream",
     "text": [
      "Starting:, ['rename_start.txt']\n",
      "Removing:, rename_finish.txt\n"
     ]
    }
   ],
   "source": [
    "\"\"\"Replacing or renaming an existing file is not idempotent and may expose applications to race conditions. \n",
    "The rename() and replace() functions implement safe algorithms for these actions, using atomic operations on POSIX-compliant systems when possible.\n",
    "\"\"\"\n",
    "import glob\n",
    "\n",
    "with open('rename_start.txt', 'w') as f:\n",
    "    f.write('starting as rename_start.txt')\n",
    "\n",
    "print(f\"Starting:, {glob.glob('rename*.txt')}\")\n",
    "\n",
    "os.rename('rename_start.txt', 'rename_finish.txt')\n",
    "\n",
    "for name in glob.glob('rename*.txt'):\n",
    "    os.unlink(name) # removing files\n",
    "    print(f'Removing:, {name}')"
   ]
  },
  {
   "cell_type": "code",
   "execution_count": 11,
   "metadata": {},
   "outputs": [
    {
     "data": {
      "text/plain": [
       "1"
      ]
     },
     "execution_count": 11,
     "metadata": {},
     "output_type": "execute_result"
    }
   ],
   "source": [
    "\"\"\"\"Running External Commands\"\"\"\n",
    "\n",
    "# Simple command\n",
    "os.system('pwd')\n"
   ]
  }
 ],
 "metadata": {
  "kernelspec": {
   "display_name": "Python 3",
   "language": "python",
   "name": "python3"
  },
  "language_info": {
   "codemirror_mode": {
    "name": "ipython",
    "version": 3
   },
   "file_extension": ".py",
   "mimetype": "text/x-python",
   "name": "python",
   "nbconvert_exporter": "python",
   "pygments_lexer": "ipython3",
   "version": "3.11.1"
  },
  "orig_nbformat": 4,
  "vscode": {
   "interpreter": {
    "hash": "5238573367df39f7286bb46f9ff5f08f63a01a80960060ce41e3c79b190280fa"
   }
  }
 },
 "nbformat": 4,
 "nbformat_minor": 2
}
