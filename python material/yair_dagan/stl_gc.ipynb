{
 "cells": [
  {
   "attachments": {},
   "cell_type": "markdown",
   "metadata": {},
   "source": [
    "# gc — Garbage Collector\n"
   ]
  },
  {
   "cell_type": "code",
   "execution_count": 16,
   "metadata": {},
   "outputs": [],
   "source": [
    "import gc\n"
   ]
  },
  {
   "attachments": {},
   "cell_type": "markdown",
   "metadata": {},
   "source": [
    "### Forcing Garbage Collection"
   ]
  },
  {
   "cell_type": "code",
   "execution_count": 19,
   "metadata": {},
   "outputs": [
    {
     "name": "stdout",
     "output_type": "stream",
     "text": [
      "Linking nodes Graph(one).next = Graph(two)\n",
      "Linking nodes Graph(two).next = Graph(three)\n",
      "Linking nodes Graph(three).next = Graph(one)\n",
      "\n",
      "Collecting 0 ...\n",
      "Unreachable objects: 11\n",
      "Remaining Garbage: []\n",
      "\n",
      "Collecting 1 ...\n",
      "Unreachable objects: 0\n",
      "Remaining Garbage: []\n"
     ]
    }
   ],
   "source": [
    "\"\"\"\n",
    "Although the garbage collector runs automatically as the interpreter executes a program, \n",
    "it can be triggered to run at a specific time when there are a lot of objects to free or \n",
    "there is not much work happening and the collector will not hurt application performance. \n",
    "Trigger collection using collect().\n",
    "\"\"\"\n",
    "\n",
    "class Graph:\n",
    "\n",
    "    def __init__(self, name):\n",
    "        self.name = name\n",
    "        self.next = None\n",
    "\n",
    "    def set_next(self, next):\n",
    "        print(f'Linking nodes {self}.next = {next}')\n",
    "        self.next = next\n",
    "\n",
    "    def __repr__(self):\n",
    "        return f'{self.__class__.__name__}({self.name})'\n",
    "\n",
    "\n",
    "# Construct a graph cycle\n",
    "one = Graph('one')\n",
    "two = Graph('two')\n",
    "three = Graph('three')\n",
    "one.set_next(two)\n",
    "two.set_next(three)\n",
    "three.set_next(one)\n",
    "\n",
    "#print(one)\n",
    "\n",
    "# Remove references to the graph nodes in this module's namespace\n",
    "one = two = three = None\n",
    "\n",
    "# Show the effect of garbage collection\n",
    "for i in range(2):\n",
    "    print(f'\\nCollecting {i} ...')\n",
    "    n = gc.collect()\n",
    "    print('Unreachable objects:', n)\n",
    "    print('Remaining Garbage:', end=' ')\n",
    "    print(gc.garbage)\n",
    "\n",
    "\n",
    "# In this example, the cycle is cleared as soon as collection runs the first time, \n",
    "# since nothing refers to the Graph nodes except themselves. \n",
    "# collect() returns the number of “unreachable” objects it found. \n",
    "# In this case, the value is 6 because there are three objects with their instance attribute dictionaries.    \n"
   ]
  }
 ],
 "metadata": {
  "kernelspec": {
   "display_name": "Python 3",
   "language": "python",
   "name": "python3"
  },
  "language_info": {
   "codemirror_mode": {
    "name": "ipython",
    "version": 3
   },
   "file_extension": ".py",
   "mimetype": "text/x-python",
   "name": "python",
   "nbconvert_exporter": "python",
   "pygments_lexer": "ipython3",
   "version": "3.11.1"
  },
  "orig_nbformat": 4,
  "vscode": {
   "interpreter": {
    "hash": "5238573367df39f7286bb46f9ff5f08f63a01a80960060ce41e3c79b190280fa"
   }
  }
 },
 "nbformat": 4,
 "nbformat_minor": 2
}
