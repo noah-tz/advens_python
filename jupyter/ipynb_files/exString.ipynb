{
 "cells": [
  {
   "cell_type": "code",
   "execution_count": null,
   "metadata": {},
   "outputs": [],
   "source": [
    "\"\"\"\n",
    "1\n",
    "Write a Python program that accepts a comma-separated sequence of words as input and prints the distinct words in sorted form (alphanumerically).\n",
    "\n",
    "INPUT: red, black, green\n",
    "\n",
    "OUTPUT: black, green,red\n",
    "\"\"\""
   ]
  },
  {
   "cell_type": "code",
   "execution_count": null,
   "metadata": {},
   "outputs": [],
   "source": [
    "def sort_words(string: str) -> str:\n",
    "    \"\"\"AI is creating summary for sort_words\n",
    "\n",
    "    Args:\n",
    "        string (str): [a comma-separated sequence of words]\n",
    "\n",
    "    Returns:\n",
    "        str: [A sequence of sorted words separated by commas]\n",
    "    \"\"\"\n",
    "    list_of_sorted_words = string.split()\n",
    "    list_of_sorted_words[-1] += ',' if list_of_sorted_words[-1][-1] != ',' else ''\n",
    "    list_of_sorted_words.sort()\n",
    "    list_of_sorted_words[-1] = list_of_sorted_words[-1][:-1]\n",
    "    return ' '.join(list_of_sorted_words) # replace to string\n",
    "\n",
    "print(sort_words(\"red, black, green,\"))"
   ]
  },
  {
   "cell_type": "code",
   "execution_count": null,
   "metadata": {},
   "outputs": [],
   "source": [
    "\"\"\"\"\n",
    "2\n",
    "Write a Python program to print the following numbers up to 2 decimal places.\n",
    "INPUT: \n",
    "x = 3.1415926\n",
    "y = 12.9999\n",
    "\n",
    "OUTPUT: \n",
    "Formatted Number:       3.14\n",
    "Formatted Number:      13.00\n",
    "\"\"\""
   ]
  },
  {
   "cell_type": "code",
   "execution_count": null,
   "metadata": {},
   "outputs": [],
   "source": [
    "def split_vector(x: float, y: float) -> float:\n",
    "    \"\"\"AI is creating summary for split_vector\n",
    "\n",
    "    Args:\n",
    "        x (float): [x of vector, for example 3.1415926]\n",
    "        y (float): [y of vector, for example 12.9999]\n",
    "\n",
    "    Returns:\n",
    "        float, float: [splitted numbers, for example (3.14, 13.0)]\n",
    "    \"\"\"\n",
    "    x = round(x, 2)\n",
    "    y = round(y, 2)\n",
    "    return x, y\n",
    "\n",
    "print(split_vector(3.1415926, 12.9999))"
   ]
  },
  {
   "cell_type": "code",
   "execution_count": null,
   "metadata": {},
   "outputs": [],
   "source": [
    "\"\"\"\n",
    "3\n",
    "Write a Python program to display a number with a comma separator.\n",
    "INPUT: \n",
    "x = 3000000\n",
    "y = 30000000\n",
    "\n",
    "OUTPUT: \n",
    "Formatted Number with comma separator: 3,000,000\n",
    "Formatted Number with comma separator: 30,000,000\n",
    "\"\"\""
   ]
  },
  {
   "cell_type": "code",
   "execution_count": null,
   "metadata": {},
   "outputs": [],
   "source": [
    "def display_number_with_comma(number: float) -> str:\n",
    "    \"\"\"AI is creating summary for display_number_with_comma\n",
    "\n",
    "    Args:\n",
    "        number (float): [number to add comma, for example 5000000.01]\n",
    "\n",
    "    Returns:\n",
    "        str: [str of number, with comma, for example 5,000,000.01]\n",
    "    \"\"\"\n",
    "    return \"{:,}\".format(number)\n",
    "\n",
    "print(display_number_with_comma(5000000.01))\n"
   ]
  },
  {
   "cell_type": "code",
   "execution_count": null,
   "metadata": {},
   "outputs": [],
   "source": [
    "\"\"\"\n",
    "4\n",
    "Write a Python program to print the following integers with zeros to the left of the specified width.\n",
    "INPUT: \n",
    "x = 3\n",
    "y = 123\n",
    "\n",
    "OUTPUT: \n",
    "Formatted Number(left padding, width 2): 03\n",
    "Formatted Number(left padding, width 6): 000123\n",
    "\"\"\""
   ]
  },
  {
   "cell_type": "code",
   "execution_count": null,
   "metadata": {},
   "outputs": [],
   "source": [
    "def add_zeros_to_int(number: int, width: int) -> str:\n",
    "    \"\"\"AI is creating summary for add_zeros_to_int:\n",
    "    the program take number, then add zeros to long the width\n",
    "\n",
    "    Args:\n",
    "        number (int): [int to change]\n",
    "        width (int): [width to add zeros]\n",
    "\n",
    "    Returns:\n",
    "        str: [string of number with the zeros]\n",
    "    \"\"\"\n",
    "    return str(number).zfill(width)\n",
    "\n",
    "print(add_zeros_to_int(123, 6))"
   ]
  },
  {
   "cell_type": "code",
   "execution_count": null,
   "metadata": {},
   "outputs": [],
   "source": [
    "\"\"\"\n",
    "5\n",
    "Write a Python program to swap commas and dots in a string.\n",
    "INPUT: \n",
    "32.054,23\n",
    "\n",
    "OUTPUT: \n",
    "32,054.23\n",
    "\"\"\""
   ]
  },
  {
   "cell_type": "code",
   "execution_count": null,
   "metadata": {},
   "outputs": [],
   "source": [
    "def swap_commas_and_dots(str_of_number: str) -> str:\n",
    "    \"\"\"AI is creating summary for swap_commas_and_dots\n",
    "    for example:\n",
    "        input- 32.054,23\n",
    "        output- 32,054.23\n",
    "    first replace ',' to garbage string, then replace '.' to ',', then replace the garbage string to '.'\n",
    "\n",
    "    Args:\n",
    "        str_of_number (str): [string to swap commas and dots]\n",
    "\n",
    "    Returns:\n",
    "        str: [String replaced]\n",
    "    \"\"\"\n",
    "    return str_of_number.replace(',', '#$#^%$&^%*^%*&^$&*$').replace('.', ',').replace('#$#^%$&^%*^%*&^$&*$', '.')\n",
    "\n",
    "\n",
    "print(swap_commas_and_dots(\"32.054,23\"))"
   ]
  },
  {
   "cell_type": "code",
   "execution_count": null,
   "metadata": {},
   "outputs": [],
   "source": [
    "\"\"\"\n",
    "6\n",
    "Write a Python program to compute the sum of the digits in a given string.\n",
    "INPUT: \n",
    "print(sum_digits_string(\"123abcd45\"))\n",
    "print(sum_digits_string(\"abcd1234\"))\n",
    "\n",
    "OUTPUT: \n",
    "15\n",
    "10\n",
    "\"\"\""
   ]
  },
  {
   "cell_type": "code",
   "execution_count": null,
   "metadata": {},
   "outputs": [],
   "source": [
    "def compute_digits_in_str(string: str) -> int:\n",
    "    \"\"\"AI is creating summary for compute_digits_in_str\n",
    "    compute sum all the digits in string.\n",
    "    for example:\n",
    "        input- 123abcd45\n",
    "        output 15\n",
    "\n",
    "    Args:\n",
    "        string (str): [string output]\n",
    "\n",
    "    Returns:\n",
    "        int: [result compute]\n",
    "    \"\"\"\n",
    "    set_of_digits = {'0', '1', '2', '3', '4', '5', '6', '7', '8', '9'}\n",
    "    return sum(int(digit) for digit in string if digit in set_of_digits)\n",
    "\n",
    "print(compute_digits_in_str(\"123abcd45\"))\n",
    "print(compute_digits_in_str(\"abcd1234\"))\n",
    "\n"
   ]
  },
  {
   "cell_type": "code",
   "execution_count": null,
   "metadata": {},
   "outputs": [],
   "source": [
    "\"\"\"\n",
    "7\n",
    "Write a Python program to find the maximum length of consecutive 0's in a given binary string.\n",
    "INPUT: \n",
    "str1 = \"111000010000110\"\n",
    "str2 = \"111000111\"\n",
    "\n",
    "OUTPUT: \n",
    "Original string:111000010000110\n",
    "Maximum length of consecutive 0's: 4\n",
    "\n",
    "Original string:111000111\n",
    "Maximum length of consecutive 0's: 3\n",
    "\"\"\""
   ]
  },
  {
   "cell_type": "code",
   "execution_count": null,
   "metadata": {},
   "outputs": [],
   "source": [
    "def Finds_sequence_of_zeros(binary_string: str) -> int:\n",
    "    \"\"\"AI is creating summary for Finds_sequence_of_zeros:\n",
    "\n",
    "    Args:\n",
    "        binary_string (str): [string of binary number]\n",
    "\n",
    "    Returns:\n",
    "        int: [The longest sequence of zeros in the given string]\n",
    "    \"\"\"\n",
    "    counter_zeros = 0\n",
    "    current_sequence = 0\n",
    "    for binary_number in binary_string:\n",
    "        if not bool(int(binary_number)):\n",
    "            current_sequence += 1\n",
    "            if current_sequence > counter_zeros:\n",
    "                counter_zeros = current_sequence\n",
    "        else:\n",
    "            current_sequence = 0\n",
    "    return counter_zeros\n",
    "\n",
    "print(Finds_sequence_of_zeros(\"111000010000110\"))"
   ]
  },
  {
   "cell_type": "code",
   "execution_count": null,
   "metadata": {},
   "outputs": [],
   "source": [
    "\"\"\"\n",
    "8\n",
    "Write a Python program to find the smallest window that contains all characters in a given string.\n",
    "INPUT: \n",
    "str1 = \"asdaewsqgtwwsa\"\n",
    "\n",
    "OUTPUT: \n",
    "Original Strings: asdaewsqgtwwsa\n",
    "Smallest window that contains all characters of the said string: daewsqgt\n",
    "\"\"\""
   ]
  },
  {
   "cell_type": "code",
   "execution_count": 1,
   "metadata": {},
   "outputs": [
    {
     "name": "stdout",
     "output_type": "stream",
     "text": [
      "abc\n"
     ]
    }
   ],
   "source": [
    "def Finds_short_subarray(string: str) -> str:\n",
    "    \"\"\"AI is creating summary for Finds_short_subarray:\n",
    "    dhe fun need return the sub array that contain all letters that in array\n",
    "    for example:\n",
    "        input- aabcababbaacc\n",
    "        output- abc\n",
    "\n",
    "    Args:\n",
    "        string (str): [string to check]\n",
    "\n",
    "    Returns:\n",
    "        str: [sub array that contain all letters that in array]\n",
    "    \"\"\"\n",
    "    def slicer(string_to_slice: str) -> str:\n",
    "        index = 0\n",
    "        while (\n",
    "            index != len(string_to_slice) -1\n",
    "            and string_to_slice[index] in string_to_slice[index + 1 : len(string_to_slice) + 1]):\n",
    "            index += 1\n",
    "        return string_to_slice[index:]\n",
    "\n",
    "    solution_from_left = slicer(slicer(string)[::-1])[::-1]\n",
    "    solution_from_right = slicer(slicer(string[::-1])[::-1])\n",
    "\n",
    "    return min(solution_from_left, solution_from_right, key=len)\n",
    "\n",
    "string = \"aabcababbaacc\"\n",
    "\n",
    "print(Finds_short_subarray(string))"
   ]
  },
  {
   "cell_type": "code",
   "execution_count": null,
   "metadata": {},
   "outputs": [],
   "source": [
    "\"\"\"\n",
    "9\n",
    "Write a Python program to delete all occurrences of a specified character in a given string.\n",
    "INPUT: \n",
    "str_text = \"Delete all occurrences of a specified character in a given string\"\n",
    "ch = \"a\"\n",
    "\n",
    "OUTPUT: \n",
    "Original string: Delete all occurrences of a specified character in a given string\n",
    "Modified string: Delete ll occurrences of  specified character in  given string\n",
    "\"\"\""
   ]
  },
  {
   "cell_type": "code",
   "execution_count": null,
   "metadata": {},
   "outputs": [],
   "source": [
    "def del_char(string: str, char: str) -> str:\n",
    "    \"\"\"AI is creating summary for del_char\n",
    "\n",
    "    Args:\n",
    "        string (str): [string to change]\n",
    "        char (str): [letter for delete]\n",
    "\n",
    "    Returns:\n",
    "        str: [string without the letter]\n",
    "    \"\"\"\n",
    "    return string.replace(char, '')\n",
    "\n",
    "print(del_char(\"Delete all occurrences of a specified character in a given string\", \"a\"))"
   ]
  },
  {
   "cell_type": "code",
   "execution_count": null,
   "metadata": {},
   "outputs": [],
   "source": [
    "\"\"\"\n",
    "10\n",
    "Write a Python program to convert a hexadecimal color code to a tuple of integers corresponding to its RGB components.\n",
    "Use a list comprehension in combination with int() and list slice notation to get the RGB components from the hexadecimal string.\n",
    "Use tuple() to convert the resulting list to a tuple.\n",
    "\n",
    "INPUT: \n",
    "print(hex_to_rgb(\"FFA501\"))\n",
    "print(hex_to_rgb(\"FFFFFF\"))\n",
    "print(hex_to_rgb(\"000000\"))\n",
    "print(hex_to_rgb(\"FF0000\"))\n",
    "print(hex_to_rgb(\"000080\"))\n",
    "print(hex_to_rgb(\"C0C0C0\"))\n",
    "\n",
    "OUTPUT: \n",
    "(255, 165, 1)\n",
    "(255, 255, 255)\n",
    "(0, 0, 0)\n",
    "(255, 0, 0)\n",
    "(0, 0, 128)\n",
    "(192, 192, 192)\n",
    "\"\"\""
   ]
  },
  {
   "cell_type": "code",
   "execution_count": null,
   "metadata": {},
   "outputs": [],
   "source": [
    "def hex_to_rgb(hex_number: str) -> tuple:\n",
    "    \"\"\"AI is creating summary for hex_to_rgb\n",
    "    - convert string of RGB in format hex to tuple with 3 int\n",
    "\n",
    "    Args:\n",
    "        hex_number (str): [string of RGB in format hex]\n",
    "\n",
    "    Returns:\n",
    "        tuple: [tuple with 3 int of colors]\n",
    "    \"\"\"\n",
    "    assert len(hex_number) == 6, f\"{hex_number} does not have 6 digits\"\n",
    "    return (int(hex_number[:2], 16), int(hex_number[2:4], 16), int(hex_number[4:], 16))\n",
    "\n",
    "print(hex_to_rgb(\"FFA501\"))\n",
    "print(hex_to_rgb(\"FFFFFF\"))\n",
    "print(hex_to_rgb(\"000000\"))\n",
    "print(hex_to_rgb(\"FF0000\"))\n",
    "print(hex_to_rgb(\"000080\"))\n",
    "print(hex_to_rgb(\"C0C0C0\"))"
   ]
  },
  {
   "cell_type": "code",
   "execution_count": null,
   "metadata": {},
   "outputs": [],
   "source": [
    "\"\"\"\n",
    "11\n",
    "Write a Python program to convert the values of RGB components to a hexadecimal color code.\n",
    "Create a placeholder for a zero-padded hexadecimal value using '{:02X}' and copy it three times.\n",
    "Use str.format() on the resulting string to replace the placeholders with the given values.\n",
    "\n",
    "INPUT: \n",
    "print(rgb_to_hex(255, 165, 1))\n",
    "print(rgb_to_hex(255, 255, 255))\n",
    "print(rgb_to_hex(0, 0, 0))\n",
    "print(rgb_to_hex(0, 0, 128))\n",
    "print(rgb_to_hex(192, 192, 192))\n",
    "\n",
    "OUTPUT: \n",
    "FFA501\n",
    "FFFFFF\n",
    "000000\n",
    "000080\n",
    "C0C0C0\n",
    "\"\"\""
   ]
  },
  {
   "cell_type": "code",
   "execution_count": null,
   "metadata": {},
   "outputs": [],
   "source": [
    "def rgb_to_hex(RGB: tuple) -> str:\n",
    "    \"\"\"AI is creating summary for rgb_to_hex:\n",
    "    convert tuple with 3 int to string of RGB in format hex\n",
    "\n",
    "    Args:\n",
    "        RGB (tuple): [tuple with 3 int of colors]\n",
    "\n",
    "    Returns:\n",
    "        str: [string of RGB in format hex]\n",
    "    \"\"\"\n",
    "    return \"\".join(hex(color)[2:].zfill(2).upper() for color in RGB)\n",
    "\n",
    "print(rgb_to_hex((255, 165, 1)))\n",
    "print(rgb_to_hex((255, 255, 255)))\n",
    "print(rgb_to_hex((0, 0, 0)))\n",
    "print(rgb_to_hex((0, 0, 128)))\n",
    "print(rgb_to_hex((192, 192, 192)))"
   ]
  }
 ],
 "metadata": {
  "kernelspec": {
   "display_name": "Python 3",
   "language": "python",
   "name": "python3"
  },
  "language_info": {
   "codemirror_mode": {
    "name": "ipython",
    "version": 3
   },
   "file_extension": ".py",
   "mimetype": "text/x-python",
   "name": "python",
   "nbconvert_exporter": "python",
   "pygments_lexer": "ipython3",
   "version": "3.11.1"
  },
  "orig_nbformat": 4,
  "vscode": {
   "interpreter": {
    "hash": "916dbcbb3f70747c44a77c7bcd40155683ae19c65e1c03b4aa3499c5328201f1"
   }
  }
 },
 "nbformat": 4,
 "nbformat_minor": 2
}
