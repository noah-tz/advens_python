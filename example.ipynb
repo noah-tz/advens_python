{
 "cells": [
  {
   "cell_type": "code",
   "execution_count": 3,
   "metadata": {},
   "outputs": [
    {
     "data": {
      "text/plain": [
       "(5, 6)"
      ]
     },
     "execution_count": 3,
     "metadata": {},
     "output_type": "execute_result"
    }
   ],
   "source": [
    "def find_sub_arr(arr: list[float], x: float) -> list[float]:\n",
    "    for i in range(len(arr)):\n",
    "        for j in range(i, len(arr)):\n",
    "            if sum(arr[i:j +1]) > x:\n",
    "                continue\n",
    "            if sum(arr[i:j +1]) == x:\n",
    "                return i, j\n",
    "    return -1\n",
    "\n",
    "find_sub_arr([10, 20, 15, 24, 211, 11, 5, 14, 88, 1023], 16)\n",
    "            \n"
   ]
  },
  {
   "cell_type": "code",
   "execution_count": null,
   "metadata": {},
   "outputs": [],
   "source": [
    "class Node:\n",
    "    def __init__(self, value: tuple) -> None:\n",
    "        self.value = value\n",
    "        self.next: Node\n",
    "\n",
    "\n",
    "class ListLinked:\n",
    "    def __init__(self, head) -> None:\n",
    "        self.head: Node = head\n",
    "        self.now: Node = head\n",
    "        self.end:Node = head\n",
    "\n",
    "    def go_to(self, index: int):\n",
    "        for _ in range(index -1):\n",
    "            self.next_node()\n",
    "\n",
    "    def next_node(self):\n",
    "        self.now = self.now.next\n",
    "\n",
    "    def push(self, new):\n",
    "        \n",
    "\n",
    "\n",
    "\n",
    "    def find_same_way(self, other: object):\n",
    "\n",
    "\n"
   ]
  }
 ],
 "metadata": {
  "kernelspec": {
   "display_name": "Python 3",
   "language": "python",
   "name": "python3"
  },
  "language_info": {
   "codemirror_mode": {
    "name": "ipython",
    "version": 3
   },
   "file_extension": ".py",
   "mimetype": "text/x-python",
   "name": "python",
   "nbconvert_exporter": "python",
   "pygments_lexer": "ipython3",
   "version": "3.11.2"
  },
  "orig_nbformat": 4,
  "vscode": {
   "interpreter": {
    "hash": "ead1b95f633dc9c51826328e1846203f51a198c6fb5f2884a80417ba131d4e82"
   }
  }
 },
 "nbformat": 4,
 "nbformat_minor": 2
}
