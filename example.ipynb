{
 "cells": [
  {
   "cell_type": "code",
   "execution_count": 3,
   "metadata": {},
   "outputs": [
    {
     "data": {
      "text/plain": [
       "(5, 6)"
      ]
     },
     "execution_count": 3,
     "metadata": {},
     "output_type": "execute_result"
    }
   ],
   "source": [
    "def find_sub_arr(arr: list[float], x: float) -> list[float]:\n",
    "    for i in range(len(arr)):\n",
    "        for j in range(i, len(arr)):\n",
    "            if sum(arr[i:j +1]) > x:\n",
    "                continue\n",
    "            if sum(arr[i:j +1]) == x:\n",
    "                return i, j\n",
    "    return -1\n",
    "\n",
    "find_sub_arr([10, 20, 15, 24, 211, 11, 5, 14, 88, 1023], 16)\n",
    "            \n"
   ]
  },
  {
   "cell_type": "code",
   "execution_count": null,
   "metadata": {},
   "outputs": [],
   "source": [
    "class Node:\n",
    "    def __init__(self, value: tuple) -> None:\n",
    "        self.value = value\n",
    "        self.next: Node\n",
    "\n",
    "\n",
    "class ListLinked:\n",
    "    def __init__(self, head) -> None:\n",
    "        self.head: Node = head\n",
    "        self.now: Node = head\n",
    "        self.end:Node = head\n",
    "\n",
    "    def go_to(self, index: int):\n",
    "        for _ in range(index -1):\n",
    "            self.next_node()\n",
    "\n",
    "    def next_node(self):\n",
    "        self.now = self.now.next\n"
   ]
  },
  {
   "cell_type": "code",
   "execution_count": 8,
   "metadata": {},
   "outputs": [
    {
     "name": "stdout",
     "output_type": "stream",
     "text": [
      "[(1, 'John Doe', '123-456-7890', '2022-03-01', '2022-03-03', 'Shirt, Pants', 25.0, 'Completed')]\n",
      "(1, 'John Doe', '123-456-7890', '2022-03-01', '2022-03-03', 'Shirt, Pants', 25.0, 'Completed')\n"
     ]
    }
   ],
   "source": [
    "import sqlite3\n",
    "\n",
    "class Laundry:\n",
    "    def __init__(self, db_name):\n",
    "        self.conn = sqlite3.connect(db_name)\n",
    "        self.cursor = self.conn.cursor()\n",
    "\n",
    "    def create_table(self):\n",
    "        query = \"\"\"\n",
    "        CREATE TABLE IF NOT EXISTS laundry (\n",
    "            id INTEGER PRIMARY KEY,\n",
    "            customer_name TEXT,\n",
    "            phone_number TEXT,\n",
    "            pickup_date TEXT,\n",
    "            delivery_date TEXT,\n",
    "            items TEXT,\n",
    "            total_price REAL,\n",
    "            status TEXT\n",
    "        )\n",
    "        \"\"\"\n",
    "        self.cursor.execute(query)\n",
    "        self.conn.commit()\n",
    "\n",
    "    def add_order(self, customer_name, phone_number, pickup_date, delivery_date, items, total_price, status):\n",
    "        query = f\"\"\"\n",
    "        INSERT INTO laundry (customer_name, phone_number, pickup_date, delivery_date, items, total_price, status)\n",
    "        VALUES ('{customer_name}', '{phone_number}', '{pickup_date}', '{delivery_date}', '{items}', '{total_price}', '{status}')\n",
    "        \"\"\"\n",
    "        self.cursor.execute(query)\n",
    "        self.conn.commit()\n",
    "\n",
    "    def update_order_status(self, order_id, new_status):\n",
    "        query = f\"\"\"\n",
    "        UPDATE laundry\n",
    "        SET status = '{new_status}'\n",
    "        WHERE id = {order_id}\n",
    "        \"\"\"\n",
    "        self.cursor.execute(query)\n",
    "        self.conn.commit()\n",
    "\n",
    "    def get_all_orders(self):\n",
    "        query = \"SELECT * FROM laundry\"\n",
    "        self.cursor.execute(query)\n",
    "        return self.cursor.fetchall()\n",
    "\n",
    "    def get_order_by_id(self, order_id):\n",
    "        query = f\"SELECT * FROM laundry WHERE id = {order_id}\"\n",
    "        self.cursor.execute(query)\n",
    "        return self.cursor.fetchone()\n",
    "\n",
    "    def delete_order(self, order_id):\n",
    "        query = f\"DELETE FROM laundry WHERE id = {order_id}\"\n",
    "        self.cursor.execute(query)\n",
    "        self.conn.commit()\n",
    "\n",
    "    def close_connection(self):\n",
    "        self.conn.close()\n",
    "\n",
    "db = Laundry(\"laundry_database.db\")\n",
    "\n",
    "# Create table\n",
    "db.create_table()\n",
    "\n",
    "# Add an order\n",
    "db.add_order(\"John Doe\", \"123-456-7890\", \"2022-03-01\", \"2022-03-03\", \"Shirt, Pants\", 25.00, \"Pending\")\n",
    "\n",
    "# Update order status\n",
    "db.update_order_status(1, \"Completed\")\n",
    "\n",
    "# Get all orders\n",
    "orders = db.get_all_orders()\n",
    "print(orders)\n",
    "\n",
    "# Get order by ID\n",
    "order = db.get_order_by_id(1)\n",
    "print(order)\n",
    "\n",
    "# Delete order\n",
    "db.delete_order(1)\n",
    "\n",
    "# Close connection\n",
    "db.close_connection()"
   ]
  }
 ],
 "metadata": {
  "kernelspec": {
   "display_name": "Python 3",
   "language": "python",
   "name": "python3"
  },
  "language_info": {
   "codemirror_mode": {
    "name": "ipython",
    "version": 3
   },
   "file_extension": ".py",
   "mimetype": "text/x-python",
   "name": "python",
   "nbconvert_exporter": "python",
   "pygments_lexer": "ipython3",
   "version": "3.11.2"
  },
  "orig_nbformat": 4,
  "vscode": {
   "interpreter": {
    "hash": "ead1b95f633dc9c51826328e1846203f51a198c6fb5f2884a80417ba131d4e82"
   }
  }
 },
 "nbformat": 4,
 "nbformat_minor": 2
}
